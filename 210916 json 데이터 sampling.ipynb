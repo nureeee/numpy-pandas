{
 "cells": [
  {
   "cell_type": "code",
   "execution_count": 37,
   "id": "4c3ec4bf",
   "metadata": {},
   "outputs": [],
   "source": [
    "import json\n",
    "from tqdm import tqdm_notebook\n",
    "import pandas as pd"
   ]
  },
  {
   "cell_type": "code",
   "execution_count": 156,
   "id": "7a4a314f",
   "metadata": {
    "scrolled": false
   },
   "outputs": [],
   "source": [
    "with open(\".json\", 'r', encoding='utf-8') as new_file:\n",
    "    data = json.load(new_file, strict=False)"
   ]
  },
  {
   "cell_type": "code",
   "execution_count": 157,
   "id": "b7476031",
   "metadata": {},
   "outputs": [],
   "source": [
    "src = []\n",
    "for i in range(len(data['data'])):\n",
    "    for j in range(len(data['data'][i]['body'])):\n",
    "        if len(data['data'][i]['body'][j]['utterance'].split(' ')) > 5:\n",
    "            src.append(data['data'][i]['body'][j]['utterance'])"
   ]
  },
  {
   "cell_type": "code",
   "execution_count": 192,
   "id": "b0f0919b",
   "metadata": {
    "scrolled": false
   },
   "outputs": [
    {
     "data": {
      "text/plain": [
       "['그럼 저녁 같이 해요 #@이름#, 뭐 먹고싶니?',\n",
       " '오빠 일하는 날은 그게 젤 낫긴하지~',\n",
       " '#@이름# 나도 금요일 11시에 오케 연습 급 잡혔다.... 금요일은 안될 운명이었나 ㅋㅋ',\n",
       " '여보야 오늘 저녁식사 약속이 있네;; 3시쯤 갈까?',\n",
       " '오늘은 헤어지기 전에 1번자세 하고 집에가기 그리고 여자친구 안아주기',\n",
       " '그럼 시애틀에서 일본가는티켓이랑 한국가는티켓 둘다받을수잇는거냐 물어봐',\n",
       " '요일 잘 맞춰서 보면 일찍부터 볼 수 있ㅋㅋㅋ',\n",
       " '일산에 있는 사람들은 병원 택시승강장에서 만나서 가면 될 것 같고',\n",
       " '빨래 다 개고 영화 보면서 빨래 짜지는 거 기다리는 중ㅋㅋ',\n",
       " '너 전주가기 전에 현지인 맛집 알려줄게']"
      ]
     },
     "execution_count": 192,
     "metadata": {},
     "output_type": "execute_result"
    }
   ],
   "source": [
    "import random\n",
    "src_sam = random.sample(src, 10)\n",
    "src_sam"
   ]
  },
  {
   "cell_type": "code",
   "execution_count": 193,
   "id": "8ce5d8eb",
   "metadata": {},
   "outputs": [],
   "source": [
    "src_sam_8 = src_sam"
   ]
  },
  {
   "cell_type": "code",
   "execution_count": 194,
   "id": "bccd0619",
   "metadata": {},
   "outputs": [],
   "source": [
    "df = pd.DataFrame(data=src_sam+src_sam_0+src_sam_1+src_sam_2+src_sam_3+src_sam_4+src_sam_5+src_sam_6+src_sam_7+src_sam_8, columns=['src'])"
   ]
  },
  {
   "cell_type": "code",
   "execution_count": 196,
   "id": "bb612ae6",
   "metadata": {},
   "outputs": [],
   "source": [
    "df['tgt'] = ''"
   ]
  },
  {
   "cell_type": "code",
   "execution_count": 204,
   "id": "d1421831",
   "metadata": {},
   "outputs": [],
   "source": [
    "df.to_csv('0.csv', encoding='utf-8-sig')"
   ]
  }
 ],
 "metadata": {
  "kernelspec": {
   "display_name": "Python 3",
   "language": "python",
   "name": "python3"
  },
  "language_info": {
   "codemirror_mode": {
    "name": "ipython",
    "version": 3
   },
   "file_extension": ".py",
   "mimetype": "text/x-python",
   "name": "python",
   "nbconvert_exporter": "python",
   "pygments_lexer": "ipython3",
   "version": "3.8.10"
  }
 },
 "nbformat": 4,
 "nbformat_minor": 5
}
