{
  "nbformat": 4,
  "nbformat_minor": 0,
  "metadata": {
    "colab": {
      "name": "210601_오전수업_넘파이.ipynb",
      "provenance": [],
      "authorship_tag": "ABX9TyOj0BQWjjp482/5ZNoAUWWo",
      "include_colab_link": true
    },
    "kernelspec": {
      "name": "python3",
      "display_name": "Python 3"
    },
    "language_info": {
      "name": "python"
    }
  },
  "cells": [
    {
      "cell_type": "markdown",
      "metadata": {
        "id": "view-in-github",
        "colab_type": "text"
      },
      "source": [
        "<a href=\"https://colab.research.google.com/github/nureeee/numpy-pandas/blob/main/210601_%EC%98%A4%EC%A0%84%EC%88%98%EC%97%85_%EB%84%98%ED%8C%8C%EC%9D%B4.ipynb\" target=\"_parent\"><img src=\"https://colab.research.google.com/assets/colab-badge.svg\" alt=\"Open In Colab\"/></a>"
      ]
    },
    {
      "cell_type": "markdown",
      "metadata": {
        "id": "_lY6oTLeJhRV"
      },
      "source": [
        "### numpy 기초"
      ]
    },
    {
      "cell_type": "code",
      "metadata": {
        "id": "pIb4hhFvJhhm"
      },
      "source": [
        "import numpy as np"
      ],
      "execution_count": 6,
      "outputs": []
    },
    {
      "cell_type": "markdown",
      "metadata": {
        "id": "zc9dCmw_J7UQ"
      },
      "source": [
        "py_list = [1, 2, 3]\n",
        "arr1 = np.array(py_list)\n",
        "arr1"
      ]
    },
    {
      "cell_type": "markdown",
      "metadata": {
        "id": "ipzwILLzMX-e"
      },
      "source": [
        "### np.full\n"
      ]
    },
    {
      "cell_type": "code",
      "metadata": {
        "colab": {
          "base_uri": "https://localhost:8080/"
        },
        "id": "Uog4Ds23LBmf",
        "outputId": "445c113f-9e22-443e-d6ed-33319de2aa92"
      },
      "source": [
        "np.ones((2, 3))*5"
      ],
      "execution_count": 7,
      "outputs": [
        {
          "output_type": "execute_result",
          "data": {
            "text/plain": [
              "array([[5., 5., 5.],\n",
              "       [5., 5., 5.]])"
            ]
          },
          "metadata": {
            "tags": []
          },
          "execution_count": 7
        }
      ]
    },
    {
      "cell_type": "code",
      "metadata": {
        "colab": {
          "base_uri": "https://localhost:8080/"
        },
        "id": "IiNVgmmeMldH",
        "outputId": "6ae907f4-e518-4666-b167-c4155e9b30bd"
      },
      "source": [
        "np.full((2, 3), 5)"
      ],
      "execution_count": 8,
      "outputs": [
        {
          "output_type": "execute_result",
          "data": {
            "text/plain": [
              "array([[5, 5, 5],\n",
              "       [5, 5, 5]])"
            ]
          },
          "metadata": {
            "tags": []
          },
          "execution_count": 8
        }
      ]
    },
    {
      "cell_type": "code",
      "metadata": {
        "colab": {
          "base_uri": "https://localhost:8080/"
        },
        "id": "SEF376VaMpX3",
        "outputId": "04795208-8d03-4981-86cf-1329f7a63c3e"
      },
      "source": [
        "np.zeros((2, 3)) ## 딥러닝이나 머신러닝에서 편향 초기값"
      ],
      "execution_count": 10,
      "outputs": [
        {
          "output_type": "execute_result",
          "data": {
            "text/plain": [
              "array([[0., 0., 0.],\n",
              "       [0., 0., 0.]])"
            ]
          },
          "metadata": {
            "tags": []
          },
          "execution_count": 10
        }
      ]
    },
    {
      "cell_type": "markdown",
      "metadata": {
        "id": "ymbga5PAM6k5"
      },
      "source": [
        "### 점구간 만들기\n",
        "  * 시각화에서 선을 긋는 용도로 사용한다.\n",
        "  "
      ]
    },
    {
      "cell_type": "code",
      "metadata": {
        "colab": {
          "base_uri": "https://localhost:8080/"
        },
        "id": "_29e1LRHMtqX",
        "outputId": "66148f6d-ed1a-4881-a9c8-233cc4de5919"
      },
      "source": [
        "np.linspace(1, 10, 3) ## 1부터 10까지 3개의 수를 균일된 구간으로 만든다. --> 2개의 구간을 생성                    "
      ],
      "execution_count": 11,
      "outputs": [
        {
          "output_type": "execute_result",
          "data": {
            "text/plain": [
              "array([ 1. ,  5.5, 10. ])"
            ]
          },
          "metadata": {
            "tags": []
          },
          "execution_count": 11
        }
      ]
    },
    {
      "cell_type": "code",
      "metadata": {
        "colab": {
          "base_uri": "https://localhost:8080/"
        },
        "id": "_cOgtl2eNF-_",
        "outputId": "4d951f40-fa51-451f-fe44-d0a8ed76f640"
      },
      "source": [
        "np.linspace(1, 10, 5)"
      ],
      "execution_count": 12,
      "outputs": [
        {
          "output_type": "execute_result",
          "data": {
            "text/plain": [
              "array([ 1.  ,  3.25,  5.5 ,  7.75, 10.  ])"
            ]
          },
          "metadata": {
            "tags": []
          },
          "execution_count": 12
        }
      ]
    },
    {
      "cell_type": "markdown",
      "metadata": {
        "id": "-dIfQERvNjGz"
      },
      "source": [
        "### Random\n",
        " * 랜덤 배열은 딥러닝에서 매개변수 (' 가중치 ', '편향')을 초기화 하기  위해서 사용\n",
        " * 초기화 : 최초에 가지고 있는 값을 만드는 과정\n",
        " * 생성자 : 객체 초기화 매소드\n",
        "    -크래스를 이용해서 객체를 만들 때 객채가 처음 가지고 있어야 하는 값을 세팅하는 값"
      ]
    },
    {
      "cell_type": "markdown",
      "metadata": {
        "id": "UYHQTvR5Tlz3"
      },
      "source": [
        "## 완전 랜덤\n",
        "* np.random.rand : 정규 분포나 균등분포가 아닌 완벽한 랜덤"
      ]
    },
    {
      "cell_type": "code",
      "metadata": {
        "colab": {
          "base_uri": "https://localhost:8080/"
        },
        "id": "FoaXhpWoNgqm",
        "outputId": "f9547e93-7c72-4e7a-f9c9-ad6526c7e280"
      },
      "source": [
        " np.random.rand(2, 3)"
      ],
      "execution_count": 13,
      "outputs": [
        {
          "output_type": "execute_result",
          "data": {
            "text/plain": [
              "array([[0.61499295, 0.91641651, 0.62913558],\n",
              "       [0.57462038, 0.84283607, 0.17669336]])"
            ]
          },
          "metadata": {
            "tags": []
          },
          "execution_count": 13
        }
      ]
    },
    {
      "cell_type": "code",
      "metadata": {
        "colab": {
          "base_uri": "https://localhost:8080/"
        },
        "id": "0S3tLOWbT1cm",
        "outputId": "1133fdbb-fa57-4bfc-d614-08ccfecd60c1"
      },
      "source": [
        " np.random.rand(2, 3, 4)"
      ],
      "execution_count": 14,
      "outputs": [
        {
          "output_type": "execute_result",
          "data": {
            "text/plain": [
              "array([[[0.93329618, 0.2001906 , 0.6943016 , 0.02162291],\n",
              "        [0.12129182, 0.58139346, 0.31097282, 0.13762525],\n",
              "        [0.48375319, 0.64973198, 0.48688298, 0.73259726]],\n",
              "\n",
              "       [[0.77501437, 0.19303057, 0.55912562, 0.99292152],\n",
              "        [0.20830322, 0.17459091, 0.95629296, 0.32064949],\n",
              "        [0.59577099, 0.18103724, 0.31373277, 0.59046623]]])"
            ]
          },
          "metadata": {
            "tags": []
          },
          "execution_count": 14
        }
      ]
    },
    {
      "cell_type": "markdown",
      "metadata": {
        "id": "PYQXdL22T62m"
      },
      "source": [
        "## 정규분포 랜덤 만들기\n",
        "* np.random.randn\n"
      ]
    },
    {
      "cell_type": "code",
      "metadata": {
        "colab": {
          "base_uri": "https://localhost:8080/"
        },
        "id": "SHGWHsZRUDC1",
        "outputId": "aa3b7d96-5a8e-4cb1-ffea-c3ff84b754cb"
      },
      "source": [
        "np.random.randn(16)"
      ],
      "execution_count": 16,
      "outputs": [
        {
          "output_type": "execute_result",
          "data": {
            "text/plain": [
              "array([-1.08705739,  1.10649373,  1.90127571,  0.54764424, -0.37489545,\n",
              "        0.36256714,  1.25987766,  0.71891592, -1.54784625,  0.05822709,\n",
              "       -1.02986163,  1.202636  ,  0.76784972,  0.46993799, -1.62727867,\n",
              "        0.61843244])"
            ]
          },
          "metadata": {
            "tags": []
          },
          "execution_count": 16
        }
      ]
    },
    {
      "cell_type": "code",
      "metadata": {
        "colab": {
          "base_uri": "https://localhost:8080/"
        },
        "id": "wvaCmkLOUctl",
        "outputId": "d520addd-51be-4e8c-9150-78379d2031b5"
      },
      "source": [
        "np.random.randn(2, 3, 4)"
      ],
      "execution_count": 17,
      "outputs": [
        {
          "output_type": "execute_result",
          "data": {
            "text/plain": [
              "array([[[ 1.6414566 , -1.15357886, -0.2933396 , -1.33523377],\n",
              "        [ 1.4560713 , -3.03511176,  0.30989906, -0.05664192],\n",
              "        [-0.48873687,  0.853081  , -0.15873939,  1.19938963]],\n",
              "\n",
              "       [[ 0.2075203 ,  0.07445718,  0.80778006, -1.15824117],\n",
              "        [-2.1232969 , -1.43293132, -0.65575229, -1.18925492],\n",
              "        [-0.45222181, -1.78278571, -1.60928829, -0.02172523]]])"
            ]
          },
          "metadata": {
            "tags": []
          },
          "execution_count": 17
        }
      ]
    },
    {
      "cell_type": "markdown",
      "metadata": {
        "id": "QUXCb6_kUxkY"
      },
      "source": [
        "## 균등분포\n",
        "\n",
        " * np.random.uniform"
      ]
    },
    {
      "cell_type": "code",
      "metadata": {
        "colab": {
          "base_uri": "https://localhost:8080/"
        },
        "id": "SbBD4ZTCUuH1",
        "outputId": "3072ba5e-f6b5-4175-dc70-5ded6500c145"
      },
      "source": [
        "np.random.uniform(1.0, 3.0, size=(3, 4))"
      ],
      "execution_count": 18,
      "outputs": [
        {
          "output_type": "execute_result",
          "data": {
            "text/plain": [
              "array([[1.5224676 , 1.93428562, 2.36591608, 2.46072311],\n",
              "       [1.32206899, 1.66099454, 1.53842967, 2.44917451],\n",
              "       [2.8386483 , 1.45137414, 1.25483727, 2.74320192]])"
            ]
          },
          "metadata": {
            "tags": []
          },
          "execution_count": 18
        }
      ]
    },
    {
      "cell_type": "markdown",
      "metadata": {
        "id": "VABQVgZ9VjR3"
      },
      "source": [
        "## 정수 랜덤 샘플링\n",
        " * 'np.random.choice'\n",
        " * 샘플링 : 전체에서 일부를 추출하는 행위\n",
        " *딥러인엥서는 mini-batch를 만듣ㄹ 때 사용\n",
        " "
      ]
    },
    {
      "cell_type": "code",
      "metadata": {
        "colab": {
          "base_uri": "https://localhost:8080/"
        },
        "id": "g6tcYhk3VIh1",
        "outputId": "579f725d-303c-491a-a2fc-11cd1cca0f6e"
      },
      "source": [
        "np.random.choice(10, size=(2, 3))  ## 0~9까지의 정수를 랜덤하게 (2, 3) 배열 형태로 추출"
      ],
      "execution_count": 20,
      "outputs": [
        {
          "output_type": "execute_result",
          "data": {
            "text/plain": [
              "array([[3, 7, 8],\n",
              "       [5, 9, 6]])"
            ]
          },
          "metadata": {
            "tags": []
          },
          "execution_count": 20
        }
      ]
    },
    {
      "cell_type": "code",
      "metadata": {
        "colab": {
          "base_uri": "https://localhost:8080/"
        },
        "id": "Z_Sx0kvWWQHF",
        "outputId": "16daf4ee-5862-4a8b-c033-1a5ac92567b0"
      },
      "source": [
        "## 배열 내에서도 랜덤 추출이 가능하다\n",
        "\n",
        "arr = np.arange(1, 6)\n",
        "np.random.choice(arr, size=(2, 3))"
      ],
      "execution_count": 21,
      "outputs": [
        {
          "output_type": "execute_result",
          "data": {
            "text/plain": [
              "array([[4, 5, 5],\n",
              "       [2, 5, 2]])"
            ]
          },
          "metadata": {
            "tags": []
          },
          "execution_count": 21
        }
      ]
    },
    {
      "cell_type": "code",
      "metadata": {
        "colab": {
          "base_uri": "https://localhost:8080/"
        },
        "id": "vgWAp-3iWsmF",
        "outputId": "a77cefd7-863d-474d-95d5-ea8932c29147"
      },
      "source": [
        "## 중복추출x\n",
        "np.random.choice(arr, size=(2, 2), replace=False)"
      ],
      "execution_count": 22,
      "outputs": [
        {
          "output_type": "execute_result",
          "data": {
            "text/plain": [
              "array([[5, 4],\n",
              "       [3, 1]])"
            ]
          },
          "metadata": {
            "tags": []
          },
          "execution_count": 22
        }
      ]
    },
    {
      "cell_type": "code",
      "metadata": {
        "id": "w8Cj9X8NW5Wt"
      },
      "source": [
        "np.random.choice(arr, size=(2, 3), replace=False)  ## 중복추출이 안되기 때문에 에러 발생"
      ],
      "execution_count": null,
      "outputs": []
    },
    {
      "cell_type": "markdown",
      "metadata": {
        "id": "Vc9zEkQxXG1R"
      },
      "source": [
        "## 랜덤 정수 배열 만들기\n",
        " * np.random.randint"
      ]
    },
    {
      "cell_type": "code",
      "metadata": {
        "colab": {
          "base_uri": "https://localhost:8080/"
        },
        "id": "S1_U9JRPW7ft",
        "outputId": "3c33bb3e-25b3-4f94-f8ce-cdbeb238dcaa"
      },
      "source": [
        "arr1 = np.random.randint(1, 100, size=(5, ))\n",
        "arr1"
      ],
      "execution_count": 27,
      "outputs": [
        {
          "output_type": "execute_result",
          "data": {
            "text/plain": [
              "array([54, 55, 68, 79, 75])"
            ]
          },
          "metadata": {
            "tags": []
          },
          "execution_count": 27
        }
      ]
    },
    {
      "cell_type": "code",
      "metadata": {
        "colab": {
          "base_uri": "https://localhost:8080/"
        },
        "id": "_j-JL_VtXWIN",
        "outputId": "b0f1ac8e-07cd-48dc-9545-ef208df337b3"
      },
      "source": [
        "arr2 = np.random.randint(1, 100, size=(5, 1))\n",
        "arr2\n"
      ],
      "execution_count": 28,
      "outputs": [
        {
          "output_type": "execute_result",
          "data": {
            "text/plain": [
              "array([[93],\n",
              "       [40],\n",
              "       [76],\n",
              "       [37],\n",
              "       [ 8]])"
            ]
          },
          "metadata": {
            "tags": []
          },
          "execution_count": 28
        }
      ]
    },
    {
      "cell_type": "markdown",
      "metadata": {
        "id": "lLASqmiUXnBi"
      },
      "source": [
        "## 다차원 배열에 대한 내용\n",
        " * notion에 설명 2_1 행열에 자세히 나와있음"
      ]
    },
    {
      "cell_type": "code",
      "metadata": {
        "colab": {
          "base_uri": "https://localhost:8080/"
        },
        "id": "nV2AvER0ZrhM",
        "outputId": "735ad507-4c08-4a3c-ff2e-5f25403cb6de"
      },
      "source": [
        "## 행벡터의 모양을 하고 있지만 1차원 배열이기 때문에 열벡터로 따져야 한다\n",
        "h_1 = np.array([180.1, 174.5, 163.3])\n",
        "h_1"
      ],
      "execution_count": 29,
      "outputs": [
        {
          "output_type": "execute_result",
          "data": {
            "text/plain": [
              "array([180.1, 174.5, 163.3])"
            ]
          },
          "metadata": {
            "tags": []
          },
          "execution_count": 29
        }
      ]
    },
    {
      "cell_type": "code",
      "metadata": {
        "colab": {
          "base_uri": "https://localhost:8080/"
        },
        "id": "-7N25JYTZ9RV",
        "outputId": "e3cf7039-8e56-44ef-c291-2d618db1e552"
      },
      "source": [
        "h_2 = np.array([[180.2],\n",
        "               [175.5], [163.3]])\n",
        "\n",
        "h_2"
      ],
      "execution_count": 31,
      "outputs": [
        {
          "output_type": "execute_result",
          "data": {
            "text/plain": [
              "array([[180.2],\n",
              "       [175.5],\n",
              "       [163.3]])"
            ]
          },
          "metadata": {
            "tags": []
          },
          "execution_count": 31
        }
      ]
    },
    {
      "cell_type": "markdown",
      "metadata": {
        "id": "DWW633r8c1ac"
      },
      "source": [
        "## 행열\n",
        " * 2차원 배열\n",
        " * 1차원 배열인 벡터가 여러 개 모여 있는 것 \n"
      ]
    },
    {
      "cell_type": "markdown",
      "metadata": {
        "id": "BSfKsX74dOLA"
      },
      "source": [
        "## 텐서 \n",
        "* 3ㅏ차원이상의 배열을 의미한다\n",
        "* 3차원 배열은 2차원 배열리 모여있다\n",
        "* 4차원 배열은 3차원 배열이 모여있다\n",
        "* N차원 배욜을 그냥 텐서라고 한다\n",
        "* 텐서의 개념을 활용히면 모든 배열의 모양을 이야기 할 수 있다.\n",
        "\n",
        "* tensorflow는 \n",
        "* 구글에서 제공하는 딥러닝 프레임워크"
      ]
    },
    {
      "cell_type": "code",
      "metadata": {
        "colab": {
          "base_uri": "https://localhost:8080/"
        },
        "id": "QCbBLpMSjLNT",
        "outputId": "61ecf19b-beb9-4ca0-8d6b-1f3bc67826e5"
      },
      "source": [
        "arr = np.arange(1, 37).reshape(3, 4, 3)\n",
        "arr"
      ],
      "execution_count": 32,
      "outputs": [
        {
          "output_type": "execute_result",
          "data": {
            "text/plain": [
              "array([[[ 1,  2,  3],\n",
              "        [ 4,  5,  6],\n",
              "        [ 7,  8,  9],\n",
              "        [10, 11, 12]],\n",
              "\n",
              "       [[13, 14, 15],\n",
              "        [16, 17, 18],\n",
              "        [19, 20, 21],\n",
              "        [22, 23, 24]],\n",
              "\n",
              "       [[25, 26, 27],\n",
              "        [28, 29, 30],\n",
              "        [31, 32, 33],\n",
              "        [34, 35, 36]]])"
            ]
          },
          "metadata": {
            "tags": []
          },
          "execution_count": 32
        }
      ]
    },
    {
      "cell_type": "code",
      "metadata": {
        "colab": {
          "base_uri": "https://localhost:8080/"
        },
        "id": "v74hQqKQk01z",
        "outputId": "b80a1f9d-d7c4-46b4-bc9d-f23874608524"
      },
      "source": [
        "arr[:, 1:3, 1:]  ## [axis=0, axis=1, axis=2]"
      ],
      "execution_count": 33,
      "outputs": [
        {
          "output_type": "execute_result",
          "data": {
            "text/plain": [
              "array([[[ 5,  6],\n",
              "        [ 8,  9]],\n",
              "\n",
              "       [[17, 18],\n",
              "        [20, 21]],\n",
              "\n",
              "       [[29, 30],\n",
              "        [32, 33]]])"
            ]
          },
          "metadata": {
            "tags": []
          },
          "execution_count": 33
        }
      ]
    },
    {
      "cell_type": "code",
      "metadata": {
        "colab": {
          "base_uri": "https://localhost:8080/"
        },
        "id": "96L_ovnuk87y",
        "outputId": "71b9d32e-01b1-428f-ffdb-1825ee7281a2"
      },
      "source": [
        "arr = np.arange(36).reshape(2, 3, 3, 2)\n",
        "arr"
      ],
      "execution_count": 35,
      "outputs": [
        {
          "output_type": "execute_result",
          "data": {
            "text/plain": [
              "array([[[[ 0,  1],\n",
              "         [ 2,  3],\n",
              "         [ 4,  5]],\n",
              "\n",
              "        [[ 6,  7],\n",
              "         [ 8,  9],\n",
              "         [10, 11]],\n",
              "\n",
              "        [[12, 13],\n",
              "         [14, 15],\n",
              "         [16, 17]]],\n",
              "\n",
              "\n",
              "       [[[18, 19],\n",
              "         [20, 21],\n",
              "         [22, 23]],\n",
              "\n",
              "        [[24, 25],\n",
              "         [26, 27],\n",
              "         [28, 29]],\n",
              "\n",
              "        [[30, 31],\n",
              "         [32, 33],\n",
              "         [34, 35]]]])"
            ]
          },
          "metadata": {
            "tags": []
          },
          "execution_count": 35
        }
      ]
    },
    {
      "cell_type": "code",
      "metadata": {
        "colab": {
          "base_uri": "https://localhost:8080/"
        },
        "id": "iR3Cyp7kmOgp",
        "outputId": "2ecc1dbd-fc8a-452f-b3b9-60d35f2bf923"
      },
      "source": [
        "arr[0, :, :, 0]"
      ],
      "execution_count": 36,
      "outputs": [
        {
          "output_type": "execute_result",
          "data": {
            "text/plain": [
              "array([[ 0,  2,  4],\n",
              "       [ 6,  8, 10],\n",
              "       [12, 14, 16]])"
            ]
          },
          "metadata": {
            "tags": []
          },
          "execution_count": 36
        }
      ]
    },
    {
      "cell_type": "code",
      "metadata": {
        "colab": {
          "base_uri": "https://localhost:8080/"
        },
        "id": "YMB-HBzkmWn6",
        "outputId": "e53f83f6-d010-43c6-d02c-f6683872cb94"
      },
      "source": [
        "arr[0, ..., 0]  ## 중간 값을 전부 선택할 때"
      ],
      "execution_count": 37,
      "outputs": [
        {
          "output_type": "execute_result",
          "data": {
            "text/plain": [
              "array([[ 0,  2,  4],\n",
              "       [ 6,  8, 10],\n",
              "       [12, 14, 16]])"
            ]
          },
          "metadata": {
            "tags": []
          },
          "execution_count": 37
        }
      ]
    },
    {
      "cell_type": "markdown",
      "metadata": {
        "id": "WHjwLKO4nhWN"
      },
      "source": [
        "### 차원 추가 ( 차원 수 확장)"
      ]
    },
    {
      "cell_type": "code",
      "metadata": {
        "colab": {
          "base_uri": "https://localhost:8080/"
        },
        "id": "BrD_VdiymZWS",
        "outputId": "2383f9eb-e644-4bf8-a57b-8cdaf8e88ccd"
      },
      "source": [
        "arr = np.random.rand(28, 28)\n",
        "arr.shape"
      ],
      "execution_count": 38,
      "outputs": [
        {
          "output_type": "execute_result",
          "data": {
            "text/plain": [
              "(28, 28)"
            ]
          },
          "metadata": {
            "tags": []
          },
          "execution_count": 38
        }
      ]
    },
    {
      "cell_type": "code",
      "metadata": {
        "colab": {
          "base_uri": "https://localhost:8080/"
        },
        "id": "6mqoTXpwoK-i",
        "outputId": "3e719a5f-4656-409f-862f-ef5e147dc812"
      },
      "source": [
        "temp_arr = arr[np.newaxis, :, :,np.newaxis]\n",
        "temp_arr.shape"
      ],
      "execution_count": 39,
      "outputs": [
        {
          "output_type": "execute_result",
          "data": {
            "text/plain": [
              "(1, 28, 28, 1)"
            ]
          },
          "metadata": {
            "tags": []
          },
          "execution_count": 39
        }
      ]
    },
    {
      "cell_type": "code",
      "metadata": {
        "colab": {
          "base_uri": "https://localhost:8080/"
        },
        "id": "7td6uc9dodKR",
        "outputId": "abd7315b-9e64-487c-f7de-1d06395d46c3"
      },
      "source": [
        "temp_arr = arr[np.newaxis, ...,np.newaxis]\n",
        "temp_arr.shape"
      ],
      "execution_count": 40,
      "outputs": [
        {
          "output_type": "execute_result",
          "data": {
            "text/plain": [
              "(1, 28, 28, 1)"
            ]
          },
          "metadata": {
            "tags": []
          },
          "execution_count": 40
        }
      ]
    },
    {
      "cell_type": "markdown",
      "metadata": {
        "id": "1eCJjVVaopTW"
      },
      "source": [
        "## 차원 쥐어 짜기\n",
        "* np.squeeze\n",
        "* 개수가 1인 차원의 내용을 없애는 기법"
      ]
    },
    {
      "cell_type": "code",
      "metadata": {
        "colab": {
          "base_uri": "https://localhost:8080/"
        },
        "id": "veceB9jzog75",
        "outputId": "0c425d75-e46a-4e91-b219-ec6068552050"
      },
      "source": [
        "temp_arr.shape"
      ],
      "execution_count": 42,
      "outputs": [
        {
          "output_type": "execute_result",
          "data": {
            "text/plain": [
              "(1, 28, 28, 1)"
            ]
          },
          "metadata": {
            "tags": []
          },
          "execution_count": 42
        }
      ]
    },
    {
      "cell_type": "code",
      "metadata": {
        "colab": {
          "base_uri": "https://localhost:8080/"
        },
        "id": "ElqFdqRcoleR",
        "outputId": "bfca4660-6758-4dbb-a99a-6ee9f00e0e5a"
      },
      "source": [
        "temp_squeeze = np.squeeze(temp_arr)\n",
        "temp_squeeze.shape"
      ],
      "execution_count": 43,
      "outputs": [
        {
          "output_type": "execute_result",
          "data": {
            "text/plain": [
              "(28, 28)"
            ]
          },
          "metadata": {
            "tags": []
          },
          "execution_count": 43
        }
      ]
    },
    {
      "cell_type": "markdown",
      "metadata": {
        "id": "V1W1XdntpSEN"
      },
      "source": [
        "## 평탄화\n",
        "* 2차원 이상의 배열을 1차원 배열로 평평하게 펴주는 것 !!!!!!!!( 중요)\n",
        "* ravel : 원본 배열을 평탄화 시킨 참조 배열을 만들어 낸다\n",
        "* flatten : 원본배열을 평탄화 시킨 복사된 배열을 만들어 낸다"
      ]
    },
    {
      "cell_type": "code",
      "metadata": {
        "colab": {
          "base_uri": "https://localhost:8080/"
        },
        "id": "MX5Drl9TpE0Y",
        "outputId": "44bdd172-6c51-4b86-e3c0-9431d0e5cf88"
      },
      "source": [
        "x = np.random.randint(15, size=(3, 5))\n",
        "x.shape"
      ],
      "execution_count": 44,
      "outputs": [
        {
          "output_type": "execute_result",
          "data": {
            "text/plain": [
              "(3, 5)"
            ]
          },
          "metadata": {
            "tags": []
          },
          "execution_count": 44
        }
      ]
    },
    {
      "cell_type": "code",
      "metadata": {
        "colab": {
          "base_uri": "https://localhost:8080/"
        },
        "id": "6nj3nnrWp2wZ",
        "outputId": "383b0777-391b-4122-b111-f995765a45c2"
      },
      "source": [
        "x"
      ],
      "execution_count": 45,
      "outputs": [
        {
          "output_type": "execute_result",
          "data": {
            "text/plain": [
              "array([[10,  2, 10,  9, 12],\n",
              "       [ 1,  3,  6,  3,  9],\n",
              "       [ 9,  1, 12,  5,  2]])"
            ]
          },
          "metadata": {
            "tags": []
          },
          "execution_count": 45
        }
      ]
    },
    {
      "cell_type": "markdown",
      "metadata": {
        "id": "lUSmJK04qSng"
      },
      "source": [
        "### ravel"
      ]
    },
    {
      "cell_type": "code",
      "metadata": {
        "colab": {
          "base_uri": "https://localhost:8080/"
        },
        "id": "V1w44b11p6Tp",
        "outputId": "85e46fde-f0c3-4a4e-93d3-76db0d69a758"
      },
      "source": [
        "temp = np.ravel(x)  ## 보이기만 평평하게 보여준다\n",
        "temp.shape"
      ],
      "execution_count": 47,
      "outputs": [
        {
          "output_type": "execute_result",
          "data": {
            "text/plain": [
              "(15,)"
            ]
          },
          "metadata": {
            "tags": []
          },
          "execution_count": 47
        }
      ]
    },
    {
      "cell_type": "code",
      "metadata": {
        "colab": {
          "base_uri": "https://localhost:8080/"
        },
        "id": "zxL0gNaBp_r4",
        "outputId": "2f0d5e27-2758-423c-ef95-2d061c180ff8"
      },
      "source": [
        "temp"
      ],
      "execution_count": 48,
      "outputs": [
        {
          "output_type": "execute_result",
          "data": {
            "text/plain": [
              "array([10,  2, 10,  9, 12,  1,  3,  6,  3,  9,  9,  1, 12,  5,  2])"
            ]
          },
          "metadata": {
            "tags": []
          },
          "execution_count": 48
        }
      ]
    },
    {
      "cell_type": "code",
      "metadata": {
        "colab": {
          "base_uri": "https://localhost:8080/"
        },
        "id": "3b6elILBqBgw",
        "outputId": "99734ed2-d589-43df-d809-e9367dc66237"
      },
      "source": [
        "temp[0] = 100\n",
        "temp"
      ],
      "execution_count": 49,
      "outputs": [
        {
          "output_type": "execute_result",
          "data": {
            "text/plain": [
              "array([100,   2,  10,   9,  12,   1,   3,   6,   3,   9,   9,   1,  12,\n",
              "         5,   2])"
            ]
          },
          "metadata": {
            "tags": []
          },
          "execution_count": 49
        }
      ]
    },
    {
      "cell_type": "code",
      "metadata": {
        "colab": {
          "base_uri": "https://localhost:8080/"
        },
        "id": "sicIuWJKqGkg",
        "outputId": "227ce10e-174e-4a64-ce76-2506da3711c8"
      },
      "source": [
        "x  ## temp의 값과 x의 값이 둘다 변함"
      ],
      "execution_count": 50,
      "outputs": [
        {
          "output_type": "execute_result",
          "data": {
            "text/plain": [
              "array([[100,   2,  10,   9,  12],\n",
              "       [  1,   3,   6,   3,   9],\n",
              "       [  9,   1,  12,   5,   2]])"
            ]
          },
          "metadata": {
            "tags": []
          },
          "execution_count": 50
        }
      ]
    },
    {
      "cell_type": "code",
      "metadata": {
        "colab": {
          "base_uri": "https://localhost:8080/"
        },
        "id": "A4TG5VVKqHUo",
        "outputId": "6a7458cd-eead-456b-bad6-0fafd743d42d"
      },
      "source": [
        "x[1][3] = 55\n",
        "temp"
      ],
      "execution_count": 52,
      "outputs": [
        {
          "output_type": "execute_result",
          "data": {
            "text/plain": [
              "array([100,   2,  10,   9,  12,   1,   3,   6,  55,   9,   9,   1,  12,\n",
              "         5,   2])"
            ]
          },
          "metadata": {
            "tags": []
          },
          "execution_count": 52
        }
      ]
    },
    {
      "cell_type": "markdown",
      "metadata": {
        "id": "BDOSxVpirr5s"
      },
      "source": [
        "###flatten\n",
        "* 원본 데이터를 안전하게 보관할 수 있어 플랫튼을 더 많이 사용한다."
      ]
    },
    {
      "cell_type": "markdown",
      "metadata": {
        "id": "p396QJUpA9KU"
      },
      "source": [
        "##reshape\n",
        "* 형상을 바꿔준다\n",
        "* tip 함수 내의 모든 숫자를 곱했을 대 스칼라 원소의 개수와 같으면 된다."
      ]
    },
    {
      "cell_type": "code",
      "metadata": {
        "colab": {
          "base_uri": "https://localhost:8080/"
        },
        "id": "r1QvqzCsA7a3",
        "outputId": "53f3dec3-b76a-46e0-859c-f00e11ede3d8"
      },
      "source": [
        "x = np.arange(20)\n",
        "x "
      ],
      "execution_count": 58,
      "outputs": [
        {
          "output_type": "execute_result",
          "data": {
            "text/plain": [
              "array([ 0,  1,  2,  3,  4,  5,  6,  7,  8,  9, 10, 11, 12, 13, 14, 15, 16,\n",
              "       17, 18, 19])"
            ]
          },
          "metadata": {
            "tags": []
          },
          "execution_count": 58
        }
      ]
    },
    {
      "cell_type": "code",
      "metadata": {
        "colab": {
          "base_uri": "https://localhost:8080/"
        },
        "id": "FqLLiMttBISF",
        "outputId": "4ba090bd-75b8-4b78-9fa4-ca6171cfe7d5"
      },
      "source": [
        "x.reshape(2, 10)"
      ],
      "execution_count": 59,
      "outputs": [
        {
          "output_type": "execute_result",
          "data": {
            "text/plain": [
              "array([[ 0,  1,  2,  3,  4,  5,  6,  7,  8,  9],\n",
              "       [10, 11, 12, 13, 14, 15, 16, 17, 18, 19]])"
            ]
          },
          "metadata": {
            "tags": []
          },
          "execution_count": 59
        }
      ]
    },
    {
      "cell_type": "code",
      "metadata": {
        "colab": {
          "base_uri": "https://localhost:8080/"
        },
        "id": "lEWDStbtBUtc",
        "outputId": "853e9268-91d1-4b4d-a6c3-fa6d3d402dde"
      },
      "source": [
        "x.reshape(4, 5)"
      ],
      "execution_count": 60,
      "outputs": [
        {
          "output_type": "execute_result",
          "data": {
            "text/plain": [
              "array([[ 0,  1,  2,  3,  4],\n",
              "       [ 5,  6,  7,  8,  9],\n",
              "       [10, 11, 12, 13, 14],\n",
              "       [15, 16, 17, 18, 19]])"
            ]
          },
          "metadata": {
            "tags": []
          },
          "execution_count": 60
        }
      ]
    },
    {
      "cell_type": "code",
      "metadata": {
        "colab": {
          "base_uri": "https://localhost:8080/"
        },
        "id": "iKX08qjlBirM",
        "outputId": "eb23ce3c-677e-4665-8c12-4c43ad03b6a6"
      },
      "source": [
        "x.reshape(2, 5, 2)"
      ],
      "execution_count": 61,
      "outputs": [
        {
          "output_type": "execute_result",
          "data": {
            "text/plain": [
              "array([[[ 0,  1],\n",
              "        [ 2,  3],\n",
              "        [ 4,  5],\n",
              "        [ 6,  7],\n",
              "        [ 8,  9]],\n",
              "\n",
              "       [[10, 11],\n",
              "        [12, 13],\n",
              "        [14, 15],\n",
              "        [16, 17],\n",
              "        [18, 19]]])"
            ]
          },
          "metadata": {
            "tags": []
          },
          "execution_count": 61
        }
      ]
    },
    {
      "cell_type": "code",
      "metadata": {
        "colab": {
          "base_uri": "https://localhost:8080/"
        },
        "id": "ChyMxZojB16c",
        "outputId": "91efdc72-2654-4b1f-e56e-6fd572c8b476"
      },
      "source": [
        "x.reshape(2, -1, 2)  ## 조커와 같은 역할을 한다. 단 -1은 한번만 사용할 수 있다. 무조건 한개의 값만 들어간다."
      ],
      "execution_count": 63,
      "outputs": [
        {
          "output_type": "execute_result",
          "data": {
            "text/plain": [
              "array([[[ 0,  1],\n",
              "        [ 2,  3],\n",
              "        [ 4,  5],\n",
              "        [ 6,  7],\n",
              "        [ 8,  9]],\n",
              "\n",
              "       [[10, 11],\n",
              "        [12, 13],\n",
              "        [14, 15],\n",
              "        [16, 17],\n",
              "        [18, 19]]])"
            ]
          },
          "metadata": {
            "tags": []
          },
          "execution_count": 63
        }
      ]
    },
    {
      "cell_type": "code",
      "metadata": {
        "id": "n-vaS_uRB8Sz"
      },
      "source": [
        "\n"
      ],
      "execution_count": 63,
      "outputs": []
    },
    {
      "cell_type": "code",
      "metadata": {
        "id": "lB5zKdLPDsKz"
      },
      "source": [
        ""
      ],
      "execution_count": null,
      "outputs": []
    }
  ]
}