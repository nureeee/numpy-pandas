{
  "nbformat": 4,
  "nbformat_minor": 0,
  "metadata": {
    "colab": {
      "name": "210523_복습.ipynb",
      "provenance": [],
      "authorship_tag": "ABX9TyOumCVY0WlYB05W7kjm3Zpv",
      "include_colab_link": true
    },
    "kernelspec": {
      "name": "python3",
      "display_name": "Python 3"
    },
    "language_info": {
      "name": "python"
    }
  },
  "cells": [
    {
      "cell_type": "markdown",
      "metadata": {
        "id": "view-in-github",
        "colab_type": "text"
      },
      "source": [
        "<a href=\"https://colab.research.google.com/github/nureeee/numpy-pandas/blob/main/210523_%EB%B3%B5%EC%8A%B5.ipynb\" target=\"_parent\"><img src=\"https://colab.research.google.com/assets/colab-badge.svg\" alt=\"Open In Colab\"/></a>"
      ]
    },
    {
      "cell_type": "code",
      "metadata": {
        "id": "yp1VsG-FAHw6"
      },
      "source": [
        "import numpy as np\n",
        "import pandas as pd"
      ],
      "execution_count": 15,
      "outputs": []
    },
    {
      "cell_type": "code",
      "metadata": {
        "colab": {
          "base_uri": "https://localhost:8080/"
        },
        "id": "s-Rla8vpq7sr",
        "outputId": "a885b80f-e95d-4e66-df7d-a7b308615a93"
      },
      "source": [
        "names = np.array(['Bob', 'Joe', 'Will', 'Bob', 'Will', 'Joe', 'Joe'])\n",
        "np.unique(names)"
      ],
      "execution_count": 3,
      "outputs": [
        {
          "output_type": "execute_result",
          "data": {
            "text/plain": [
              "array(['Bob', 'Joe', 'Will'], dtype='<U4')"
            ]
          },
          "metadata": {
            "tags": []
          },
          "execution_count": 3
        }
      ]
    },
    {
      "cell_type": "code",
      "metadata": {
        "colab": {
          "base_uri": "https://localhost:8080/"
        },
        "id": "5pFkQUYrAGn8",
        "outputId": "00fe723e-c500-4156-de57-584a616023ec"
      },
      "source": [
        "ints = np.array([3, 3, 3, 2, 2, 1, 1, 4, 4])\n",
        "np.unique(ints)"
      ],
      "execution_count": 4,
      "outputs": [
        {
          "output_type": "execute_result",
          "data": {
            "text/plain": [
              "array([1, 2, 3, 4])"
            ]
          },
          "metadata": {
            "tags": []
          },
          "execution_count": 4
        }
      ]
    },
    {
      "cell_type": "code",
      "metadata": {
        "colab": {
          "base_uri": "https://localhost:8080/"
        },
        "id": "YXq_GsoGAfZI",
        "outputId": "5f808768-018a-4e9d-a819-b4aca9536264"
      },
      "source": [
        "sorted(set(names))"
      ],
      "execution_count": 5,
      "outputs": [
        {
          "output_type": "execute_result",
          "data": {
            "text/plain": [
              "['Bob', 'Joe', 'Will']"
            ]
          },
          "metadata": {
            "tags": []
          },
          "execution_count": 5
        }
      ]
    },
    {
      "cell_type": "code",
      "metadata": {
        "colab": {
          "base_uri": "https://localhost:8080/"
        },
        "id": "zxrGvfVzAmK8",
        "outputId": "5a805cc8-35f0-4d35-dd5d-25086a2ecedb"
      },
      "source": [
        "values = np.array([6, 0, 0, 3, 2, 5, 6])\n",
        "np.in1d(values, [2, 3, 6])"
      ],
      "execution_count": 6,
      "outputs": [
        {
          "output_type": "execute_result",
          "data": {
            "text/plain": [
              "array([ True, False, False,  True,  True, False,  True])"
            ]
          },
          "metadata": {
            "tags": []
          },
          "execution_count": 6
        }
      ]
    },
    {
      "cell_type": "code",
      "metadata": {
        "id": "YIqo7JdxAzP9"
      },
      "source": [
        "arr = np.arange(10)\n",
        "np.save('some_array.npy', arr)"
      ],
      "execution_count": 7,
      "outputs": []
    },
    {
      "cell_type": "code",
      "metadata": {
        "colab": {
          "base_uri": "https://localhost:8080/"
        },
        "id": "bAVZ_ryNBFFq",
        "outputId": "d8c07548-ce6c-4ff5-c117-a91eaaf3ba06"
      },
      "source": [
        "np.load('some_array.npy')"
      ],
      "execution_count": 8,
      "outputs": [
        {
          "output_type": "execute_result",
          "data": {
            "text/plain": [
              "array([0, 1, 2, 3, 4, 5, 6, 7, 8, 9])"
            ]
          },
          "metadata": {
            "tags": []
          },
          "execution_count": 8
        }
      ]
    },
    {
      "cell_type": "code",
      "metadata": {
        "id": "ECRG3EQPBOWt"
      },
      "source": [
        "np.savez('array_archive.npz', a=arr, b=arr)"
      ],
      "execution_count": 9,
      "outputs": []
    },
    {
      "cell_type": "code",
      "metadata": {
        "colab": {
          "base_uri": "https://localhost:8080/"
        },
        "id": "N1VPWwzTBl1x",
        "outputId": "2d892965-a8e4-4cf0-d0ef-54be6d7ba7e4"
      },
      "source": [
        "arch = np.load('array_archive.npz')\n",
        "arch['b']"
      ],
      "execution_count": 10,
      "outputs": [
        {
          "output_type": "execute_result",
          "data": {
            "text/plain": [
              "array([0, 1, 2, 3, 4, 5, 6, 7, 8, 9])"
            ]
          },
          "metadata": {
            "tags": []
          },
          "execution_count": 10
        }
      ]
    },
    {
      "cell_type": "code",
      "metadata": {
        "id": "tNyKl2dgBxXQ"
      },
      "source": [
        "np.savez_compressed('arrays_compressed.npz', a=arr, b=arr)"
      ],
      "execution_count": 11,
      "outputs": []
    },
    {
      "cell_type": "code",
      "metadata": {
        "id": "n9D9R1C0B-fs"
      },
      "source": [
        "from pandas import Series, DataFrame"
      ],
      "execution_count": 1,
      "outputs": []
    },
    {
      "cell_type": "code",
      "metadata": {
        "id": "PjS4L1X0jsld"
      },
      "source": [
        "import pandas as pd"
      ],
      "execution_count": 3,
      "outputs": []
    },
    {
      "cell_type": "code",
      "metadata": {
        "colab": {
          "base_uri": "https://localhost:8080/"
        },
        "id": "W83iXZ0rj3it",
        "outputId": "9dc3e345-0b08-42fd-c2bd-a3ec4f0369cc"
      },
      "source": [
        "obj = pd.Series([4, 7, -5, 3])\n",
        "obj"
      ],
      "execution_count": 4,
      "outputs": [
        {
          "output_type": "execute_result",
          "data": {
            "text/plain": [
              "0    4\n",
              "1    7\n",
              "2   -5\n",
              "3    3\n",
              "dtype: int64"
            ]
          },
          "metadata": {
            "tags": []
          },
          "execution_count": 4
        }
      ]
    },
    {
      "cell_type": "code",
      "metadata": {
        "colab": {
          "base_uri": "https://localhost:8080/"
        },
        "id": "VNkokwfIkHSA",
        "outputId": "8c411320-ac98-4a9f-d35d-9adb24e90898"
      },
      "source": [
        "obj.values"
      ],
      "execution_count": 5,
      "outputs": [
        {
          "output_type": "execute_result",
          "data": {
            "text/plain": [
              "array([ 4,  7, -5,  3])"
            ]
          },
          "metadata": {
            "tags": []
          },
          "execution_count": 5
        }
      ]
    },
    {
      "cell_type": "code",
      "metadata": {
        "id": "qhXrD6kakMNt"
      },
      "source": [
        "data = {'state': ['ohio', 'ohio', 'ohio', 'Nevada', 'Nevada', 'Nevada'],\n",
        "        'year': [2000, 2001, 2002, 2001, 2002, 2003],\n",
        "        'pop': [1.5, 1.7, 3.6, 2.4, 2.9, 3.2]}\n",
        "frame = pd.DataFrame(data)\n"
      ],
      "execution_count": 6,
      "outputs": []
    },
    {
      "cell_type": "code",
      "metadata": {
        "colab": {
          "base_uri": "https://localhost:8080/",
          "height": 225
        },
        "id": "Do9zkrGAlDxo",
        "outputId": "9650961f-7f2c-4024-9436-f3f6595781af"
      },
      "source": [
        "frame"
      ],
      "execution_count": 7,
      "outputs": [
        {
          "output_type": "execute_result",
          "data": {
            "text/html": [
              "<div>\n",
              "<style scoped>\n",
              "    .dataframe tbody tr th:only-of-type {\n",
              "        vertical-align: middle;\n",
              "    }\n",
              "\n",
              "    .dataframe tbody tr th {\n",
              "        vertical-align: top;\n",
              "    }\n",
              "\n",
              "    .dataframe thead th {\n",
              "        text-align: right;\n",
              "    }\n",
              "</style>\n",
              "<table border=\"1\" class=\"dataframe\">\n",
              "  <thead>\n",
              "    <tr style=\"text-align: right;\">\n",
              "      <th></th>\n",
              "      <th>state</th>\n",
              "      <th>year</th>\n",
              "      <th>pop</th>\n",
              "    </tr>\n",
              "  </thead>\n",
              "  <tbody>\n",
              "    <tr>\n",
              "      <th>0</th>\n",
              "      <td>ohio</td>\n",
              "      <td>2000</td>\n",
              "      <td>1.5</td>\n",
              "    </tr>\n",
              "    <tr>\n",
              "      <th>1</th>\n",
              "      <td>ohio</td>\n",
              "      <td>2001</td>\n",
              "      <td>1.7</td>\n",
              "    </tr>\n",
              "    <tr>\n",
              "      <th>2</th>\n",
              "      <td>ohio</td>\n",
              "      <td>2002</td>\n",
              "      <td>3.6</td>\n",
              "    </tr>\n",
              "    <tr>\n",
              "      <th>3</th>\n",
              "      <td>Nevada</td>\n",
              "      <td>2001</td>\n",
              "      <td>2.4</td>\n",
              "    </tr>\n",
              "    <tr>\n",
              "      <th>4</th>\n",
              "      <td>Nevada</td>\n",
              "      <td>2002</td>\n",
              "      <td>2.9</td>\n",
              "    </tr>\n",
              "    <tr>\n",
              "      <th>5</th>\n",
              "      <td>Nevada</td>\n",
              "      <td>2003</td>\n",
              "      <td>3.2</td>\n",
              "    </tr>\n",
              "  </tbody>\n",
              "</table>\n",
              "</div>"
            ],
            "text/plain": [
              "    state  year  pop\n",
              "0    ohio  2000  1.5\n",
              "1    ohio  2001  1.7\n",
              "2    ohio  2002  3.6\n",
              "3  Nevada  2001  2.4\n",
              "4  Nevada  2002  2.9\n",
              "5  Nevada  2003  3.2"
            ]
          },
          "metadata": {
            "tags": []
          },
          "execution_count": 7
        }
      ]
    },
    {
      "cell_type": "code",
      "metadata": {
        "colab": {
          "base_uri": "https://localhost:8080/",
          "height": 195
        },
        "id": "2n55vSPilFWM",
        "outputId": "a027c77b-7dc6-46e6-86fd-a4f19e130e21"
      },
      "source": [
        "frame.head()"
      ],
      "execution_count": 8,
      "outputs": [
        {
          "output_type": "execute_result",
          "data": {
            "text/html": [
              "<div>\n",
              "<style scoped>\n",
              "    .dataframe tbody tr th:only-of-type {\n",
              "        vertical-align: middle;\n",
              "    }\n",
              "\n",
              "    .dataframe tbody tr th {\n",
              "        vertical-align: top;\n",
              "    }\n",
              "\n",
              "    .dataframe thead th {\n",
              "        text-align: right;\n",
              "    }\n",
              "</style>\n",
              "<table border=\"1\" class=\"dataframe\">\n",
              "  <thead>\n",
              "    <tr style=\"text-align: right;\">\n",
              "      <th></th>\n",
              "      <th>state</th>\n",
              "      <th>year</th>\n",
              "      <th>pop</th>\n",
              "    </tr>\n",
              "  </thead>\n",
              "  <tbody>\n",
              "    <tr>\n",
              "      <th>0</th>\n",
              "      <td>ohio</td>\n",
              "      <td>2000</td>\n",
              "      <td>1.5</td>\n",
              "    </tr>\n",
              "    <tr>\n",
              "      <th>1</th>\n",
              "      <td>ohio</td>\n",
              "      <td>2001</td>\n",
              "      <td>1.7</td>\n",
              "    </tr>\n",
              "    <tr>\n",
              "      <th>2</th>\n",
              "      <td>ohio</td>\n",
              "      <td>2002</td>\n",
              "      <td>3.6</td>\n",
              "    </tr>\n",
              "    <tr>\n",
              "      <th>3</th>\n",
              "      <td>Nevada</td>\n",
              "      <td>2001</td>\n",
              "      <td>2.4</td>\n",
              "    </tr>\n",
              "    <tr>\n",
              "      <th>4</th>\n",
              "      <td>Nevada</td>\n",
              "      <td>2002</td>\n",
              "      <td>2.9</td>\n",
              "    </tr>\n",
              "  </tbody>\n",
              "</table>\n",
              "</div>"
            ],
            "text/plain": [
              "    state  year  pop\n",
              "0    ohio  2000  1.5\n",
              "1    ohio  2001  1.7\n",
              "2    ohio  2002  3.6\n",
              "3  Nevada  2001  2.4\n",
              "4  Nevada  2002  2.9"
            ]
          },
          "metadata": {
            "tags": []
          },
          "execution_count": 8
        }
      ]
    },
    {
      "cell_type": "code",
      "metadata": {
        "colab": {
          "base_uri": "https://localhost:8080/",
          "height": 225
        },
        "id": "NKHdbTIklMMt",
        "outputId": "1e0a50d2-55d4-4bac-dfd9-e09e703ccaa8"
      },
      "source": [
        "pd.DataFrame(data, columns=['year', 'state', 'pop'])"
      ],
      "execution_count": 9,
      "outputs": [
        {
          "output_type": "execute_result",
          "data": {
            "text/html": [
              "<div>\n",
              "<style scoped>\n",
              "    .dataframe tbody tr th:only-of-type {\n",
              "        vertical-align: middle;\n",
              "    }\n",
              "\n",
              "    .dataframe tbody tr th {\n",
              "        vertical-align: top;\n",
              "    }\n",
              "\n",
              "    .dataframe thead th {\n",
              "        text-align: right;\n",
              "    }\n",
              "</style>\n",
              "<table border=\"1\" class=\"dataframe\">\n",
              "  <thead>\n",
              "    <tr style=\"text-align: right;\">\n",
              "      <th></th>\n",
              "      <th>year</th>\n",
              "      <th>state</th>\n",
              "      <th>pop</th>\n",
              "    </tr>\n",
              "  </thead>\n",
              "  <tbody>\n",
              "    <tr>\n",
              "      <th>0</th>\n",
              "      <td>2000</td>\n",
              "      <td>ohio</td>\n",
              "      <td>1.5</td>\n",
              "    </tr>\n",
              "    <tr>\n",
              "      <th>1</th>\n",
              "      <td>2001</td>\n",
              "      <td>ohio</td>\n",
              "      <td>1.7</td>\n",
              "    </tr>\n",
              "    <tr>\n",
              "      <th>2</th>\n",
              "      <td>2002</td>\n",
              "      <td>ohio</td>\n",
              "      <td>3.6</td>\n",
              "    </tr>\n",
              "    <tr>\n",
              "      <th>3</th>\n",
              "      <td>2001</td>\n",
              "      <td>Nevada</td>\n",
              "      <td>2.4</td>\n",
              "    </tr>\n",
              "    <tr>\n",
              "      <th>4</th>\n",
              "      <td>2002</td>\n",
              "      <td>Nevada</td>\n",
              "      <td>2.9</td>\n",
              "    </tr>\n",
              "    <tr>\n",
              "      <th>5</th>\n",
              "      <td>2003</td>\n",
              "      <td>Nevada</td>\n",
              "      <td>3.2</td>\n",
              "    </tr>\n",
              "  </tbody>\n",
              "</table>\n",
              "</div>"
            ],
            "text/plain": [
              "   year   state  pop\n",
              "0  2000    ohio  1.5\n",
              "1  2001    ohio  1.7\n",
              "2  2002    ohio  3.6\n",
              "3  2001  Nevada  2.4\n",
              "4  2002  Nevada  2.9\n",
              "5  2003  Nevada  3.2"
            ]
          },
          "metadata": {
            "tags": []
          },
          "execution_count": 9
        }
      ]
    },
    {
      "cell_type": "code",
      "metadata": {
        "colab": {
          "base_uri": "https://localhost:8080/"
        },
        "id": "fGbcstIkleNj",
        "outputId": "7b5661c1-88dc-45bb-9c2d-6de718409846"
      },
      "source": [
        "frame['state']"
      ],
      "execution_count": 10,
      "outputs": [
        {
          "output_type": "execute_result",
          "data": {
            "text/plain": [
              "0      ohio\n",
              "1      ohio\n",
              "2      ohio\n",
              "3    Nevada\n",
              "4    Nevada\n",
              "5    Nevada\n",
              "Name: state, dtype: object"
            ]
          },
          "metadata": {
            "tags": []
          },
          "execution_count": 10
        }
      ]
    },
    {
      "cell_type": "code",
      "metadata": {
        "colab": {
          "base_uri": "https://localhost:8080/"
        },
        "id": "F2L-xFHxlmra",
        "outputId": "f3b0802d-b582-44ec-f501-b0dc57d37520"
      },
      "source": [
        "frame.loc[3]"
      ],
      "execution_count": 11,
      "outputs": [
        {
          "output_type": "execute_result",
          "data": {
            "text/plain": [
              "state    Nevada\n",
              "year       2001\n",
              "pop         2.4\n",
              "Name: 3, dtype: object"
            ]
          },
          "metadata": {
            "tags": []
          },
          "execution_count": 11
        }
      ]
    },
    {
      "cell_type": "code",
      "metadata": {
        "colab": {
          "base_uri": "https://localhost:8080/",
          "height": 225
        },
        "id": "fhQJZm25lrJS",
        "outputId": "1d8cb3f3-f567-47f4-e8db-457503287682"
      },
      "source": [
        "frame['debt'] = 16.5\n",
        "frame"
      ],
      "execution_count": 12,
      "outputs": [
        {
          "output_type": "execute_result",
          "data": {
            "text/html": [
              "<div>\n",
              "<style scoped>\n",
              "    .dataframe tbody tr th:only-of-type {\n",
              "        vertical-align: middle;\n",
              "    }\n",
              "\n",
              "    .dataframe tbody tr th {\n",
              "        vertical-align: top;\n",
              "    }\n",
              "\n",
              "    .dataframe thead th {\n",
              "        text-align: right;\n",
              "    }\n",
              "</style>\n",
              "<table border=\"1\" class=\"dataframe\">\n",
              "  <thead>\n",
              "    <tr style=\"text-align: right;\">\n",
              "      <th></th>\n",
              "      <th>state</th>\n",
              "      <th>year</th>\n",
              "      <th>pop</th>\n",
              "      <th>debt</th>\n",
              "    </tr>\n",
              "  </thead>\n",
              "  <tbody>\n",
              "    <tr>\n",
              "      <th>0</th>\n",
              "      <td>ohio</td>\n",
              "      <td>2000</td>\n",
              "      <td>1.5</td>\n",
              "      <td>16.5</td>\n",
              "    </tr>\n",
              "    <tr>\n",
              "      <th>1</th>\n",
              "      <td>ohio</td>\n",
              "      <td>2001</td>\n",
              "      <td>1.7</td>\n",
              "      <td>16.5</td>\n",
              "    </tr>\n",
              "    <tr>\n",
              "      <th>2</th>\n",
              "      <td>ohio</td>\n",
              "      <td>2002</td>\n",
              "      <td>3.6</td>\n",
              "      <td>16.5</td>\n",
              "    </tr>\n",
              "    <tr>\n",
              "      <th>3</th>\n",
              "      <td>Nevada</td>\n",
              "      <td>2001</td>\n",
              "      <td>2.4</td>\n",
              "      <td>16.5</td>\n",
              "    </tr>\n",
              "    <tr>\n",
              "      <th>4</th>\n",
              "      <td>Nevada</td>\n",
              "      <td>2002</td>\n",
              "      <td>2.9</td>\n",
              "      <td>16.5</td>\n",
              "    </tr>\n",
              "    <tr>\n",
              "      <th>5</th>\n",
              "      <td>Nevada</td>\n",
              "      <td>2003</td>\n",
              "      <td>3.2</td>\n",
              "      <td>16.5</td>\n",
              "    </tr>\n",
              "  </tbody>\n",
              "</table>\n",
              "</div>"
            ],
            "text/plain": [
              "    state  year  pop  debt\n",
              "0    ohio  2000  1.5  16.5\n",
              "1    ohio  2001  1.7  16.5\n",
              "2    ohio  2002  3.6  16.5\n",
              "3  Nevada  2001  2.4  16.5\n",
              "4  Nevada  2002  2.9  16.5\n",
              "5  Nevada  2003  3.2  16.5"
            ]
          },
          "metadata": {
            "tags": []
          },
          "execution_count": 12
        }
      ]
    },
    {
      "cell_type": "code",
      "metadata": {
        "colab": {
          "base_uri": "https://localhost:8080/",
          "height": 225
        },
        "id": "YXnpg0M-l3DZ",
        "outputId": "dd990fe0-03d6-46a5-9b31-0e6e496b272d"
      },
      "source": [
        "frame['debt'] = np.arange(6.)\n",
        "frame"
      ],
      "execution_count": 16,
      "outputs": [
        {
          "output_type": "execute_result",
          "data": {
            "text/html": [
              "<div>\n",
              "<style scoped>\n",
              "    .dataframe tbody tr th:only-of-type {\n",
              "        vertical-align: middle;\n",
              "    }\n",
              "\n",
              "    .dataframe tbody tr th {\n",
              "        vertical-align: top;\n",
              "    }\n",
              "\n",
              "    .dataframe thead th {\n",
              "        text-align: right;\n",
              "    }\n",
              "</style>\n",
              "<table border=\"1\" class=\"dataframe\">\n",
              "  <thead>\n",
              "    <tr style=\"text-align: right;\">\n",
              "      <th></th>\n",
              "      <th>state</th>\n",
              "      <th>year</th>\n",
              "      <th>pop</th>\n",
              "      <th>debt</th>\n",
              "    </tr>\n",
              "  </thead>\n",
              "  <tbody>\n",
              "    <tr>\n",
              "      <th>0</th>\n",
              "      <td>ohio</td>\n",
              "      <td>2000</td>\n",
              "      <td>1.5</td>\n",
              "      <td>0.0</td>\n",
              "    </tr>\n",
              "    <tr>\n",
              "      <th>1</th>\n",
              "      <td>ohio</td>\n",
              "      <td>2001</td>\n",
              "      <td>1.7</td>\n",
              "      <td>1.0</td>\n",
              "    </tr>\n",
              "    <tr>\n",
              "      <th>2</th>\n",
              "      <td>ohio</td>\n",
              "      <td>2002</td>\n",
              "      <td>3.6</td>\n",
              "      <td>2.0</td>\n",
              "    </tr>\n",
              "    <tr>\n",
              "      <th>3</th>\n",
              "      <td>Nevada</td>\n",
              "      <td>2001</td>\n",
              "      <td>2.4</td>\n",
              "      <td>3.0</td>\n",
              "    </tr>\n",
              "    <tr>\n",
              "      <th>4</th>\n",
              "      <td>Nevada</td>\n",
              "      <td>2002</td>\n",
              "      <td>2.9</td>\n",
              "      <td>4.0</td>\n",
              "    </tr>\n",
              "    <tr>\n",
              "      <th>5</th>\n",
              "      <td>Nevada</td>\n",
              "      <td>2003</td>\n",
              "      <td>3.2</td>\n",
              "      <td>5.0</td>\n",
              "    </tr>\n",
              "  </tbody>\n",
              "</table>\n",
              "</div>"
            ],
            "text/plain": [
              "    state  year  pop  debt\n",
              "0    ohio  2000  1.5   0.0\n",
              "1    ohio  2001  1.7   1.0\n",
              "2    ohio  2002  3.6   2.0\n",
              "3  Nevada  2001  2.4   3.0\n",
              "4  Nevada  2002  2.9   4.0\n",
              "5  Nevada  2003  3.2   5.0"
            ]
          },
          "metadata": {
            "tags": []
          },
          "execution_count": 16
        }
      ]
    },
    {
      "cell_type": "code",
      "metadata": {
        "colab": {
          "base_uri": "https://localhost:8080/",
          "height": 166
        },
        "id": "8uYzEGIWmCAl",
        "outputId": "56946196-26fc-40b2-e88a-defb62fbdb29"
      },
      "source": [
        "frame.T"
      ],
      "execution_count": 17,
      "outputs": [
        {
          "output_type": "execute_result",
          "data": {
            "text/html": [
              "<div>\n",
              "<style scoped>\n",
              "    .dataframe tbody tr th:only-of-type {\n",
              "        vertical-align: middle;\n",
              "    }\n",
              "\n",
              "    .dataframe tbody tr th {\n",
              "        vertical-align: top;\n",
              "    }\n",
              "\n",
              "    .dataframe thead th {\n",
              "        text-align: right;\n",
              "    }\n",
              "</style>\n",
              "<table border=\"1\" class=\"dataframe\">\n",
              "  <thead>\n",
              "    <tr style=\"text-align: right;\">\n",
              "      <th></th>\n",
              "      <th>0</th>\n",
              "      <th>1</th>\n",
              "      <th>2</th>\n",
              "      <th>3</th>\n",
              "      <th>4</th>\n",
              "      <th>5</th>\n",
              "    </tr>\n",
              "  </thead>\n",
              "  <tbody>\n",
              "    <tr>\n",
              "      <th>state</th>\n",
              "      <td>ohio</td>\n",
              "      <td>ohio</td>\n",
              "      <td>ohio</td>\n",
              "      <td>Nevada</td>\n",
              "      <td>Nevada</td>\n",
              "      <td>Nevada</td>\n",
              "    </tr>\n",
              "    <tr>\n",
              "      <th>year</th>\n",
              "      <td>2000</td>\n",
              "      <td>2001</td>\n",
              "      <td>2002</td>\n",
              "      <td>2001</td>\n",
              "      <td>2002</td>\n",
              "      <td>2003</td>\n",
              "    </tr>\n",
              "    <tr>\n",
              "      <th>pop</th>\n",
              "      <td>1.5</td>\n",
              "      <td>1.7</td>\n",
              "      <td>3.6</td>\n",
              "      <td>2.4</td>\n",
              "      <td>2.9</td>\n",
              "      <td>3.2</td>\n",
              "    </tr>\n",
              "    <tr>\n",
              "      <th>debt</th>\n",
              "      <td>0</td>\n",
              "      <td>1</td>\n",
              "      <td>2</td>\n",
              "      <td>3</td>\n",
              "      <td>4</td>\n",
              "      <td>5</td>\n",
              "    </tr>\n",
              "  </tbody>\n",
              "</table>\n",
              "</div>"
            ],
            "text/plain": [
              "          0     1     2       3       4       5\n",
              "state  ohio  ohio  ohio  Nevada  Nevada  Nevada\n",
              "year   2000  2001  2002    2001    2002    2003\n",
              "pop     1.5   1.7   3.6     2.4     2.9     3.2\n",
              "debt      0     1     2       3       4       5"
            ]
          },
          "metadata": {
            "tags": []
          },
          "execution_count": 17
        }
      ]
    },
    {
      "cell_type": "code",
      "metadata": {
        "id": "63v3dvOhmas8"
      },
      "source": [
        "a = [1, 2, 3]"
      ],
      "execution_count": 18,
      "outputs": []
    },
    {
      "cell_type": "code",
      "metadata": {
        "id": "fhZ6Yz4lnKkI"
      },
      "source": [
        "a.append(4)"
      ],
      "execution_count": 19,
      "outputs": []
    },
    {
      "cell_type": "code",
      "metadata": {
        "colab": {
          "base_uri": "https://localhost:8080/"
        },
        "id": "369Qme8BnNuT",
        "outputId": "f37f8e04-c21a-411b-97d9-cfc091ad2faa"
      },
      "source": [
        "a"
      ],
      "execution_count": 20,
      "outputs": [
        {
          "output_type": "execute_result",
          "data": {
            "text/plain": [
              "[1, 2, 3, 4]"
            ]
          },
          "metadata": {
            "tags": []
          },
          "execution_count": 20
        }
      ]
    },
    {
      "cell_type": "code",
      "metadata": {
        "colab": {
          "base_uri": "https://localhost:8080/"
        },
        "id": "rYW_WfhEnWjN",
        "outputId": "b4881a4e-e3a9-4287-af3b-c8af5318a4bd"
      },
      "source": [
        "for i in range(4):\n",
        "    for j in range(4):\n",
        "        if j >i:\n",
        "            break\n",
        "        print(i, j)"
      ],
      "execution_count": 23,
      "outputs": [
        {
          "output_type": "stream",
          "text": [
            "0 0\n",
            "1 0\n",
            "1 1\n",
            "2 0\n",
            "2 1\n",
            "2 2\n",
            "3 0\n",
            "3 1\n",
            "3 2\n",
            "3 3\n"
          ],
          "name": "stdout"
        }
      ]
    },
    {
      "cell_type": "code",
      "metadata": {
        "id": "HpBBbotuoKXu"
      },
      "source": [
        "sequence = [1, 2, 0, 4, 6, 5, 2, 1]\n",
        "tot_until_5 =0\n",
        "for value in sequence:\n",
        "    if value ==5:\n",
        "        break\n",
        "    tot_until_5 += value"
      ],
      "execution_count": 24,
      "outputs": []
    },
    {
      "cell_type": "code",
      "metadata": {
        "colab": {
          "base_uri": "https://localhost:8080/"
        },
        "id": "U3klb85Som_Z",
        "outputId": "1d0d5929-99b6-414e-938e-1a00bfdc6b5d"
      },
      "source": [
        "print(tot_until_5)"
      ],
      "execution_count": 25,
      "outputs": [
        {
          "output_type": "stream",
          "text": [
            "13\n"
          ],
          "name": "stdout"
        }
      ]
    },
    {
      "cell_type": "code",
      "metadata": {
        "id": "ajqwDQCSotaS"
      },
      "source": [
        "x = 256\n",
        "total = 0\n",
        "while x > 0:\n",
        "    if total >500:\n",
        "        break\n",
        "    total += x\n",
        "    x = x//2"
      ],
      "execution_count": 27,
      "outputs": []
    },
    {
      "cell_type": "code",
      "metadata": {
        "colab": {
          "base_uri": "https://localhost:8080/"
        },
        "id": "98DboQ5rpC8C",
        "outputId": "0b900884-eba9-4e26-cbb5-71e9b881e148"
      },
      "source": [
        "print(total)"
      ],
      "execution_count": 28,
      "outputs": [
        {
          "output_type": "stream",
          "text": [
            "504\n"
          ],
          "name": "stdout"
        }
      ]
    },
    {
      "cell_type": "code",
      "metadata": {
        "id": "3qptaAMEpX_6"
      },
      "source": [
        ""
      ],
      "execution_count": null,
      "outputs": []
    }
  ]
}