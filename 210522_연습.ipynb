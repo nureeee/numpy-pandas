{
  "nbformat": 4,
  "nbformat_minor": 0,
  "metadata": {
    "colab": {
      "name": "210522_연습.ipynb",
      "provenance": [],
      "authorship_tag": "ABX9TyOTK5Op40YUhX2xW3Rae9Lh",
      "include_colab_link": true
    },
    "kernelspec": {
      "name": "python3",
      "display_name": "Python 3"
    },
    "language_info": {
      "name": "python"
    }
  },
  "cells": [
    {
      "cell_type": "markdown",
      "metadata": {
        "id": "view-in-github",
        "colab_type": "text"
      },
      "source": [
        "<a href=\"https://colab.research.google.com/github/nureeee/numpy-pandas/blob/main/210522_%EC%97%B0%EC%8A%B5.ipynb\" target=\"_parent\"><img src=\"https://colab.research.google.com/assets/colab-badge.svg\" alt=\"Open In Colab\"/></a>"
      ]
    },
    {
      "cell_type": "code",
      "metadata": {
        "id": "z_0dBLzGadw1"
      },
      "source": [
        "import numpy as np\n",
        "import pandas as pd"
      ],
      "execution_count": 1,
      "outputs": []
    },
    {
      "cell_type": "markdown",
      "metadata": {
        "id": "JcJPeD5Gceck"
      },
      "source": [
        "####불리언값으로 선택하기"
      ]
    },
    {
      "cell_type": "code",
      "metadata": {
        "id": "jt4GC61tbN3l"
      },
      "source": [
        "names = np.array(['Bob', 'Joe', 'Will'])"
      ],
      "execution_count": 2,
      "outputs": []
    },
    {
      "cell_type": "code",
      "metadata": {
        "id": "_sRHIQvLc7Bh"
      },
      "source": [
        "data = np.random.randn(3, 2)"
      ],
      "execution_count": 3,
      "outputs": []
    },
    {
      "cell_type": "code",
      "metadata": {
        "colab": {
          "base_uri": "https://localhost:8080/"
        },
        "id": "6T-fe8LCdDRF",
        "outputId": "99c10b13-8e8d-4980-acaa-b88a163911cb"
      },
      "source": [
        "names"
      ],
      "execution_count": 4,
      "outputs": [
        {
          "output_type": "execute_result",
          "data": {
            "text/plain": [
              "array(['Bob', 'Joe', 'Will'], dtype='<U4')"
            ]
          },
          "metadata": {
            "tags": []
          },
          "execution_count": 4
        }
      ]
    },
    {
      "cell_type": "code",
      "metadata": {
        "colab": {
          "base_uri": "https://localhost:8080/"
        },
        "id": "0dXMfagddEIe",
        "outputId": "4d3d592b-e1fd-427f-d880-4e697ecfaa76"
      },
      "source": [
        "data"
      ],
      "execution_count": 5,
      "outputs": [
        {
          "output_type": "execute_result",
          "data": {
            "text/plain": [
              "array([[ 0.90832061, -0.46174242],\n",
              "       [ 0.00786162,  0.68232609],\n",
              "       [ 0.05794769,  0.58661429]])"
            ]
          },
          "metadata": {
            "tags": []
          },
          "execution_count": 5
        }
      ]
    },
    {
      "cell_type": "code",
      "metadata": {
        "colab": {
          "base_uri": "https://localhost:8080/"
        },
        "id": "L7_mYD5udGGm",
        "outputId": "76b44c2e-17c0-41be-f6a8-b0919a5219db"
      },
      "source": [
        "names == 'Bob'"
      ],
      "execution_count": 7,
      "outputs": [
        {
          "output_type": "execute_result",
          "data": {
            "text/plain": [
              "array([ True, False, False])"
            ]
          },
          "metadata": {
            "tags": []
          },
          "execution_count": 7
        }
      ]
    },
    {
      "cell_type": "code",
      "metadata": {
        "colab": {
          "base_uri": "https://localhost:8080/"
        },
        "id": "qTIJ477hdJfm",
        "outputId": "48e83f79-3411-41b5-d2cf-8ccd81d58b21"
      },
      "source": [
        "data[names=='Bob']"
      ],
      "execution_count": 8,
      "outputs": [
        {
          "output_type": "execute_result",
          "data": {
            "text/plain": [
              "array([[ 0.90832061, -0.46174242]])"
            ]
          },
          "metadata": {
            "tags": []
          },
          "execution_count": 8
        }
      ]
    },
    {
      "cell_type": "code",
      "metadata": {
        "colab": {
          "base_uri": "https://localhost:8080/"
        },
        "id": "g1-8LjQ9dRRW",
        "outputId": "298306d3-2bc1-407d-8b67-0594e458ff16"
      },
      "source": [
        "data[names=='Bob', 2:]   ## name == 'Bob'인 로우에서 2: 컬럼을 선택했다."
      ],
      "execution_count": 9,
      "outputs": [
        {
          "output_type": "execute_result",
          "data": {
            "text/plain": [
              "array([], shape=(1, 0), dtype=float64)"
            ]
          },
          "metadata": {
            "tags": []
          },
          "execution_count": 9
        }
      ]
    },
    {
      "cell_type": "code",
      "metadata": {
        "colab": {
          "base_uri": "https://localhost:8080/"
        },
        "id": "O4ApKXpddgxp",
        "outputId": "84850a4a-ac2a-4fff-b33c-2f25829fa191"
      },
      "source": [
        "names != 'BOb'"
      ],
      "execution_count": 11,
      "outputs": [
        {
          "output_type": "execute_result",
          "data": {
            "text/plain": [
              "array([ True,  True,  True])"
            ]
          },
          "metadata": {
            "tags": []
          },
          "execution_count": 11
        }
      ]
    },
    {
      "cell_type": "code",
      "metadata": {
        "colab": {
          "base_uri": "https://localhost:8080/"
        },
        "id": "Up8Bnf6bdlXB",
        "outputId": "8371802e-2033-4bcb-8728-93adf94fa1d1"
      },
      "source": [
        "cond = names == 'Bob'\n",
        "data[~cond]"
      ],
      "execution_count": 12,
      "outputs": [
        {
          "output_type": "execute_result",
          "data": {
            "text/plain": [
              "array([[0.00786162, 0.68232609],\n",
              "       [0.05794769, 0.58661429]])"
            ]
          },
          "metadata": {
            "tags": []
          },
          "execution_count": 12
        }
      ]
    },
    {
      "cell_type": "code",
      "metadata": {
        "colab": {
          "base_uri": "https://localhost:8080/"
        },
        "id": "PJ-47gQQdzta",
        "outputId": "f217701b-02ed-432c-e58a-c52790d1e0e8"
      },
      "source": [
        "mask = (names == 'Bob') | (names == 'Will')  ## '|'는 or과 같은 의미\n",
        "mask"
      ],
      "execution_count": 13,
      "outputs": [
        {
          "output_type": "execute_result",
          "data": {
            "text/plain": [
              "array([ True, False,  True])"
            ]
          },
          "metadata": {
            "tags": []
          },
          "execution_count": 13
        }
      ]
    },
    {
      "cell_type": "code",
      "metadata": {
        "colab": {
          "base_uri": "https://localhost:8080/"
        },
        "id": "Z5WxQOk9eMn1",
        "outputId": "450d6a1b-9e61-450d-c247-6a7eb7a267e1"
      },
      "source": [
        "data[data<0] = 0\n",
        "data"
      ],
      "execution_count": 16,
      "outputs": [
        {
          "output_type": "execute_result",
          "data": {
            "text/plain": [
              "array([[0.90832061, 0.        ],\n",
              "       [0.00786162, 0.68232609],\n",
              "       [0.05794769, 0.58661429]])"
            ]
          },
          "metadata": {
            "tags": []
          },
          "execution_count": 16
        }
      ]
    },
    {
      "cell_type": "code",
      "metadata": {
        "colab": {
          "base_uri": "https://localhost:8080/"
        },
        "id": "xQgpxCxHeShV",
        "outputId": "884a85af-dd1a-4527-b2ec-49b43cab93f9"
      },
      "source": [
        "data[names != 'Joe'] = 7\n",
        "data"
      ],
      "execution_count": 18,
      "outputs": [
        {
          "output_type": "execute_result",
          "data": {
            "text/plain": [
              "array([[7.        , 7.        ],\n",
              "       [0.00786162, 0.68232609],\n",
              "       [7.        , 7.        ]])"
            ]
          },
          "metadata": {
            "tags": []
          },
          "execution_count": 18
        }
      ]
    },
    {
      "cell_type": "markdown",
      "metadata": {
        "id": "-jqZvyW4eg7p"
      },
      "source": [
        "#### 팬시색인"
      ]
    },
    {
      "cell_type": "code",
      "metadata": {
        "id": "Wlq3m6HWecbQ"
      },
      "source": [
        "arr = np.empty((8, 4))"
      ],
      "execution_count": 19,
      "outputs": []
    },
    {
      "cell_type": "code",
      "metadata": {
        "colab": {
          "base_uri": "https://localhost:8080/"
        },
        "id": "1QiaCy0jepkL",
        "outputId": "34504f9c-2964-411f-9db8-0cb41cdded99"
      },
      "source": [
        "for i in range(8):\n",
        "    arr[i] = i\n",
        "\n",
        "arr"
      ],
      "execution_count": 21,
      "outputs": [
        {
          "output_type": "execute_result",
          "data": {
            "text/plain": [
              "array([[0., 0., 0., 0.],\n",
              "       [1., 1., 1., 1.],\n",
              "       [2., 2., 2., 2.],\n",
              "       [3., 3., 3., 3.],\n",
              "       [4., 4., 4., 4.],\n",
              "       [5., 5., 5., 5.],\n",
              "       [6., 6., 6., 6.],\n",
              "       [7., 7., 7., 7.]])"
            ]
          },
          "metadata": {
            "tags": []
          },
          "execution_count": 21
        }
      ]
    },
    {
      "cell_type": "code",
      "metadata": {
        "colab": {
          "base_uri": "https://localhost:8080/"
        },
        "id": "tmJNVHPSezXF",
        "outputId": "6ba8d2a5-7391-45ac-e340-5b8a903d57f8"
      },
      "source": [
        "arr[[4, 3, 5]]"
      ],
      "execution_count": 22,
      "outputs": [
        {
          "output_type": "execute_result",
          "data": {
            "text/plain": [
              "array([[4., 4., 4., 4.],\n",
              "       [3., 3., 3., 3.],\n",
              "       [5., 5., 5., 5.]])"
            ]
          },
          "metadata": {
            "tags": []
          },
          "execution_count": 22
        }
      ]
    },
    {
      "cell_type": "code",
      "metadata": {
        "colab": {
          "base_uri": "https://localhost:8080/"
        },
        "id": "QrcjfCJ-e7jw",
        "outputId": "5b7df6bd-ecb3-45a0-c8c1-74f15930a663"
      },
      "source": [
        "arr = np.arange(32).reshape(8, 4)\n",
        "arr"
      ],
      "execution_count": 28,
      "outputs": [
        {
          "output_type": "execute_result",
          "data": {
            "text/plain": [
              "array([[ 0,  1,  2,  3],\n",
              "       [ 4,  5,  6,  7],\n",
              "       [ 8,  9, 10, 11],\n",
              "       [12, 13, 14, 15],\n",
              "       [16, 17, 18, 19],\n",
              "       [20, 21, 22, 23],\n",
              "       [24, 25, 26, 27],\n",
              "       [28, 29, 30, 31]])"
            ]
          },
          "metadata": {
            "tags": []
          },
          "execution_count": 28
        }
      ]
    },
    {
      "cell_type": "code",
      "metadata": {
        "colab": {
          "base_uri": "https://localhost:8080/"
        },
        "id": "OmwclbNgfIuL",
        "outputId": "98392bfe-449e-4b70-b39d-d6065255e225"
      },
      "source": [
        "arr[[1, 5, 3, 7], [3, 1, 2, 0]]  ## 각각의 색인 튜플에 대응하는 1차원 배열이 선택된다."
      ],
      "execution_count": 31,
      "outputs": [
        {
          "output_type": "execute_result",
          "data": {
            "text/plain": [
              "array([ 7, 21, 14, 28])"
            ]
          },
          "metadata": {
            "tags": []
          },
          "execution_count": 31
        }
      ]
    },
    {
      "cell_type": "code",
      "metadata": {
        "colab": {
          "base_uri": "https://localhost:8080/"
        },
        "id": "AqtiKx8cfm_g",
        "outputId": "efa57a0c-a651-4eb1-8774-6d394a786e70"
      },
      "source": [
        "arr = np.arange(15).reshape(3, 5)\n",
        "arr"
      ],
      "execution_count": 33,
      "outputs": [
        {
          "output_type": "execute_result",
          "data": {
            "text/plain": [
              "array([[ 0,  1,  2,  3,  4],\n",
              "       [ 5,  6,  7,  8,  9],\n",
              "       [10, 11, 12, 13, 14]])"
            ]
          },
          "metadata": {
            "tags": []
          },
          "execution_count": 33
        }
      ]
    },
    {
      "cell_type": "code",
      "metadata": {
        "colab": {
          "base_uri": "https://localhost:8080/"
        },
        "id": "-tNMqoMKgErI",
        "outputId": "54fb241c-5507-4fb3-ad68-c696a17ce491"
      },
      "source": [
        "arr.T"
      ],
      "execution_count": 34,
      "outputs": [
        {
          "output_type": "execute_result",
          "data": {
            "text/plain": [
              "array([[ 0,  5, 10],\n",
              "       [ 1,  6, 11],\n",
              "       [ 2,  7, 12],\n",
              "       [ 3,  8, 13],\n",
              "       [ 4,  9, 14]])"
            ]
          },
          "metadata": {
            "tags": []
          },
          "execution_count": 34
        }
      ]
    },
    {
      "cell_type": "code",
      "metadata": {
        "colab": {
          "base_uri": "https://localhost:8080/"
        },
        "id": "zqFhYJGLgI1W",
        "outputId": "f429d240-a0ee-4f89-b910-0ff51351fac0"
      },
      "source": [
        "arr = np.arange(16).reshape(2, 2, 4)\n",
        "arr"
      ],
      "execution_count": 36,
      "outputs": [
        {
          "output_type": "execute_result",
          "data": {
            "text/plain": [
              "array([[[ 0,  1,  2,  3],\n",
              "        [ 4,  5,  6,  7]],\n",
              "\n",
              "       [[ 8,  9, 10, 11],\n",
              "        [12, 13, 14, 15]]])"
            ]
          },
          "metadata": {
            "tags": []
          },
          "execution_count": 36
        }
      ]
    },
    {
      "cell_type": "code",
      "metadata": {
        "colab": {
          "base_uri": "https://localhost:8080/"
        },
        "id": "afa3u-iIgWq4",
        "outputId": "89b1e36e-f891-4c5a-aafa-f599e85eb1ef"
      },
      "source": [
        "arr.transpose(1, 0, 2)"
      ],
      "execution_count": 37,
      "outputs": [
        {
          "output_type": "execute_result",
          "data": {
            "text/plain": [
              "array([[[ 0,  1,  2,  3],\n",
              "        [ 8,  9, 10, 11]],\n",
              "\n",
              "       [[ 4,  5,  6,  7],\n",
              "        [12, 13, 14, 15]]])"
            ]
          },
          "metadata": {
            "tags": []
          },
          "execution_count": 37
        }
      ]
    },
    {
      "cell_type": "code",
      "metadata": {
        "colab": {
          "base_uri": "https://localhost:8080/"
        },
        "id": "K3xi2ExPgdde",
        "outputId": "54e6be04-34b6-4096-97a5-3a164f3afbc4"
      },
      "source": [
        "arr.swapaxes(1, 2)  ## 두 개의 축 번호를 받아서 배열을 뒤바꾼다."
      ],
      "execution_count": 38,
      "outputs": [
        {
          "output_type": "execute_result",
          "data": {
            "text/plain": [
              "array([[[ 0,  4],\n",
              "        [ 1,  5],\n",
              "        [ 2,  6],\n",
              "        [ 3,  7]],\n",
              "\n",
              "       [[ 8, 12],\n",
              "        [ 9, 13],\n",
              "        [10, 14],\n",
              "        [11, 15]]])"
            ]
          },
          "metadata": {
            "tags": []
          },
          "execution_count": 38
        }
      ]
    },
    {
      "cell_type": "code",
      "metadata": {
        "colab": {
          "base_uri": "https://localhost:8080/"
        },
        "id": "cQNsuvuch24y",
        "outputId": "8c916f02-c627-45cd-9339-8710da9195b1"
      },
      "source": [
        "arr.mean(axis=1)"
      ],
      "execution_count": 39,
      "outputs": [
        {
          "output_type": "execute_result",
          "data": {
            "text/plain": [
              "array([[ 2.,  3.,  4.,  5.],\n",
              "       [10., 11., 12., 13.]])"
            ]
          },
          "metadata": {
            "tags": []
          },
          "execution_count": 39
        }
      ]
    },
    {
      "cell_type": "code",
      "metadata": {
        "colab": {
          "base_uri": "https://localhost:8080/"
        },
        "id": "wFLa_I6_ibXD",
        "outputId": "ea1abc1c-6847-430a-bf65-9f775c316fb4"
      },
      "source": [
        "arr.cumsum(axis=0)"
      ],
      "execution_count": 40,
      "outputs": [
        {
          "output_type": "execute_result",
          "data": {
            "text/plain": [
              "array([[[ 0,  1,  2,  3],\n",
              "        [ 4,  5,  6,  7]],\n",
              "\n",
              "       [[ 8, 10, 12, 14],\n",
              "        [16, 18, 20, 22]]])"
            ]
          },
          "metadata": {
            "tags": []
          },
          "execution_count": 40
        }
      ]
    },
    {
      "cell_type": "code",
      "metadata": {
        "colab": {
          "base_uri": "https://localhost:8080/"
        },
        "id": "Gs4pXLhoilNz",
        "outputId": "90d59972-a2ab-439b-fddb-c7f0de06644e"
      },
      "source": [
        "arr.cumprod(axis=1)  ## comprod ; 각 원소의 누적곱"
      ],
      "execution_count": 42,
      "outputs": [
        {
          "output_type": "execute_result",
          "data": {
            "text/plain": [
              "array([[[  0,   1,   2,   3],\n",
              "        [  0,   5,  12,  21]],\n",
              "\n",
              "       [[  8,   9,  10,  11],\n",
              "        [ 96, 117, 140, 165]]])"
            ]
          },
          "metadata": {
            "tags": []
          },
          "execution_count": 42
        }
      ]
    },
    {
      "cell_type": "code",
      "metadata": {
        "colab": {
          "base_uri": "https://localhost:8080/"
        },
        "id": "6PZmZoVMiwoB",
        "outputId": "cafd4f56-3ad1-4aca-a968-4dbf3ee0c0ef"
      },
      "source": [
        "arr = np.random.randn(100)\n",
        "(arr > 0).sum()  ##양수인 원소의 개수"
      ],
      "execution_count": 44,
      "outputs": [
        {
          "output_type": "execute_result",
          "data": {
            "text/plain": [
              "52"
            ]
          },
          "metadata": {
            "tags": []
          },
          "execution_count": 44
        }
      ]
    },
    {
      "cell_type": "code",
      "metadata": {
        "colab": {
          "base_uri": "https://localhost:8080/"
        },
        "id": "miCE3Yh2jDYQ",
        "outputId": "c2818834-9e4d-457e-e68b-82e994a9f634"
      },
      "source": [
        "arr"
      ],
      "execution_count": 45,
      "outputs": [
        {
          "output_type": "execute_result",
          "data": {
            "text/plain": [
              "array([ 2.38107399e+00, -2.12281811e+00,  1.44166009e+00, -5.40815368e-01,\n",
              "        3.58963174e-01, -1.37912062e-01, -4.42997135e-01,  7.46957884e-01,\n",
              "       -1.82969639e+00,  1.18432930e+00, -3.93773583e-01,  1.32899834e+00,\n",
              "        9.71685944e-01, -1.11146133e+00,  7.04278178e-01, -4.43334980e-01,\n",
              "        5.28372832e-02,  2.65843299e+00, -9.05502861e-01, -1.16574119e+00,\n",
              "       -9.47213703e-01, -1.07870750e+00,  1.23417294e+00,  9.99597097e-01,\n",
              "        1.01237925e+00, -5.64969634e-01, -1.70285095e+00, -1.34725650e+00,\n",
              "       -1.21347056e+00,  1.45048120e+00, -8.41450824e-01,  3.05984994e+00,\n",
              "        9.15705286e-01,  4.37326597e-01, -1.32043809e-01, -5.41603003e-01,\n",
              "       -6.24829367e-01,  1.78005666e+00,  8.16701605e-02,  1.58023716e+00,\n",
              "       -2.80696744e-01, -1.76605332e+00, -2.41256349e-01, -6.29298901e-02,\n",
              "        7.83028154e-01, -9.25494326e-01, -8.09519559e-01,  2.11579150e+00,\n",
              "       -6.68095412e-01,  9.33328039e-01, -5.33677582e-01,  2.68346431e-01,\n",
              "       -1.21132101e+00,  1.62975232e+00, -3.72746663e-03, -8.99943820e-01,\n",
              "        1.67226912e+00,  5.33816629e-01,  6.23353074e-01,  9.72028226e-01,\n",
              "        4.36320581e-01,  2.38909628e-01, -3.04448857e-02,  1.19993867e+00,\n",
              "        7.89861353e-01, -8.74128872e-01,  1.07892218e+00, -7.26754768e-01,\n",
              "        8.25468958e-01, -8.32626782e-02,  9.73954251e-01,  6.59324123e-01,\n",
              "        1.30988484e+00,  1.28491193e+00,  4.44766677e-01, -1.71680528e+00,\n",
              "       -1.12389028e+00,  1.69223751e+00, -1.48195235e-01,  8.14770068e-04,\n",
              "        1.38059251e+00, -1.45597135e+00, -9.20160530e-01,  2.16716900e-01,\n",
              "        2.06200388e-02,  4.15554812e-01, -9.54359121e-01, -1.00805514e-01,\n",
              "        4.62598865e-01, -1.82875432e-01,  6.43798267e-01, -5.95177072e-01,\n",
              "       -3.78818282e-01, -2.37819786e+00, -2.01650238e-01,  8.01428820e-01,\n",
              "        1.90194873e+00,  2.18449087e+00,  9.59333142e-01, -4.68807565e-01])"
            ]
          },
          "metadata": {
            "tags": []
          },
          "execution_count": 45
        }
      ]
    },
    {
      "cell_type": "code",
      "metadata": {
        "id": "HiukVyqEjRJU"
      },
      "source": [
        "from pandas import Series, DataFrame"
      ],
      "execution_count": 46,
      "outputs": []
    },
    {
      "cell_type": "code",
      "metadata": {
        "colab": {
          "base_uri": "https://localhost:8080/"
        },
        "id": "t9W19TXUjtV2",
        "outputId": "263d1649-6f76-42eb-e244-59ebc9984d29"
      },
      "source": [
        "obj = pd.Series([4, 7, -5, 3])\n",
        "obj"
      ],
      "execution_count": 47,
      "outputs": [
        {
          "output_type": "execute_result",
          "data": {
            "text/plain": [
              "0    4\n",
              "1    7\n",
              "2   -5\n",
              "3    3\n",
              "dtype: int64"
            ]
          },
          "metadata": {
            "tags": []
          },
          "execution_count": 47
        }
      ]
    },
    {
      "cell_type": "code",
      "metadata": {
        "colab": {
          "base_uri": "https://localhost:8080/"
        },
        "id": "ix1a_Aznj3RT",
        "outputId": "37fcc3dd-04e2-45f3-8de7-f0ab90638e88"
      },
      "source": [
        "obj.values"
      ],
      "execution_count": 48,
      "outputs": [
        {
          "output_type": "execute_result",
          "data": {
            "text/plain": [
              "array([ 4,  7, -5,  3])"
            ]
          },
          "metadata": {
            "tags": []
          },
          "execution_count": 48
        }
      ]
    },
    {
      "cell_type": "code",
      "metadata": {
        "colab": {
          "base_uri": "https://localhost:8080/"
        },
        "id": "wNJ-rU9Lj8jC",
        "outputId": "7febff70-f025-411a-9510-e2d95da30a35"
      },
      "source": [
        "obj.index ## range(4)와 같다."
      ],
      "execution_count": 49,
      "outputs": [
        {
          "output_type": "execute_result",
          "data": {
            "text/plain": [
              "RangeIndex(start=0, stop=4, step=1)"
            ]
          },
          "metadata": {
            "tags": []
          },
          "execution_count": 49
        }
      ]
    },
    {
      "cell_type": "code",
      "metadata": {
        "colab": {
          "base_uri": "https://localhost:8080/"
        },
        "id": "Y_rblvJtkRNW",
        "outputId": "c4e440f3-4656-4d24-f742-4b603964089a"
      },
      "source": [
        "obj2 = pd.Series([4, 7, -5, 3], index=['d', 'b', 'a', 'c'])\n",
        "obj2"
      ],
      "execution_count": 50,
      "outputs": [
        {
          "output_type": "execute_result",
          "data": {
            "text/plain": [
              "d    4\n",
              "b    7\n",
              "a   -5\n",
              "c    3\n",
              "dtype: int64"
            ]
          },
          "metadata": {
            "tags": []
          },
          "execution_count": 50
        }
      ]
    },
    {
      "cell_type": "code",
      "metadata": {
        "colab": {
          "base_uri": "https://localhost:8080/"
        },
        "id": "uYIeA1BOkjbP",
        "outputId": "241a2ac7-eb06-41f1-a093-09561631c9cc"
      },
      "source": [
        "obj2.index"
      ],
      "execution_count": 51,
      "outputs": [
        {
          "output_type": "execute_result",
          "data": {
            "text/plain": [
              "Index(['d', 'b', 'a', 'c'], dtype='object')"
            ]
          },
          "metadata": {
            "tags": []
          },
          "execution_count": 51
        }
      ]
    },
    {
      "cell_type": "code",
      "metadata": {
        "colab": {
          "base_uri": "https://localhost:8080/"
        },
        "id": "FXL6mOY7kpm9",
        "outputId": "70c375ae-b4c7-4193-f2f2-8ab7dbbde737"
      },
      "source": [
        "obj2['a']"
      ],
      "execution_count": 52,
      "outputs": [
        {
          "output_type": "execute_result",
          "data": {
            "text/plain": [
              "-5"
            ]
          },
          "metadata": {
            "tags": []
          },
          "execution_count": 52
        }
      ]
    },
    {
      "cell_type": "code",
      "metadata": {
        "colab": {
          "base_uri": "https://localhost:8080/"
        },
        "id": "kD8JZQtAk3Uj",
        "outputId": "3c496948-b7ef-468b-a2d9-d7251ebabe90"
      },
      "source": [
        "obj2[obj2 > 0]"
      ],
      "execution_count": 53,
      "outputs": [
        {
          "output_type": "execute_result",
          "data": {
            "text/plain": [
              "d    4\n",
              "b    7\n",
              "c    3\n",
              "dtype: int64"
            ]
          },
          "metadata": {
            "tags": []
          },
          "execution_count": 53
        }
      ]
    },
    {
      "cell_type": "code",
      "metadata": {
        "id": "qhC9eipPk65Y"
      },
      "source": [
        ""
      ],
      "execution_count": null,
      "outputs": []
    }
  ]
}