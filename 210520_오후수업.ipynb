{
  "nbformat": 4,
  "nbformat_minor": 0,
  "metadata": {
    "colab": {
      "name": "210520_오후수업.ipynb",
      "provenance": [],
      "authorship_tag": "ABX9TyMapjX2tuE5cSKdF/IsEYYA",
      "include_colab_link": true
    },
    "kernelspec": {
      "name": "python3",
      "display_name": "Python 3"
    },
    "language_info": {
      "name": "python"
    }
  },
  "cells": [
    {
      "cell_type": "markdown",
      "metadata": {
        "id": "view-in-github",
        "colab_type": "text"
      },
      "source": [
        "<a href=\"https://colab.research.google.com/github/nureeee/numpy-pandas/blob/main/210520_%EC%98%A4%ED%9B%84%EC%88%98%EC%97%85.ipynb\" target=\"_parent\"><img src=\"https://colab.research.google.com/assets/colab-badge.svg\" alt=\"Open In Colab\"/></a>"
      ]
    },
    {
      "cell_type": "markdown",
      "metadata": {
        "id": "wu9YyBS0Mobx"
      },
      "source": [
        "##"
      ]
    },
    {
      "cell_type": "code",
      "metadata": {
        "id": "anHble3HMhIt"
      },
      "source": [
        "import pandas as pd\n",
        "import numpy as np"
      ],
      "execution_count": 284,
      "outputs": []
    },
    {
      "cell_type": "code",
      "metadata": {
        "id": "qCLMLYe3MzRT"
      },
      "source": [
        "n1 = np.random.randint(0, 100, 10)  ##0~100 중에서 랜덤 값 10개 선택"
      ],
      "execution_count": 285,
      "outputs": []
    },
    {
      "cell_type": "code",
      "metadata": {
        "colab": {
          "base_uri": "https://localhost:8080/"
        },
        "id": "kOfspIPANcWC",
        "outputId": "650a33bf-52cb-42ed-a5ed-046fd2ba3847"
      },
      "source": [
        "n1"
      ],
      "execution_count": 286,
      "outputs": [
        {
          "output_type": "execute_result",
          "data": {
            "text/plain": [
              "array([ 8, 46, 94, 77, 88, 10, 50, 86, 52, 70])"
            ]
          },
          "metadata": {
            "tags": []
          },
          "execution_count": 286
        }
      ]
    },
    {
      "cell_type": "code",
      "metadata": {
        "colab": {
          "base_uri": "https://localhost:8080/"
        },
        "id": "I-BX1CpSNdyS",
        "outputId": "fd6448f6-7e5e-45bd-b5ed-89c1e08c7658"
      },
      "source": [
        "type(n1)"
      ],
      "execution_count": 287,
      "outputs": [
        {
          "output_type": "execute_result",
          "data": {
            "text/plain": [
              "numpy.ndarray"
            ]
          },
          "metadata": {
            "tags": []
          },
          "execution_count": 287
        }
      ]
    },
    {
      "cell_type": "code",
      "metadata": {
        "colab": {
          "base_uri": "https://localhost:8080/"
        },
        "id": "DdU4ieF_NnaJ",
        "outputId": "d8b1aefb-ff44-48cb-88ca-a130ec75f5e8"
      },
      "source": [
        "n1.shape"
      ],
      "execution_count": 288,
      "outputs": [
        {
          "output_type": "execute_result",
          "data": {
            "text/plain": [
              "(10,)"
            ]
          },
          "metadata": {
            "tags": []
          },
          "execution_count": 288
        }
      ]
    },
    {
      "cell_type": "code",
      "metadata": {
        "colab": {
          "base_uri": "https://localhost:8080/"
        },
        "id": "iiHpPnJ_Np3B",
        "outputId": "3c823cf7-9a62-44db-e557-f20ef1baa15f"
      },
      "source": [
        "n1.ndim"
      ],
      "execution_count": 289,
      "outputs": [
        {
          "output_type": "execute_result",
          "data": {
            "text/plain": [
              "1"
            ]
          },
          "metadata": {
            "tags": []
          },
          "execution_count": 289
        }
      ]
    },
    {
      "cell_type": "code",
      "metadata": {
        "colab": {
          "base_uri": "https://localhost:8080/"
        },
        "id": "Qg9HDIZKNrOP",
        "outputId": "a5e695cb-ab28-4743-b054-75638196e8b9"
      },
      "source": [
        "n1.size"
      ],
      "execution_count": 290,
      "outputs": [
        {
          "output_type": "execute_result",
          "data": {
            "text/plain": [
              "10"
            ]
          },
          "metadata": {
            "tags": []
          },
          "execution_count": 290
        }
      ]
    },
    {
      "cell_type": "code",
      "metadata": {
        "colab": {
          "base_uri": "https://localhost:8080/"
        },
        "id": "1x0NjDHRNtFi",
        "outputId": "7aa21017-0ac6-4a02-9eaf-76870431b9eb"
      },
      "source": [
        "n1.nbytes  ##총 바이트 값"
      ],
      "execution_count": 291,
      "outputs": [
        {
          "output_type": "execute_result",
          "data": {
            "text/plain": [
              "80"
            ]
          },
          "metadata": {
            "tags": []
          },
          "execution_count": 291
        }
      ]
    },
    {
      "cell_type": "code",
      "metadata": {
        "colab": {
          "base_uri": "https://localhost:8080/"
        },
        "id": "ycfNyzW-NxZy",
        "outputId": "d8300e37-08cf-491e-c45b-cfbb0bc04ae2"
      },
      "source": [
        "n1.itemsize"
      ],
      "execution_count": 292,
      "outputs": [
        {
          "output_type": "execute_result",
          "data": {
            "text/plain": [
              "8"
            ]
          },
          "metadata": {
            "tags": []
          },
          "execution_count": 292
        }
      ]
    },
    {
      "cell_type": "code",
      "metadata": {
        "id": "3vUHNQv7N3x1"
      },
      "source": [
        "n = n1.copy()"
      ],
      "execution_count": 293,
      "outputs": []
    },
    {
      "cell_type": "code",
      "metadata": {
        "colab": {
          "base_uri": "https://localhost:8080/"
        },
        "id": "zCcmVC0POBgd",
        "outputId": "0bb892c6-68bf-4dcd-b01a-c5d6f9fffcaa"
      },
      "source": [
        "n[:]"
      ],
      "execution_count": 294,
      "outputs": [
        {
          "output_type": "execute_result",
          "data": {
            "text/plain": [
              "array([ 8, 46, 94, 77, 88, 10, 50, 86, 52, 70])"
            ]
          },
          "metadata": {
            "tags": []
          },
          "execution_count": 294
        }
      ]
    },
    {
      "cell_type": "code",
      "metadata": {
        "colab": {
          "base_uri": "https://localhost:8080/"
        },
        "id": "1TAbaxM_OGHt",
        "outputId": "8ea49a69-7ce9-4a56-b164-9b5ffe6c6aba"
      },
      "source": [
        "n[0:10]"
      ],
      "execution_count": 295,
      "outputs": [
        {
          "output_type": "execute_result",
          "data": {
            "text/plain": [
              "array([ 8, 46, 94, 77, 88, 10, 50, 86, 52, 70])"
            ]
          },
          "metadata": {
            "tags": []
          },
          "execution_count": 295
        }
      ]
    },
    {
      "cell_type": "code",
      "metadata": {
        "colab": {
          "base_uri": "https://localhost:8080/"
        },
        "id": "HjOrO1xbOH5N",
        "outputId": "d9ce85d0-2b4c-48ad-b963-113c6e0dec48"
      },
      "source": [
        "n[0:10:2]"
      ],
      "execution_count": 296,
      "outputs": [
        {
          "output_type": "execute_result",
          "data": {
            "text/plain": [
              "array([ 8, 94, 88, 50, 52])"
            ]
          },
          "metadata": {
            "tags": []
          },
          "execution_count": 296
        }
      ]
    },
    {
      "cell_type": "code",
      "metadata": {
        "colab": {
          "base_uri": "https://localhost:8080/"
        },
        "id": "0dLl5SbXOQm1",
        "outputId": "5cb601cc-c1bf-47c5-b620-59aaa125ec94"
      },
      "source": [
        "n[0:10:3]"
      ],
      "execution_count": 297,
      "outputs": [
        {
          "output_type": "execute_result",
          "data": {
            "text/plain": [
              "array([ 8, 77, 50, 70])"
            ]
          },
          "metadata": {
            "tags": []
          },
          "execution_count": 297
        }
      ]
    },
    {
      "cell_type": "code",
      "metadata": {
        "colab": {
          "base_uri": "https://localhost:8080/"
        },
        "id": "tuxgEs_vOa6p",
        "outputId": "dce281c4-e1fc-4ced-91c2-8a782e8b3f6c"
      },
      "source": [
        "n[::-1]"
      ],
      "execution_count": 298,
      "outputs": [
        {
          "output_type": "execute_result",
          "data": {
            "text/plain": [
              "array([70, 52, 86, 50, 10, 88, 77, 94, 46,  8])"
            ]
          },
          "metadata": {
            "tags": []
          },
          "execution_count": 298
        }
      ]
    },
    {
      "cell_type": "code",
      "metadata": {
        "colab": {
          "base_uri": "https://localhost:8080/"
        },
        "id": "8IoCf9oROdGx",
        "outputId": "b2ce7ce9-ef0a-4a66-c66a-4eca6d7361a3"
      },
      "source": [
        "n[::-2]"
      ],
      "execution_count": 299,
      "outputs": [
        {
          "output_type": "execute_result",
          "data": {
            "text/plain": [
              "array([70, 86, 10, 77, 46])"
            ]
          },
          "metadata": {
            "tags": []
          },
          "execution_count": 299
        }
      ]
    },
    {
      "cell_type": "code",
      "metadata": {
        "colab": {
          "base_uri": "https://localhost:8080/"
        },
        "id": "FynwhyNrOfAJ",
        "outputId": "936713e2-da5b-4e59-8e31-a9485e7dce85"
      },
      "source": [
        "n.reshape(2, 5)"
      ],
      "execution_count": 300,
      "outputs": [
        {
          "output_type": "execute_result",
          "data": {
            "text/plain": [
              "array([[ 8, 46, 94, 77, 88],\n",
              "       [10, 50, 86, 52, 70]])"
            ]
          },
          "metadata": {
            "tags": []
          },
          "execution_count": 300
        }
      ]
    },
    {
      "cell_type": "code",
      "metadata": {
        "colab": {
          "base_uri": "https://localhost:8080/"
        },
        "id": "v3NnhHYdOiVJ",
        "outputId": "d0827c39-c5ad-4b64-8729-f0602c2acb91"
      },
      "source": [
        "n.reshape(5, 2)"
      ],
      "execution_count": 301,
      "outputs": [
        {
          "output_type": "execute_result",
          "data": {
            "text/plain": [
              "array([[ 8, 46],\n",
              "       [94, 77],\n",
              "       [88, 10],\n",
              "       [50, 86],\n",
              "       [52, 70]])"
            ]
          },
          "metadata": {
            "tags": []
          },
          "execution_count": 301
        }
      ]
    },
    {
      "cell_type": "code",
      "metadata": {
        "id": "iR6ugHc2Ok-C"
      },
      "source": [
        "n.sort()"
      ],
      "execution_count": 302,
      "outputs": []
    },
    {
      "cell_type": "code",
      "metadata": {
        "colab": {
          "base_uri": "https://localhost:8080/",
          "height": 176
        },
        "id": "M1iF9F8MOreC",
        "outputId": "1fde117c-51d9-441d-b9b9-2f09226d4ccb"
      },
      "source": [
        "n1.sort(axis=1)  ##에러"
      ],
      "execution_count": 303,
      "outputs": [
        {
          "output_type": "error",
          "ename": "AxisError",
          "evalue": "ignored",
          "traceback": [
            "\u001b[0;31m---------------------------------------------------------------------------\u001b[0m",
            "\u001b[0;31mAxisError\u001b[0m                                 Traceback (most recent call last)",
            "\u001b[0;32m<ipython-input-303-139fe22adef0>\u001b[0m in \u001b[0;36m<module>\u001b[0;34m()\u001b[0m\n\u001b[0;32m----> 1\u001b[0;31m \u001b[0mn1\u001b[0m\u001b[0;34m.\u001b[0m\u001b[0msort\u001b[0m\u001b[0;34m(\u001b[0m\u001b[0maxis\u001b[0m\u001b[0;34m=\u001b[0m\u001b[0;36m1\u001b[0m\u001b[0;34m)\u001b[0m  \u001b[0;31m##에러\u001b[0m\u001b[0;34m\u001b[0m\u001b[0;34m\u001b[0m\u001b[0m\n\u001b[0m",
            "\u001b[0;31mAxisError\u001b[0m: axis 1 is out of bounds for array of dimension 1"
          ]
        }
      ]
    },
    {
      "cell_type": "code",
      "metadata": {
        "id": "IRc5RoEBPORh"
      },
      "source": [
        "n1.sort?  ##도움말 보기"
      ],
      "execution_count": null,
      "outputs": []
    },
    {
      "cell_type": "code",
      "metadata": {
        "id": "w49Od9FyPTJB"
      },
      "source": [
        "n2 = np.random.randint(1, 100, 12)"
      ],
      "execution_count": null,
      "outputs": []
    },
    {
      "cell_type": "code",
      "metadata": {
        "id": "NsZCS8CYP36i"
      },
      "source": [
        "n2"
      ],
      "execution_count": null,
      "outputs": []
    },
    {
      "cell_type": "code",
      "metadata": {
        "id": "CYs0_KyvP5g5"
      },
      "source": [
        "n2.reshape(3, 4)"
      ],
      "execution_count": null,
      "outputs": []
    },
    {
      "cell_type": "code",
      "metadata": {
        "id": "texnmxWaP9PD"
      },
      "source": [
        "n2.reshape(2, 6)"
      ],
      "execution_count": null,
      "outputs": []
    },
    {
      "cell_type": "code",
      "metadata": {
        "id": "eqLOBz4JQDTr"
      },
      "source": [
        "n2.reshape(4, 3)"
      ],
      "execution_count": null,
      "outputs": []
    },
    {
      "cell_type": "code",
      "metadata": {
        "id": "97la75uoQK0I"
      },
      "source": [
        "n21 = np.arange(1, 17, dtype = np.int16)"
      ],
      "execution_count": null,
      "outputs": []
    },
    {
      "cell_type": "code",
      "metadata": {
        "id": "3b2NEqB9QhRx"
      },
      "source": [
        "n = n21.reshape(4, 4)"
      ],
      "execution_count": null,
      "outputs": []
    },
    {
      "cell_type": "code",
      "metadata": {
        "id": "J-FpfnCgQozR"
      },
      "source": [
        "n"
      ],
      "execution_count": null,
      "outputs": []
    },
    {
      "cell_type": "code",
      "metadata": {
        "id": "KSbJCx3DQ1OA"
      },
      "source": [
        "n[ :, : ]"
      ],
      "execution_count": null,
      "outputs": []
    },
    {
      "cell_type": "code",
      "metadata": {
        "id": "KQQmiVZ-Q7Yo"
      },
      "source": [
        "n[0, 3]"
      ],
      "execution_count": null,
      "outputs": []
    },
    {
      "cell_type": "code",
      "metadata": {
        "id": "TqaTSgXoRIzY"
      },
      "source": [
        "n[0:2, 1:3]"
      ],
      "execution_count": null,
      "outputs": []
    },
    {
      "cell_type": "code",
      "metadata": {
        "id": "JRTT8QLHRVl4"
      },
      "source": [
        "n[1:, 2:]"
      ],
      "execution_count": null,
      "outputs": []
    },
    {
      "cell_type": "code",
      "metadata": {
        "id": "DOkD513GReSh"
      },
      "source": [
        "n[2:, :2]"
      ],
      "execution_count": null,
      "outputs": []
    },
    {
      "cell_type": "code",
      "metadata": {
        "id": "YMk1Y449RnjJ"
      },
      "source": [
        "n[2:, 1:3]"
      ],
      "execution_count": null,
      "outputs": []
    },
    {
      "cell_type": "code",
      "metadata": {
        "id": "ESyLWJVwRrXR"
      },
      "source": [
        "n[0, 1:3] == 0"
      ],
      "execution_count": null,
      "outputs": []
    },
    {
      "cell_type": "code",
      "metadata": {
        "id": "wERP2tnxRulp"
      },
      "source": [
        "a = [2, 3, 5]"
      ],
      "execution_count": null,
      "outputs": []
    },
    {
      "cell_type": "code",
      "metadata": {
        "id": "-YUu63SjSAQZ"
      },
      "source": [
        "a ==5"
      ],
      "execution_count": null,
      "outputs": []
    },
    {
      "cell_type": "code",
      "metadata": {
        "id": "9SQx4dcUSWyR"
      },
      "source": [
        "n[0]<5"
      ],
      "execution_count": null,
      "outputs": []
    },
    {
      "cell_type": "code",
      "metadata": {
        "id": "9QIBkYYiSqpB"
      },
      "source": [
        "n[0][0] ==100"
      ],
      "execution_count": null,
      "outputs": []
    },
    {
      "cell_type": "code",
      "metadata": {
        "id": "2X5bzhTDS3gp"
      },
      "source": [
        "n>10"
      ],
      "execution_count": null,
      "outputs": []
    },
    {
      "cell_type": "markdown",
      "metadata": {
        "id": "eQIPr6rNTeZh"
      },
      "source": [
        "###operation : '+, -, *, /'\n",
        "###비교 : >, <, >=ㅡ <=, ==, !=\n",
        "\n"
      ]
    },
    {
      "cell_type": "code",
      "metadata": {
        "id": "e5MijMjuS5KR"
      },
      "source": [
        "n[:, 0] "
      ],
      "execution_count": null,
      "outputs": []
    },
    {
      "cell_type": "code",
      "metadata": {
        "id": "ftgDsEC1TKVw"
      },
      "source": [
        "n[:, -1] = 100"
      ],
      "execution_count": null,
      "outputs": []
    },
    {
      "cell_type": "code",
      "metadata": {
        "id": "gCvp2pyvT3bi"
      },
      "source": [
        "n"
      ],
      "execution_count": null,
      "outputs": []
    },
    {
      "cell_type": "code",
      "metadata": {
        "id": "FKsrmJ3JT4bR"
      },
      "source": [
        "n.sum()"
      ],
      "execution_count": null,
      "outputs": []
    },
    {
      "cell_type": "code",
      "metadata": {
        "id": "Ki7LVksBULpQ"
      },
      "source": [
        "n[0].sum()"
      ],
      "execution_count": null,
      "outputs": []
    },
    {
      "cell_type": "code",
      "metadata": {
        "id": "yfu6X_RpURgg"
      },
      "source": [
        "n.max"
      ],
      "execution_count": null,
      "outputs": []
    },
    {
      "cell_type": "code",
      "metadata": {
        "id": "NFQoJ9m4UVsw"
      },
      "source": [
        "n.max(axis = 0)"
      ],
      "execution_count": null,
      "outputs": []
    },
    {
      "cell_type": "code",
      "metadata": {
        "id": "YFoSYdZEUjeI"
      },
      "source": [
        "n.std()"
      ],
      "execution_count": null,
      "outputs": []
    },
    {
      "cell_type": "code",
      "metadata": {
        "id": "9iTZrM3GU5Qw"
      },
      "source": [
        "np.median(n)"
      ],
      "execution_count": null,
      "outputs": []
    },
    {
      "cell_type": "code",
      "metadata": {
        "id": "vCtsy5VWVCq4"
      },
      "source": [
        "np.median(n[0])"
      ],
      "execution_count": null,
      "outputs": []
    },
    {
      "cell_type": "code",
      "metadata": {
        "id": "6WessXJ8VLQf"
      },
      "source": [
        "np.zeros(5)"
      ],
      "execution_count": null,
      "outputs": []
    },
    {
      "cell_type": "code",
      "metadata": {
        "id": "UCxU9ur4WmcH"
      },
      "source": [
        "np.ones(5)"
      ],
      "execution_count": null,
      "outputs": []
    },
    {
      "cell_type": "code",
      "metadata": {
        "id": "lqW6QpvLWvUH"
      },
      "source": [
        "np.tri(10)"
      ],
      "execution_count": null,
      "outputs": []
    },
    {
      "cell_type": "code",
      "metadata": {
        "id": "rUG8Y90vWxyX"
      },
      "source": [
        "np.empty(6) "
      ],
      "execution_count": null,
      "outputs": []
    },
    {
      "cell_type": "code",
      "metadata": {
        "id": "pvwwXRGjW5oQ"
      },
      "source": [
        "np.zeros((2, 6))"
      ],
      "execution_count": null,
      "outputs": []
    },
    {
      "cell_type": "code",
      "metadata": {
        "id": "2lIfbo5NXNtn"
      },
      "source": [
        "np.ones((3, 4))"
      ],
      "execution_count": null,
      "outputs": []
    },
    {
      "cell_type": "code",
      "metadata": {
        "id": "ba_6YoqcXRfn"
      },
      "source": [
        "np.array([4, 5, 6, 7])"
      ],
      "execution_count": null,
      "outputs": []
    },
    {
      "cell_type": "code",
      "metadata": {
        "id": "5d8mThqLXZCP"
      },
      "source": [
        "n7 = np.array([4, 5, 6, 7])"
      ],
      "execution_count": null,
      "outputs": []
    },
    {
      "cell_type": "code",
      "metadata": {
        "id": "sR1DJdnkXc2I"
      },
      "source": [
        "n7.nbytes"
      ],
      "execution_count": null,
      "outputs": []
    },
    {
      "cell_type": "code",
      "metadata": {
        "id": "y3k5av5uXqEg"
      },
      "source": [
        "n8 = np.array([4, 5, 6, 7], np.int32)"
      ],
      "execution_count": null,
      "outputs": []
    },
    {
      "cell_type": "code",
      "metadata": {
        "id": "Ncym-gaFXuAw"
      },
      "source": [
        "n8.nbytes"
      ],
      "execution_count": null,
      "outputs": []
    },
    {
      "cell_type": "code",
      "metadata": {
        "id": "I0-c1nDOXzUI"
      },
      "source": [
        "k = [i for i in range(5, 51, 5)]"
      ],
      "execution_count": null,
      "outputs": []
    },
    {
      "cell_type": "code",
      "metadata": {
        "id": "HuQ-EgZyX5Qg"
      },
      "source": [
        "k"
      ],
      "execution_count": null,
      "outputs": []
    },
    {
      "cell_type": "code",
      "metadata": {
        "id": "8YitD9BAX6Lo"
      },
      "source": [
        "type(k)"
      ],
      "execution_count": null,
      "outputs": []
    },
    {
      "cell_type": "code",
      "metadata": {
        "id": "5J2Y_gnLX774"
      },
      "source": [
        "t = (i for i in range(10, 101, 10)) "
      ],
      "execution_count": null,
      "outputs": []
    },
    {
      "cell_type": "code",
      "metadata": {
        "id": "JcFQiAIMYJgu"
      },
      "source": [
        "t"
      ],
      "execution_count": null,
      "outputs": []
    },
    {
      "cell_type": "code",
      "metadata": {
        "id": "_GJhLAiZYKHn"
      },
      "source": [
        "type(t)"
      ],
      "execution_count": null,
      "outputs": []
    },
    {
      "cell_type": "code",
      "metadata": {
        "id": "zccR9JpxYLm3"
      },
      "source": [
        "n10 = np.array(k)"
      ],
      "execution_count": null,
      "outputs": []
    },
    {
      "cell_type": "code",
      "metadata": {
        "id": "yx8ozWA8YPC_"
      },
      "source": [
        "n10"
      ],
      "execution_count": null,
      "outputs": []
    },
    {
      "cell_type": "code",
      "metadata": {
        "id": "i8c2K1sVYRaH"
      },
      "source": [
        "n11 = np.array(t)"
      ],
      "execution_count": null,
      "outputs": []
    },
    {
      "cell_type": "code",
      "metadata": {
        "id": "1E2wWatnYWcH"
      },
      "source": [
        "n11"
      ],
      "execution_count": null,
      "outputs": []
    },
    {
      "cell_type": "code",
      "metadata": {
        "id": "17Z3joBeZDL3"
      },
      "source": [
        "s1 = pd.Series([2, 4, 6, 8])"
      ],
      "execution_count": null,
      "outputs": []
    },
    {
      "cell_type": "code",
      "metadata": {
        "id": "EwmpAzm4Zriv"
      },
      "source": [
        "type(s1)"
      ],
      "execution_count": null,
      "outputs": []
    },
    {
      "cell_type": "code",
      "metadata": {
        "id": "p3wafMSRZu5X"
      },
      "source": [
        "s1.shape"
      ],
      "execution_count": null,
      "outputs": []
    },
    {
      "cell_type": "code",
      "metadata": {
        "id": "EMb9TtCGZw7n"
      },
      "source": [
        "s1.ndim"
      ],
      "execution_count": null,
      "outputs": []
    },
    {
      "cell_type": "code",
      "metadata": {
        "id": "wuqvyuLtZzMv"
      },
      "source": [
        "s1.nbytes"
      ],
      "execution_count": null,
      "outputs": []
    },
    {
      "cell_type": "code",
      "metadata": {
        "id": "w4EFXqHvZ5k3"
      },
      "source": [
        "s1.items"
      ],
      "execution_count": null,
      "outputs": []
    },
    {
      "cell_type": "code",
      "metadata": {
        "id": "yk3gfaMcZ8zw"
      },
      "source": [
        "s1.index"
      ],
      "execution_count": null,
      "outputs": []
    },
    {
      "cell_type": "code",
      "metadata": {
        "id": "THeEt02naDpP"
      },
      "source": [
        "s1  ##좌측의 값은 '인텍스'\n",
        "    ##인텍스를 묵시적으로 입력함"
      ],
      "execution_count": null,
      "outputs": []
    },
    {
      "cell_type": "code",
      "metadata": {
        "id": "HF7GrIPOaLjv"
      },
      "source": [
        "s1.index = ['T', 'K', 'B', 'Q'] ## 인텍스를 명시적으로 나타냄"
      ],
      "execution_count": null,
      "outputs": []
    },
    {
      "cell_type": "code",
      "metadata": {
        "id": "Jb9f6dveag5H"
      },
      "source": [
        "s1"
      ],
      "execution_count": null,
      "outputs": []
    },
    {
      "cell_type": "code",
      "metadata": {
        "id": "nHnHbbt_any_"
      },
      "source": [
        "s1[0]"
      ],
      "execution_count": null,
      "outputs": []
    },
    {
      "cell_type": "code",
      "metadata": {
        "id": "hNS1aWnnbh6P"
      },
      "source": [
        "s1[2]"
      ],
      "execution_count": null,
      "outputs": []
    },
    {
      "cell_type": "code",
      "metadata": {
        "id": "iFuvS7Npbjbf"
      },
      "source": [
        "s1['T']"
      ],
      "execution_count": null,
      "outputs": []
    },
    {
      "cell_type": "code",
      "metadata": {
        "id": "C25QB43DbqA2"
      },
      "source": [
        "s1.iloc[1]  #i는 인텍스를 나타냄"
      ],
      "execution_count": null,
      "outputs": []
    },
    {
      "cell_type": "code",
      "metadata": {
        "id": "5ynwIrsicKHr"
      },
      "source": [
        "s1.loc[1]  ##에러"
      ],
      "execution_count": null,
      "outputs": []
    },
    {
      "cell_type": "code",
      "metadata": {
        "id": "jNg-5AfNcmnm"
      },
      "source": [
        "s1.loc['T']"
      ],
      "execution_count": null,
      "outputs": []
    },
    {
      "cell_type": "markdown",
      "metadata": {
        "id": "LeAHfrMQjTW6"
      },
      "source": [
        "---"
      ]
    },
    {
      "cell_type": "code",
      "metadata": {
        "id": "8Bim3qWCiuAT"
      },
      "source": [
        "pd1 = pd.read_csv('/content/sample_data/california_housing_test.csv')"
      ],
      "execution_count": null,
      "outputs": []
    },
    {
      "cell_type": "code",
      "metadata": {
        "id": "UnLGdDP2i4aN"
      },
      "source": [
        "type(pd1)"
      ],
      "execution_count": null,
      "outputs": []
    },
    {
      "cell_type": "code",
      "metadata": {
        "id": "ipZoJvaoi6S9"
      },
      "source": [
        "pd1.shape"
      ],
      "execution_count": null,
      "outputs": []
    },
    {
      "cell_type": "code",
      "metadata": {
        "id": "Pq77yZrhi-al"
      },
      "source": [
        "p = pd1.copy()"
      ],
      "execution_count": null,
      "outputs": []
    },
    {
      "cell_type": "code",
      "metadata": {
        "id": "2kQmNKMxjDnl"
      },
      "source": [
        "p"
      ],
      "execution_count": null,
      "outputs": []
    },
    {
      "cell_type": "code",
      "metadata": {
        "id": "aNv4eLJ-jFGV"
      },
      "source": [
        "p.head(3)"
      ],
      "execution_count": null,
      "outputs": []
    },
    {
      "cell_type": "code",
      "metadata": {
        "id": "Hms3giaHjbBF"
      },
      "source": [
        "p.tail(3)"
      ],
      "execution_count": null,
      "outputs": []
    },
    {
      "cell_type": "code",
      "metadata": {
        "id": "XCpOS-nzjdDl"
      },
      "source": [
        "pd2 = pd.read_csv('/content/sample_data/sc.csv', encoding = 'cp949')  ##ansi로 저장되어 있으면 뒤에 인코딩 'cp949' "
      ],
      "execution_count": null,
      "outputs": []
    },
    {
      "cell_type": "code",
      "metadata": {
        "id": "PLwMHuCLj9YQ"
      },
      "source": [
        "pd2"
      ],
      "execution_count": null,
      "outputs": []
    },
    {
      "cell_type": "code",
      "metadata": {
        "id": "KR83VMDLkEzV"
      },
      "source": [
        "p = pd2.copy()"
      ],
      "execution_count": null,
      "outputs": []
    },
    {
      "cell_type": "code",
      "metadata": {
        "id": "Xj3v2fCekQnt"
      },
      "source": [
        "p"
      ],
      "execution_count": null,
      "outputs": []
    },
    {
      "cell_type": "code",
      "metadata": {
        "id": "5YFp64mkkUd1"
      },
      "source": [
        "pd2 = pd.read_csv('/content/sample_data/sc.csv',header=None, encoding = 'cp949')"
      ],
      "execution_count": null,
      "outputs": []
    },
    {
      "cell_type": "code",
      "metadata": {
        "id": "a4r0f6J4k0P1"
      },
      "source": [
        "pd2"
      ],
      "execution_count": null,
      "outputs": []
    },
    {
      "cell_type": "code",
      "metadata": {
        "id": "9faVtTcrk1Ud"
      },
      "source": [
        "p = pd2.copy()"
      ],
      "execution_count": null,
      "outputs": []
    },
    {
      "cell_type": "code",
      "metadata": {
        "id": "8KcLIa3Jk6ht"
      },
      "source": [
        "p"
      ],
      "execution_count": null,
      "outputs": []
    },
    {
      "cell_type": "code",
      "metadata": {
        "id": "1FjlIFOyk7LV"
      },
      "source": [
        "p.columns = ['이름', '국어', '영어', '수학']"
      ],
      "execution_count": null,
      "outputs": []
    },
    {
      "cell_type": "code",
      "metadata": {
        "id": "cXWaCn6XlJas"
      },
      "source": [
        "p"
      ],
      "execution_count": null,
      "outputs": []
    },
    {
      "cell_type": "code",
      "metadata": {
        "id": "awsgXkrOlKHY"
      },
      "source": [
        " p.shape"
      ],
      "execution_count": null,
      "outputs": []
    },
    {
      "cell_type": "code",
      "metadata": {
        "id": "nEGfIblTmZsN"
      },
      "source": [
        "type(p)"
      ],
      "execution_count": null,
      "outputs": []
    },
    {
      "cell_type": "code",
      "metadata": {
        "id": "BcCO8NF7mbxl"
      },
      "source": [
        "p.ndim"
      ],
      "execution_count": null,
      "outputs": []
    },
    {
      "cell_type": "code",
      "metadata": {
        "id": "MVmKG7lwmdzc"
      },
      "source": [
        "p.size"
      ],
      "execution_count": null,
      "outputs": []
    },
    {
      "cell_type": "code",
      "metadata": {
        "id": "zc3T8ia2mjuV"
      },
      "source": [
        "p.info()"
      ],
      "execution_count": null,
      "outputs": []
    },
    {
      "cell_type": "code",
      "metadata": {
        "id": "zLYcRRRWmpxl"
      },
      "source": [
        "p.describe()"
      ],
      "execution_count": null,
      "outputs": []
    },
    {
      "cell_type": "code",
      "metadata": {
        "id": "BLppzgrSmtEV"
      },
      "source": [
        "p.index"
      ],
      "execution_count": null,
      "outputs": []
    },
    {
      "cell_type": "code",
      "metadata": {
        "id": "iQftd44Jm3vt"
      },
      "source": [
        "p.columns"
      ],
      "execution_count": null,
      "outputs": []
    },
    {
      "cell_type": "code",
      "metadata": {
        "id": "MravNVJim5Ps"
      },
      "source": [
        "p['총점'] = p['국어']+p['수학']+p['영어']"
      ],
      "execution_count": null,
      "outputs": []
    },
    {
      "cell_type": "code",
      "metadata": {
        "id": "0ssuD4__nSwH"
      },
      "source": [
        "p['총점']"
      ],
      "execution_count": null,
      "outputs": []
    },
    {
      "cell_type": "code",
      "metadata": {
        "id": "hD9G7G1pnjS0"
      },
      "source": [
        "p['평균'] = p['총점']/3"
      ],
      "execution_count": null,
      "outputs": []
    },
    {
      "cell_type": "code",
      "metadata": {
        "id": "o__748q_npG0"
      },
      "source": [
        "p['평균']"
      ],
      "execution_count": null,
      "outputs": []
    },
    {
      "cell_type": "code",
      "metadata": {
        "id": "uBVMo6pxnsPc"
      },
      "source": [
        "p.iloc[:, 1:4].sum() "
      ],
      "execution_count": null,
      "outputs": []
    },
    {
      "cell_type": "code",
      "metadata": {
        "id": "kxMs3pOPqCIB"
      },
      "source": [
        "p.iloc[:,3:] > 70  ##문제\n",
        "                   ###수학점수가 70점 이상인 사람만 뽑아내기"
      ],
      "execution_count": null,
      "outputs": []
    },
    {
      "cell_type": "code",
      "metadata": {
        "id": "YawtdENnrW7J"
      },
      "source": [
        "p[3, 0] ##에러, p[3][0]도 에러"
      ],
      "execution_count": null,
      "outputs": []
    },
    {
      "cell_type": "code",
      "metadata": {
        "id": "rFn7U50aqyh2"
      },
      "source": [
        "p.iloc[3, 0]"
      ],
      "execution_count": null,
      "outputs": []
    },
    {
      "cell_type": "code",
      "metadata": {
        "id": "2xZchcrkrDPM"
      },
      "source": [
        "p['이름']"
      ],
      "execution_count": null,
      "outputs": []
    },
    {
      "cell_type": "code",
      "metadata": {
        "id": "Km4pLPyLrWHg"
      },
      "source": [
        "p.loc[:,['이름']]"
      ],
      "execution_count": null,
      "outputs": []
    },
    {
      "cell_type": "code",
      "metadata": {
        "id": "ZtP_LrwGriaT"
      },
      "source": [
        "p.loc[:,['이름','수학']]"
      ],
      "execution_count": null,
      "outputs": []
    },
    {
      "cell_type": "code",
      "metadata": {
        "id": "cLWxgjUVrznh"
      },
      "source": [
        "p.iloc[4:7, 1:3]"
      ],
      "execution_count": null,
      "outputs": []
    },
    {
      "cell_type": "code",
      "metadata": {
        "id": "bnpA-uc2sMB0"
      },
      "source": [
        "p['국어'] >=70  ##마스킹"
      ],
      "execution_count": null,
      "outputs": []
    },
    {
      "cell_type": "code",
      "metadata": {
        "id": "cmgMG_PHshHD"
      },
      "source": [
        "p.iloc[:, 1:] >= 70"
      ],
      "execution_count": null,
      "outputs": []
    },
    {
      "cell_type": "code",
      "metadata": {
        "id": "7bS3ck-rsk97"
      },
      "source": [
        "p.loc[3:6]"
      ],
      "execution_count": null,
      "outputs": []
    },
    {
      "cell_type": "code",
      "metadata": {
        "id": "sCIN4CHhtIrr"
      },
      "source": [
        "p.iloc[:, 2:] <= 60"
      ],
      "execution_count": null,
      "outputs": []
    },
    {
      "cell_type": "code",
      "metadata": {
        "id": "2KSpl-C8tTcl"
      },
      "source": [
        "p.loc[:, ['국어', '영어', '수학']] <= 60  ##i는 inteser를 의미한다."
      ],
      "execution_count": null,
      "outputs": []
    },
    {
      "cell_type": "code",
      "metadata": {
        "id": "Gfmg0WlctoMz"
      },
      "source": [
        "p.sum()"
      ],
      "execution_count": null,
      "outputs": []
    },
    {
      "cell_type": "code",
      "metadata": {
        "id": "hKwaoINuuJJI"
      },
      "source": [
        "p.mean()  ##반평균"
      ],
      "execution_count": null,
      "outputs": []
    },
    {
      "cell_type": "code",
      "metadata": {
        "id": "f5Jn3R7VucaL"
      },
      "source": [
        "p.sum(axis = 1)"
      ],
      "execution_count": null,
      "outputs": []
    },
    {
      "cell_type": "code",
      "metadata": {
        "id": "OL-V8fAauiCb"
      },
      "source": [
        "p['국어'].value_counts()  ##점수 분포도 "
      ],
      "execution_count": null,
      "outputs": []
    },
    {
      "cell_type": "code",
      "metadata": {
        "id": "L-h8epnFvRi7"
      },
      "source": [
        "p['국어'].value_counts(ascending = False)"
      ],
      "execution_count": null,
      "outputs": []
    },
    {
      "cell_type": "code",
      "metadata": {
        "id": "J5Vj7pFOveAj"
      },
      "source": [
        "p['국어'].sort_values()"
      ],
      "execution_count": null,
      "outputs": []
    },
    {
      "cell_type": "code",
      "metadata": {
        "id": "xno7yqEQviaz"
      },
      "source": [
        "p['국어'].sort_values(ascending=False)"
      ],
      "execution_count": null,
      "outputs": []
    },
    {
      "cell_type": "code",
      "metadata": {
        "id": "bgEe3ovnvpkz"
      },
      "source": [
        "p.sort_values(by = '영어')"
      ],
      "execution_count": null,
      "outputs": []
    },
    {
      "cell_type": "code",
      "metadata": {
        "id": "0AvNqQe-v1CV"
      },
      "source": [
        "p.sort_values(by = ['영어', '수학'])  ##값의 배열이 바뀐 것은 아님"
      ],
      "execution_count": null,
      "outputs": []
    },
    {
      "cell_type": "code",
      "metadata": {
        "id": "mucoBRXIv_xv"
      },
      "source": [
        "p"
      ],
      "execution_count": null,
      "outputs": []
    },
    {
      "cell_type": "code",
      "metadata": {
        "id": "QmEpgDr3wIgF"
      },
      "source": [
        "p.sort_values(by = ['영어', '수학'], inplace=True)  ##데이터 프레임이 바뀜"
      ],
      "execution_count": null,
      "outputs": []
    },
    {
      "cell_type": "code",
      "metadata": {
        "id": "jJANOCr8wO2L"
      },
      "source": [
        "p"
      ],
      "execution_count": null,
      "outputs": []
    },
    {
      "cell_type": "code",
      "metadata": {
        "id": "AFV4zNy4wP6j"
      },
      "source": [
        "p['영어']+5  ##영어 과목만 5점 올린다."
      ],
      "execution_count": null,
      "outputs": []
    },
    {
      "cell_type": "code",
      "metadata": {
        "id": "e9fm_QYywrcC"
      },
      "source": [
        "def get_grade(x):\n",
        "    grade = ''\n",
        "    if x >= 90:\n",
        "        grade = '수'\n",
        "    elif x >= 80:\n",
        "        grade = '우'\n",
        "    elif x >= 70:\n",
        "        grade = '미'\n",
        "    elif x >= 60:\n",
        "        grade = '양' \n",
        "    else: grade = '가'\n",
        "    return grade \n",
        "\n",
        "p['평가'] = p['평균'].apply(lambda x: get_grade(x))     "
      ],
      "execution_count": 306,
      "outputs": []
    },
    {
      "cell_type": "code",
      "metadata": {
        "colab": {
          "base_uri": "https://localhost:8080/",
          "height": 355
        },
        "id": "7WVvhtWuyWsW",
        "outputId": "75191851-11bd-4aee-e80e-a2ce83c00495"
      },
      "source": [
        "p"
      ],
      "execution_count": 307,
      "outputs": [
        {
          "output_type": "execute_result",
          "data": {
            "text/html": [
              "<div>\n",
              "<style scoped>\n",
              "    .dataframe tbody tr th:only-of-type {\n",
              "        vertical-align: middle;\n",
              "    }\n",
              "\n",
              "    .dataframe tbody tr th {\n",
              "        vertical-align: top;\n",
              "    }\n",
              "\n",
              "    .dataframe thead th {\n",
              "        text-align: right;\n",
              "    }\n",
              "</style>\n",
              "<table border=\"1\" class=\"dataframe\">\n",
              "  <thead>\n",
              "    <tr style=\"text-align: right;\">\n",
              "      <th></th>\n",
              "      <th>이름</th>\n",
              "      <th>국어</th>\n",
              "      <th>영어</th>\n",
              "      <th>수학</th>\n",
              "      <th>총점</th>\n",
              "      <th>평균</th>\n",
              "      <th>평가</th>\n",
              "    </tr>\n",
              "  </thead>\n",
              "  <tbody>\n",
              "    <tr>\n",
              "      <th>6</th>\n",
              "      <td>임꺽정</td>\n",
              "      <td>15</td>\n",
              "      <td>35</td>\n",
              "      <td>45</td>\n",
              "      <td>95</td>\n",
              "      <td>31.666667</td>\n",
              "      <td>가</td>\n",
              "    </tr>\n",
              "    <tr>\n",
              "      <th>3</th>\n",
              "      <td>황진이</td>\n",
              "      <td>35</td>\n",
              "      <td>45</td>\n",
              "      <td>20</td>\n",
              "      <td>100</td>\n",
              "      <td>33.333333</td>\n",
              "      <td>가</td>\n",
              "    </tr>\n",
              "    <tr>\n",
              "      <th>9</th>\n",
              "      <td>이누리</td>\n",
              "      <td>50</td>\n",
              "      <td>45</td>\n",
              "      <td>60</td>\n",
              "      <td>155</td>\n",
              "      <td>51.666667</td>\n",
              "      <td>가</td>\n",
              "    </tr>\n",
              "    <tr>\n",
              "      <th>1</th>\n",
              "      <td>강감찬</td>\n",
              "      <td>75</td>\n",
              "      <td>80</td>\n",
              "      <td>95</td>\n",
              "      <td>250</td>\n",
              "      <td>83.333333</td>\n",
              "      <td>우</td>\n",
              "    </tr>\n",
              "    <tr>\n",
              "      <th>4</th>\n",
              "      <td>안중근</td>\n",
              "      <td>90</td>\n",
              "      <td>85</td>\n",
              "      <td>90</td>\n",
              "      <td>265</td>\n",
              "      <td>88.333333</td>\n",
              "      <td>우</td>\n",
              "    </tr>\n",
              "    <tr>\n",
              "      <th>0</th>\n",
              "      <td>이순신</td>\n",
              "      <td>85</td>\n",
              "      <td>87</td>\n",
              "      <td>90</td>\n",
              "      <td>262</td>\n",
              "      <td>87.333333</td>\n",
              "      <td>우</td>\n",
              "    </tr>\n",
              "    <tr>\n",
              "      <th>8</th>\n",
              "      <td>정몽주</td>\n",
              "      <td>90</td>\n",
              "      <td>90</td>\n",
              "      <td>95</td>\n",
              "      <td>275</td>\n",
              "      <td>91.666667</td>\n",
              "      <td>수</td>\n",
              "    </tr>\n",
              "    <tr>\n",
              "      <th>7</th>\n",
              "      <td>김정호</td>\n",
              "      <td>90</td>\n",
              "      <td>95</td>\n",
              "      <td>80</td>\n",
              "      <td>265</td>\n",
              "      <td>88.333333</td>\n",
              "      <td>우</td>\n",
              "    </tr>\n",
              "    <tr>\n",
              "      <th>5</th>\n",
              "      <td>박문수</td>\n",
              "      <td>95</td>\n",
              "      <td>98</td>\n",
              "      <td>96</td>\n",
              "      <td>289</td>\n",
              "      <td>96.333333</td>\n",
              "      <td>수</td>\n",
              "    </tr>\n",
              "    <tr>\n",
              "      <th>2</th>\n",
              "      <td>한석봉</td>\n",
              "      <td>99</td>\n",
              "      <td>98</td>\n",
              "      <td>99</td>\n",
              "      <td>296</td>\n",
              "      <td>98.666667</td>\n",
              "      <td>수</td>\n",
              "    </tr>\n",
              "  </tbody>\n",
              "</table>\n",
              "</div>"
            ],
            "text/plain": [
              "    이름  국어  영어  수학   총점         평균 평가\n",
              "6  임꺽정  15  35  45   95  31.666667  가\n",
              "3  황진이  35  45  20  100  33.333333  가\n",
              "9  이누리  50  45  60  155  51.666667  가\n",
              "1  강감찬  75  80  95  250  83.333333  우\n",
              "4  안중근  90  85  90  265  88.333333  우\n",
              "0  이순신  85  87  90  262  87.333333  우\n",
              "8  정몽주  90  90  95  275  91.666667  수\n",
              "7  김정호  90  95  80  265  88.333333  우\n",
              "5  박문수  95  98  96  289  96.333333  수\n",
              "2  한석봉  99  98  99  296  98.666667  수"
            ]
          },
          "metadata": {
            "tags": []
          },
          "execution_count": 307
        }
      ]
    },
    {
      "cell_type": "code",
      "metadata": {
        "id": "hNKOOcbrycl6"
      },
      "source": [
        ""
      ],
      "execution_count": null,
      "outputs": []
    }
  ]
}