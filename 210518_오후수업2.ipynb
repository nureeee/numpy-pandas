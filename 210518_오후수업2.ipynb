{
  "nbformat": 4,
  "nbformat_minor": 0,
  "metadata": {
    "colab": {
      "name": "210518_오후수업2.ipynb",
      "provenance": [],
      "collapsed_sections": []
    },
    "kernelspec": {
      "name": "python3",
      "display_name": "Python 3"
    },
    "language_info": {
      "name": "python"
    }
  },
  "cells": [
    {
      "cell_type": "markdown",
      "metadata": {
        "id": "NyAvDXcmZJh-"
      },
      "source": [
        "판다스 맛보기"
      ]
    },
    {
      "cell_type": "code",
      "metadata": {
        "id": "eLkHRRuzZOku"
      },
      "source": [
        "import numpy as np\n",
        "import pandas as pd"
      ],
      "execution_count": 1,
      "outputs": []
    },
    {
      "cell_type": "code",
      "metadata": {
        "colab": {
          "base_uri": "https://localhost:8080/"
        },
        "id": "bXmsdiOEaPRH",
        "outputId": "fd6cb972-3061-4271-8e6f-e12fda61f6bd"
      },
      "source": [
        "type(pd)"
      ],
      "execution_count": 3,
      "outputs": [
        {
          "output_type": "execute_result",
          "data": {
            "text/plain": [
              "module"
            ]
          },
          "metadata": {
            "tags": []
          },
          "execution_count": 3
        }
      ]
    },
    {
      "cell_type": "code",
      "metadata": {
        "id": "DNWLcLYpak7Y"
      },
      "source": [
        "s1 = pd.Series([1, 2, 3, 4])"
      ],
      "execution_count": 4,
      "outputs": []
    },
    {
      "cell_type": "code",
      "metadata": {
        "id": "SuE09k2satLv"
      },
      "source": [
        "s2 = pd.Series(['서울', '부산', '대구', '광주'])"
      ],
      "execution_count": 6,
      "outputs": []
    },
    {
      "cell_type": "code",
      "metadata": {
        "colab": {
          "base_uri": "https://localhost:8080/"
        },
        "id": "nzcEn1cua2Ov",
        "outputId": "65127575-9f4d-4f73-d847-8e586bf8126e"
      },
      "source": [
        "s1.dtype"
      ],
      "execution_count": 7,
      "outputs": [
        {
          "output_type": "execute_result",
          "data": {
            "text/plain": [
              "dtype('int64')"
            ]
          },
          "metadata": {
            "tags": []
          },
          "execution_count": 7
        }
      ]
    },
    {
      "cell_type": "code",
      "metadata": {
        "colab": {
          "base_uri": "https://localhost:8080/"
        },
        "id": "Ys98ktjcbHZ_",
        "outputId": "e2b27e97-40e8-413d-825e-de396e040556"
      },
      "source": [
        "s2.dtype"
      ],
      "execution_count": 8,
      "outputs": [
        {
          "output_type": "execute_result",
          "data": {
            "text/plain": [
              "dtype('O')"
            ]
          },
          "metadata": {
            "tags": []
          },
          "execution_count": 8
        }
      ]
    },
    {
      "cell_type": "code",
      "metadata": {
        "colab": {
          "base_uri": "https://localhost:8080/"
        },
        "id": "xChgv_mBbKqH",
        "outputId": "c34531c5-e95e-4b0e-c070-2fec968fd026"
      },
      "source": [
        "type(s1)"
      ],
      "execution_count": 9,
      "outputs": [
        {
          "output_type": "execute_result",
          "data": {
            "text/plain": [
              "pandas.core.series.Series"
            ]
          },
          "metadata": {
            "tags": []
          },
          "execution_count": 9
        }
      ]
    },
    {
      "cell_type": "code",
      "metadata": {
        "colab": {
          "base_uri": "https://localhost:8080/"
        },
        "id": "Gkx-mOAibR_X",
        "outputId": "24069c38-84d9-403f-8b02-62ec8835a588"
      },
      "source": [
        "type(s2)"
      ],
      "execution_count": 11,
      "outputs": [
        {
          "output_type": "execute_result",
          "data": {
            "text/plain": [
              "pandas.core.series.Series"
            ]
          },
          "metadata": {
            "tags": []
          },
          "execution_count": 11
        }
      ]
    },
    {
      "cell_type": "code",
      "metadata": {
        "id": "4g-aoarMbVyH"
      },
      "source": [
        "s3 = pd.Series([15, 45, 75, 35, 25]) ## 시리즈는 1차원!! 배열 리스트와 똑같음"
      ],
      "execution_count": 15,
      "outputs": []
    },
    {
      "cell_type": "code",
      "metadata": {
        "colab": {
          "base_uri": "https://localhost:8080/"
        },
        "id": "EDlL7_MqbiXy",
        "outputId": "59e077c7-2413-4bd4-c700-24b1c7aaed3a"
      },
      "source": [
        "s3.sum()"
      ],
      "execution_count": 17,
      "outputs": [
        {
          "output_type": "execute_result",
          "data": {
            "text/plain": [
              "195"
            ]
          },
          "metadata": {
            "tags": []
          },
          "execution_count": 17
        }
      ]
    },
    {
      "cell_type": "code",
      "metadata": {
        "colab": {
          "base_uri": "https://localhost:8080/"
        },
        "id": "MwBYfZ72bpga",
        "outputId": "473b7a23-77ef-4d40-9c06-bb7c757c247a"
      },
      "source": [
        "s3.describe"
      ],
      "execution_count": 18,
      "outputs": [
        {
          "output_type": "execute_result",
          "data": {
            "text/plain": [
              "<bound method NDFrame.describe of 0    15\n",
              "1    45\n",
              "2    75\n",
              "3    35\n",
              "4    25\n",
              "dtype: int64>"
            ]
          },
          "metadata": {
            "tags": []
          },
          "execution_count": 18
        }
      ]
    },
    {
      "cell_type": "code",
      "metadata": {
        "colab": {
          "base_uri": "https://localhost:8080/"
        },
        "id": "Z7wpFPDlb7j_",
        "outputId": "4c3436a1-bf83-4802-f48b-1bffa9413f3c"
      },
      "source": [
        "s3.sum"
      ],
      "execution_count": 19,
      "outputs": [
        {
          "output_type": "execute_result",
          "data": {
            "text/plain": [
              "<bound method Series.sum of 0    15\n",
              "1    45\n",
              "2    75\n",
              "3    35\n",
              "4    25\n",
              "dtype: int64>"
            ]
          },
          "metadata": {
            "tags": []
          },
          "execution_count": 19
        }
      ]
    },
    {
      "cell_type": "code",
      "metadata": {
        "colab": {
          "base_uri": "https://localhost:8080/"
        },
        "id": "b7D_1t4bb9S_",
        "outputId": "21a18fa3-f60d-416f-d33a-232e14c8806f"
      },
      "source": [
        "s3.mean()"
      ],
      "execution_count": 20,
      "outputs": [
        {
          "output_type": "execute_result",
          "data": {
            "text/plain": [
              "39.0"
            ]
          },
          "metadata": {
            "tags": []
          },
          "execution_count": 20
        }
      ]
    },
    {
      "cell_type": "code",
      "metadata": {
        "colab": {
          "base_uri": "https://localhost:8080/"
        },
        "id": "0ppZRPkIcSKu",
        "outputId": "b492c842-cb99-4199-867a-ef2bcc3c849b"
      },
      "source": [
        "s3.shape"
      ],
      "execution_count": 22,
      "outputs": [
        {
          "output_type": "execute_result",
          "data": {
            "text/plain": [
              "(5,)"
            ]
          },
          "metadata": {
            "tags": []
          },
          "execution_count": 22
        }
      ]
    },
    {
      "cell_type": "code",
      "metadata": {
        "colab": {
          "base_uri": "https://localhost:8080/"
        },
        "id": "PmQw8Luycjhv",
        "outputId": "cf167312-d054-45c1-baa4-2d2ba1eec166"
      },
      "source": [
        "s3.size"
      ],
      "execution_count": 23,
      "outputs": [
        {
          "output_type": "execute_result",
          "data": {
            "text/plain": [
              "5"
            ]
          },
          "metadata": {
            "tags": []
          },
          "execution_count": 23
        }
      ]
    },
    {
      "cell_type": "code",
      "metadata": {
        "colab": {
          "base_uri": "https://localhost:8080/"
        },
        "id": "00xGnik3cqU_",
        "outputId": "dbb8a392-712a-451b-c48d-718cc47f1e12"
      },
      "source": [
        "s3.sub(5)"
      ],
      "execution_count": 24,
      "outputs": [
        {
          "output_type": "execute_result",
          "data": {
            "text/plain": [
              "0    10\n",
              "1    40\n",
              "2    70\n",
              "3    30\n",
              "4    20\n",
              "dtype: int64"
            ]
          },
          "metadata": {
            "tags": []
          },
          "execution_count": 24
        }
      ]
    },
    {
      "cell_type": "code",
      "metadata": {
        "colab": {
          "base_uri": "https://localhost:8080/"
        },
        "id": "fvmR-yctc4Xn",
        "outputId": "d3a1f17d-f69d-4d46-9afb-33b6bffd7a9b"
      },
      "source": [
        "s3 - 15  "
      ],
      "execution_count": 26,
      "outputs": [
        {
          "output_type": "execute_result",
          "data": {
            "text/plain": [
              "0     0\n",
              "1    30\n",
              "2    60\n",
              "3    20\n",
              "4    10\n",
              "dtype: int64"
            ]
          },
          "metadata": {
            "tags": []
          },
          "execution_count": 26
        }
      ]
    },
    {
      "cell_type": "code",
      "metadata": {
        "colab": {
          "base_uri": "https://localhost:8080/"
        },
        "id": "OH6S-dEOdFFP",
        "outputId": "57f34787-b0af-49a3-e914-5bcbd73b2a31"
      },
      "source": [
        "s3 +100"
      ],
      "execution_count": 27,
      "outputs": [
        {
          "output_type": "execute_result",
          "data": {
            "text/plain": [
              "0    115\n",
              "1    145\n",
              "2    175\n",
              "3    135\n",
              "4    125\n",
              "dtype: int64"
            ]
          },
          "metadata": {
            "tags": []
          },
          "execution_count": 27
        }
      ]
    },
    {
      "cell_type": "code",
      "metadata": {
        "id": "eLrMUduKdVc3"
      },
      "source": [
        "k= [2, 3, 4, 5]"
      ],
      "execution_count": 28,
      "outputs": []
    },
    {
      "cell_type": "code",
      "metadata": {
        "colab": {
          "base_uri": "https://localhost:8080/"
        },
        "id": "YwaHBWk0dtbK",
        "outputId": "c003b32f-dfe2-4e59-ec9c-256ed42e28eb"
      },
      "source": [
        "for i, j in enumerate(k):\n",
        "    print(i, j) "
      ],
      "execution_count": 29,
      "outputs": [
        {
          "output_type": "stream",
          "text": [
            "0 2\n",
            "1 3\n",
            "2 4\n",
            "3 5\n"
          ],
          "name": "stdout"
        }
      ]
    },
    {
      "cell_type": "code",
      "metadata": {
        "colab": {
          "base_uri": "https://localhost:8080/"
        },
        "id": "bW_VF0csd3tH",
        "outputId": "ac1d61d6-6cd4-4a3b-ea17-afff30c6b433"
      },
      "source": [
        "s2"
      ],
      "execution_count": 30,
      "outputs": [
        {
          "output_type": "execute_result",
          "data": {
            "text/plain": [
              "0    서울\n",
              "1    부산\n",
              "2    대구\n",
              "3    광주\n",
              "dtype: object"
            ]
          },
          "metadata": {
            "tags": []
          },
          "execution_count": 30
        }
      ]
    },
    {
      "cell_type": "code",
      "metadata": {
        "colab": {
          "base_uri": "https://localhost:8080/"
        },
        "id": "d4h1gZeMebWv",
        "outputId": "e48d5b4d-4c7a-4dad-b7b9-4e146af53ee5"
      },
      "source": [
        "for i, j in enumerate(s2):\n",
        "    print(i, j) "
      ],
      "execution_count": 31,
      "outputs": [
        {
          "output_type": "stream",
          "text": [
            "0 서울\n",
            "1 부산\n",
            "2 대구\n",
            "3 광주\n"
          ],
          "name": "stdout"
        }
      ]
    },
    {
      "cell_type": "code",
      "metadata": {
        "colab": {
          "base_uri": "https://localhost:8080/"
        },
        "id": "7LcJ1QADejBG",
        "outputId": "b569f78f-277b-4756-b3d9-062b8c95c0fa"
      },
      "source": [
        "s2.ndim"
      ],
      "execution_count": 32,
      "outputs": [
        {
          "output_type": "execute_result",
          "data": {
            "text/plain": [
              "1"
            ]
          },
          "metadata": {
            "tags": []
          },
          "execution_count": 32
        }
      ]
    },
    {
      "cell_type": "code",
      "metadata": {
        "id": "L30p7Inaenq-"
      },
      "source": [
        "s4 = pd.Series(['설악산', '지리산', '덕유산', '소백산', '한라산'])"
      ],
      "execution_count": 35,
      "outputs": []
    },
    {
      "cell_type": "code",
      "metadata": {
        "colab": {
          "base_uri": "https://localhost:8080/"
        },
        "id": "jM11-XPye8xe",
        "outputId": "dfd67c61-8ddf-43d4-daba-59de45a50212"
      },
      "source": [
        "s4"
      ],
      "execution_count": 36,
      "outputs": [
        {
          "output_type": "execute_result",
          "data": {
            "text/plain": [
              "0    설악산\n",
              "1    지리산\n",
              "2    덕유산\n",
              "3    소백산\n",
              "4    한라산\n",
              "dtype: object"
            ]
          },
          "metadata": {
            "tags": []
          },
          "execution_count": 36
        }
      ]
    },
    {
      "cell_type": "code",
      "metadata": {
        "id": "T4fE9FMOfFqe"
      },
      "source": [
        "s5 = pd.Series(['설악산', '지리산', '덕유산', '소백산', '한라산'], index=['A', 'B', 'C', 'D', 'E'])"
      ],
      "execution_count": 37,
      "outputs": []
    },
    {
      "cell_type": "code",
      "metadata": {
        "colab": {
          "base_uri": "https://localhost:8080/"
        },
        "id": "D8H4TyEHfVY_",
        "outputId": "f68f1cd4-0ccb-4c83-a016-98c02b53c9ee"
      },
      "source": [
        "s5"
      ],
      "execution_count": 38,
      "outputs": [
        {
          "output_type": "execute_result",
          "data": {
            "text/plain": [
              "A    설악산\n",
              "B    지리산\n",
              "C    덕유산\n",
              "D    소백산\n",
              "E    한라산\n",
              "dtype: object"
            ]
          },
          "metadata": {
            "tags": []
          },
          "execution_count": 38
        }
      ]
    },
    {
      "cell_type": "code",
      "metadata": {
        "colab": {
          "base_uri": "https://localhost:8080/"
        },
        "id": "djn3a82sfWsX",
        "outputId": "a42270b4-8f7c-46fd-ce26-e9279803040b"
      },
      "source": [
        "s3"
      ],
      "execution_count": 39,
      "outputs": [
        {
          "output_type": "execute_result",
          "data": {
            "text/plain": [
              "0    15\n",
              "1    45\n",
              "2    75\n",
              "3    35\n",
              "4    25\n",
              "dtype: int64"
            ]
          },
          "metadata": {
            "tags": []
          },
          "execution_count": 39
        }
      ]
    },
    {
      "cell_type": "code",
      "metadata": {
        "id": "8M_BOXaTfkn3"
      },
      "source": [
        "s22 = pd.DataFrame(s5) ##데이터프레임은 2차원이다."
      ],
      "execution_count": 47,
      "outputs": []
    },
    {
      "cell_type": "code",
      "metadata": {
        "colab": {
          "base_uri": "https://localhost:8080/",
          "height": 202
        },
        "id": "nlgCbLCGf33X",
        "outputId": "80b11c0c-3d6a-4364-cdc2-e66fca267097"
      },
      "source": [
        "s22"
      ],
      "execution_count": 45,
      "outputs": [
        {
          "output_type": "execute_result",
          "data": {
            "text/html": [
              "<div>\n",
              "<style scoped>\n",
              "    .dataframe tbody tr th:only-of-type {\n",
              "        vertical-align: middle;\n",
              "    }\n",
              "\n",
              "    .dataframe tbody tr th {\n",
              "        vertical-align: top;\n",
              "    }\n",
              "\n",
              "    .dataframe thead th {\n",
              "        text-align: right;\n",
              "    }\n",
              "</style>\n",
              "<table border=\"1\" class=\"dataframe\">\n",
              "  <thead>\n",
              "    <tr style=\"text-align: right;\">\n",
              "      <th></th>\n",
              "      <th>0</th>\n",
              "    </tr>\n",
              "  </thead>\n",
              "  <tbody>\n",
              "    <tr>\n",
              "      <th>A</th>\n",
              "      <td>설악산</td>\n",
              "    </tr>\n",
              "    <tr>\n",
              "      <th>B</th>\n",
              "      <td>지리산</td>\n",
              "    </tr>\n",
              "    <tr>\n",
              "      <th>C</th>\n",
              "      <td>덕유산</td>\n",
              "    </tr>\n",
              "    <tr>\n",
              "      <th>D</th>\n",
              "      <td>소백산</td>\n",
              "    </tr>\n",
              "    <tr>\n",
              "      <th>E</th>\n",
              "      <td>한라산</td>\n",
              "    </tr>\n",
              "  </tbody>\n",
              "</table>\n",
              "</div>"
            ],
            "text/plain": [
              "     0\n",
              "A  설악산\n",
              "B  지리산\n",
              "C  덕유산\n",
              "D  소백산\n",
              "E  한라산"
            ]
          },
          "metadata": {
            "tags": []
          },
          "execution_count": 45
        }
      ]
    },
    {
      "cell_type": "code",
      "metadata": {
        "colab": {
          "base_uri": "https://localhost:8080/"
        },
        "id": "KnolVK9Of4y3",
        "outputId": "c599c1b5-22aa-48b8-c779-b18e92d1250a"
      },
      "source": [
        "type(s22)"
      ],
      "execution_count": 46,
      "outputs": [
        {
          "output_type": "execute_result",
          "data": {
            "text/plain": [
              "pandas.core.frame.DataFrame"
            ]
          },
          "metadata": {
            "tags": []
          },
          "execution_count": 46
        }
      ]
    },
    {
      "cell_type": "code",
      "metadata": {
        "id": "5q1ZlgTkgIwP"
      },
      "source": [
        ""
      ],
      "execution_count": null,
      "outputs": []
    }
  ]
}