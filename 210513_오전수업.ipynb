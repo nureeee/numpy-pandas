{
  "nbformat": 4,
  "nbformat_minor": 0,
  "metadata": {
    "colab": {
      "name": "210513_오전수업.ipynb",
      "provenance": []
    },
    "kernelspec": {
      "name": "python3",
      "display_name": "Python 3"
    },
    "language_info": {
      "name": "python"
    }
  },
  "cells": [
    {
      "cell_type": "code",
      "metadata": {
        "id": "AvTEWP9B5qQj"
      },
      "source": [
        "import numpy as np\n",
        "import pandas as pd"
      ],
      "execution_count": null,
      "outputs": []
    },
    {
      "cell_type": "code",
      "metadata": {
        "id": "f6UsXnVQ53aU"
      },
      "source": [
        "t = [i*3 for i in range(1, 11)]"
      ],
      "execution_count": null,
      "outputs": []
    },
    {
      "cell_type": "code",
      "metadata": {
        "id": "eUlIHYcZ93RU"
      },
      "source": [
        "a = [1, 2, 3]\n",
        "b= [4, 5, 6]"
      ],
      "execution_count": null,
      "outputs": []
    },
    {
      "cell_type": "code",
      "metadata": {
        "id": "_lOrOS7W97N1"
      },
      "source": [
        "np1 = np.array(t)"
      ],
      "execution_count": null,
      "outputs": []
    },
    {
      "cell_type": "code",
      "metadata": {
        "colab": {
          "base_uri": "https://localhost:8080/"
        },
        "id": "l48LVhm3-EpW",
        "outputId": "37243df6-ce81-43da-aee5-0819f325ca7a"
      },
      "source": [
        "type(np1)"
      ],
      "execution_count": null,
      "outputs": [
        {
          "output_type": "execute_result",
          "data": {
            "text/plain": [
              "numpy.ndarray"
            ]
          },
          "metadata": {
            "tags": []
          },
          "execution_count": 5
        }
      ]
    },
    {
      "cell_type": "code",
      "metadata": {
        "colab": {
          "base_uri": "https://localhost:8080/"
        },
        "id": "y-KCXHsF-Hjy",
        "outputId": "a11e446a-62be-4424-e498-d21bb784e590"
      },
      "source": [
        "np1"
      ],
      "execution_count": null,
      "outputs": [
        {
          "output_type": "execute_result",
          "data": {
            "text/plain": [
              "array([ 3,  6,  9, 12, 15, 18, 21, 24, 27, 30])"
            ]
          },
          "metadata": {
            "tags": []
          },
          "execution_count": 6
        }
      ]
    },
    {
      "cell_type": "code",
      "metadata": {
        "colab": {
          "base_uri": "https://localhost:8080/"
        },
        "id": "APtejUKc-LsS",
        "outputId": "4c1e3748-b3db-4352-fc14-34bd9e8ba0c8"
      },
      "source": [
        "np1 + 1"
      ],
      "execution_count": null,
      "outputs": [
        {
          "output_type": "execute_result",
          "data": {
            "text/plain": [
              "array([ 4,  7, 10, 13, 16, 19, 22, 25, 28, 31])"
            ]
          },
          "metadata": {
            "tags": []
          },
          "execution_count": 7
        }
      ]
    },
    {
      "cell_type": "code",
      "metadata": {
        "colab": {
          "base_uri": "https://localhost:8080/"
        },
        "id": "es9VTm0W-s0q",
        "outputId": "c5cd34af-b191-4199-d082-8af865c340c6"
      },
      "source": [
        "np1.dtype"
      ],
      "execution_count": null,
      "outputs": [
        {
          "output_type": "execute_result",
          "data": {
            "text/plain": [
              "dtype('int64')"
            ]
          },
          "metadata": {
            "tags": []
          },
          "execution_count": 10
        }
      ]
    },
    {
      "cell_type": "code",
      "metadata": {
        "colab": {
          "base_uri": "https://localhost:8080/"
        },
        "id": "dZrs98Zs_iDR",
        "outputId": "035f18bf-1462-4ea5-ca4e-a7ee81d30241"
      },
      "source": [
        "np1.shape"
      ],
      "execution_count": null,
      "outputs": [
        {
          "output_type": "execute_result",
          "data": {
            "text/plain": [
              "(10,)"
            ]
          },
          "metadata": {
            "tags": []
          },
          "execution_count": 11
        }
      ]
    },
    {
      "cell_type": "code",
      "metadata": {
        "colab": {
          "base_uri": "https://localhost:8080/"
        },
        "id": "t2Kf58rCBc5p",
        "outputId": "31f9ee93-3425-40af-d854-74596f36fded"
      },
      "source": [
        "np1.mean() ##평균"
      ],
      "execution_count": null,
      "outputs": [
        {
          "output_type": "execute_result",
          "data": {
            "text/plain": [
              "16.5"
            ]
          },
          "metadata": {
            "tags": []
          },
          "execution_count": 13
        }
      ]
    },
    {
      "cell_type": "code",
      "metadata": {
        "colab": {
          "base_uri": "https://localhost:8080/"
        },
        "id": "5ytU56FLBky5",
        "outputId": "37f70703-ca5f-48e5-839b-84da61217030"
      },
      "source": [
        "np1.nbytes  ## 전체 바이트"
      ],
      "execution_count": null,
      "outputs": [
        {
          "output_type": "execute_result",
          "data": {
            "text/plain": [
              "80"
            ]
          },
          "metadata": {
            "tags": []
          },
          "execution_count": 14
        }
      ]
    },
    {
      "cell_type": "code",
      "metadata": {
        "colab": {
          "base_uri": "https://localhost:8080/"
        },
        "id": "8csy_MyzCBJZ",
        "outputId": "2d85617b-bba6-4f94-f684-b0cce0410602"
      },
      "source": [
        "np1.itemsize ##하나하나의 바이트 "
      ],
      "execution_count": null,
      "outputs": [
        {
          "output_type": "execute_result",
          "data": {
            "text/plain": [
              "8"
            ]
          },
          "metadata": {
            "tags": []
          },
          "execution_count": 15
        }
      ]
    },
    {
      "cell_type": "code",
      "metadata": {
        "id": "uex0LMXYCskR"
      },
      "source": [
        "c =[a, b]"
      ],
      "execution_count": null,
      "outputs": []
    },
    {
      "cell_type": "code",
      "metadata": {
        "colab": {
          "base_uri": "https://localhost:8080/"
        },
        "id": "ugBkCyklDLGQ",
        "outputId": "74b768d0-8a22-4666-afaf-6c66f449dc8a"
      },
      "source": [
        "c  ##2행 3열"
      ],
      "execution_count": null,
      "outputs": [
        {
          "output_type": "execute_result",
          "data": {
            "text/plain": [
              "[[1, 2, 3], [4, 5, 6]]"
            ]
          },
          "metadata": {
            "tags": []
          },
          "execution_count": 18
        }
      ]
    },
    {
      "cell_type": "code",
      "metadata": {
        "id": "8VmR2EabDRiA"
      },
      "source": [
        "np2 = np.array(c)"
      ],
      "execution_count": null,
      "outputs": []
    },
    {
      "cell_type": "code",
      "metadata": {
        "colab": {
          "base_uri": "https://localhost:8080/"
        },
        "id": "PmT8r2tDDV2A",
        "outputId": "25776511-b536-43cb-c466-f9f03d249b15"
      },
      "source": [
        "np2.shape"
      ],
      "execution_count": null,
      "outputs": [
        {
          "output_type": "execute_result",
          "data": {
            "text/plain": [
              "(2, 3)"
            ]
          },
          "metadata": {
            "tags": []
          },
          "execution_count": 21
        }
      ]
    },
    {
      "cell_type": "code",
      "metadata": {
        "colab": {
          "base_uri": "https://localhost:8080/"
        },
        "id": "RpN_MNtlDb3A",
        "outputId": "096a65d4-ca75-4254-fed7-78b21909dc75"
      },
      "source": [
        "np2[0]"
      ],
      "execution_count": null,
      "outputs": [
        {
          "output_type": "execute_result",
          "data": {
            "text/plain": [
              "array([1, 2, 3])"
            ]
          },
          "metadata": {
            "tags": []
          },
          "execution_count": 22
        }
      ]
    },
    {
      "cell_type": "code",
      "metadata": {
        "colab": {
          "base_uri": "https://localhost:8080/"
        },
        "id": "BJly3a-4DkYQ",
        "outputId": "6e0b07a1-4ff7-49f6-fc89-12cc2eb314c8"
      },
      "source": [
        "np2[1, 2]"
      ],
      "execution_count": null,
      "outputs": [
        {
          "output_type": "execute_result",
          "data": {
            "text/plain": [
              "6"
            ]
          },
          "metadata": {
            "tags": []
          },
          "execution_count": 23
        }
      ]
    },
    {
      "cell_type": "code",
      "metadata": {
        "colab": {
          "base_uri": "https://localhost:8080/"
        },
        "id": "rkTVWI0uDm6A",
        "outputId": "106ca613-f6f9-40ae-b003-8c024a146ebc"
      },
      "source": [
        "np2[0][1]"
      ],
      "execution_count": null,
      "outputs": [
        {
          "output_type": "execute_result",
          "data": {
            "text/plain": [
              "2"
            ]
          },
          "metadata": {
            "tags": []
          },
          "execution_count": 24
        }
      ]
    },
    {
      "cell_type": "code",
      "metadata": {
        "colab": {
          "base_uri": "https://localhost:8080/"
        },
        "id": "vVQOpvTPDr_R",
        "outputId": "100335dd-1506-45c2-e347-941ed6efd3d7"
      },
      "source": [
        "np2 +10  "
      ],
      "execution_count": null,
      "outputs": [
        {
          "output_type": "execute_result",
          "data": {
            "text/plain": [
              "array([[11, 12, 13],\n",
              "       [14, 15, 16]])"
            ]
          },
          "metadata": {
            "tags": []
          },
          "execution_count": 25
        }
      ]
    },
    {
      "cell_type": "code",
      "metadata": {
        "colab": {
          "base_uri": "https://localhost:8080/"
        },
        "id": "UmzljQx3Dxhw",
        "outputId": "4f6e2747-fc52-49e2-aeac-0ff266f50b9c"
      },
      "source": [
        "np2.T  ## 행과 열의 구조를 바꿈"
      ],
      "execution_count": null,
      "outputs": [
        {
          "output_type": "execute_result",
          "data": {
            "text/plain": [
              "array([[1, 4],\n",
              "       [2, 5],\n",
              "       [3, 6]])"
            ]
          },
          "metadata": {
            "tags": []
          },
          "execution_count": 26
        }
      ]
    },
    {
      "cell_type": "code",
      "metadata": {
        "colab": {
          "base_uri": "https://localhost:8080/"
        },
        "id": "Cv7RbQV_EAhJ",
        "outputId": "c3b94e1d-f0b0-403a-9436-214b4a175c36"
      },
      "source": [
        "np2  ##2차원"
      ],
      "execution_count": null,
      "outputs": [
        {
          "output_type": "execute_result",
          "data": {
            "text/plain": [
              "array([[1, 2, 3],\n",
              "       [4, 5, 6]])"
            ]
          },
          "metadata": {
            "tags": []
          },
          "execution_count": 27
        }
      ]
    },
    {
      "cell_type": "code",
      "metadata": {
        "colab": {
          "base_uri": "https://localhost:8080/"
        },
        "id": "HKmZZPlXIP9h",
        "outputId": "b357b88e-5446-4f92-abc3-3212ee8deb4b"
      },
      "source": [
        "np1 ##1차원                                                                                     "
      ],
      "execution_count": null,
      "outputs": [
        {
          "output_type": "execute_result",
          "data": {
            "text/plain": [
              "array([ 3,  6,  9, 12, 15, 18, 21, 24, 27, 30])"
            ]
          },
          "metadata": {
            "tags": []
          },
          "execution_count": 28
        }
      ]
    },
    {
      "cell_type": "code",
      "metadata": {
        "colab": {
          "base_uri": "https://localhost:8080/"
        },
        "id": "ywdQSqanJjiy",
        "outputId": "12209c6d-1162-4432-eac6-0a48cef620fd"
      },
      "source": [
        "np1.mean()"
      ],
      "execution_count": null,
      "outputs": [
        {
          "output_type": "execute_result",
          "data": {
            "text/plain": [
              "16.5"
            ]
          },
          "metadata": {
            "tags": []
          },
          "execution_count": 29
        }
      ]
    },
    {
      "cell_type": "code",
      "metadata": {
        "colab": {
          "base_uri": "https://localhost:8080/"
        },
        "id": "YwQvxqcRJs33",
        "outputId": "8b27e9f3-6057-4cfb-e2f1-017b7347cc82"
      },
      "source": [
        "np2"
      ],
      "execution_count": null,
      "outputs": [
        {
          "output_type": "execute_result",
          "data": {
            "text/plain": [
              "array([[1, 2, 3],\n",
              "       [4, 5, 6]])"
            ]
          },
          "metadata": {
            "tags": []
          },
          "execution_count": 30
        }
      ]
    },
    {
      "cell_type": "code",
      "metadata": {
        "colab": {
          "base_uri": "https://localhost:8080/"
        },
        "id": "dt7DA_5_KNyP",
        "outputId": "ff551b59-29e1-4b36-d2b3-bedd75bfabf3"
      },
      "source": [
        "np2.sum()"
      ],
      "execution_count": null,
      "outputs": [
        {
          "output_type": "execute_result",
          "data": {
            "text/plain": [
              "21"
            ]
          },
          "metadata": {
            "tags": []
          },
          "execution_count": 31
        }
      ]
    },
    {
      "cell_type": "code",
      "metadata": {
        "colab": {
          "base_uri": "https://localhost:8080/"
        },
        "id": "kSpfSgXdKUJn",
        "outputId": "a2f8e11c-bce0-4355-fdb9-95144bbe3d1f"
      },
      "source": [
        "np2.sum(axis = 0)  ##열의 총합"
      ],
      "execution_count": null,
      "outputs": [
        {
          "output_type": "execute_result",
          "data": {
            "text/plain": [
              "array([5, 7, 9])"
            ]
          },
          "metadata": {
            "tags": []
          },
          "execution_count": 32
        }
      ]
    },
    {
      "cell_type": "code",
      "metadata": {
        "colab": {
          "base_uri": "https://localhost:8080/"
        },
        "id": "9ygN30BXKerv",
        "outputId": "34e30486-9040-49ed-c82c-3bd2b613e58c"
      },
      "source": [
        "np2.sum(axis = 1)  ##행의 총합"
      ],
      "execution_count": null,
      "outputs": [
        {
          "output_type": "execute_result",
          "data": {
            "text/plain": [
              "array([ 6, 15])"
            ]
          },
          "metadata": {
            "tags": []
          },
          "execution_count": 33
        }
      ]
    },
    {
      "cell_type": "code",
      "metadata": {
        "colab": {
          "base_uri": "https://localhost:8080/"
        },
        "id": "WhY8AAGsKj33",
        "outputId": "9ba4a16e-ba07-4795-e40b-da1dffa58b70"
      },
      "source": [
        "np2.shape"
      ],
      "execution_count": null,
      "outputs": [
        {
          "output_type": "execute_result",
          "data": {
            "text/plain": [
              "(2, 3)"
            ]
          },
          "metadata": {
            "tags": []
          },
          "execution_count": 34
        }
      ]
    },
    {
      "cell_type": "code",
      "metadata": {
        "id": "h2iW4NrBLle3"
      },
      "source": [
        "tt1 = [i for i in range(2, 21, 2)]\n",
        "tt2 = [i*3 for i in range(1,11)]\n",
        "tt3 = [i for i in range(5, 51, 5)]"
      ],
      "execution_count": null,
      "outputs": []
    },
    {
      "cell_type": "code",
      "metadata": {
        "colab": {
          "base_uri": "https://localhost:8080/"
        },
        "id": "Bfss9OGgN1b_",
        "outputId": "5b77acda-a9b9-4e9e-af8e-2c0f823ff145"
      },
      "source": [
        "tt1, tt2, tt3"
      ],
      "execution_count": null,
      "outputs": [
        {
          "output_type": "execute_result",
          "data": {
            "text/plain": [
              "([2, 4, 6, 8, 10, 12, 14, 16, 18, 20],\n",
              " [3, 6, 9, 12, 15, 18, 21, 24, 27, 30],\n",
              " [5, 10, 15, 20, 25, 30, 35, 40, 45, 50])"
            ]
          },
          "metadata": {
            "tags": []
          },
          "execution_count": 53
        }
      ]
    },
    {
      "cell_type": "code",
      "metadata": {
        "id": "3aSz2lx8N3gG"
      },
      "source": [
        "ttt = [tt1, tt2, tt3]\n",
        "np22 = np.array(ttt)"
      ],
      "execution_count": null,
      "outputs": []
    },
    {
      "cell_type": "code",
      "metadata": {
        "colab": {
          "base_uri": "https://localhost:8080/"
        },
        "id": "tkPegbdyOCIW",
        "outputId": "41e880c3-ab4f-482a-8360-96941a71ffdb"
      },
      "source": [
        "ttt"
      ],
      "execution_count": null,
      "outputs": [
        {
          "output_type": "execute_result",
          "data": {
            "text/plain": [
              "[[2, 4, 6, 8, 10, 12, 14, 16, 18, 20],\n",
              " [3, 6, 9, 12, 15, 18, 21, 24, 27, 30],\n",
              " [5, 10, 15, 20, 25, 30, 35, 40, 45, 50]]"
            ]
          },
          "metadata": {
            "tags": []
          },
          "execution_count": 55
        }
      ]
    },
    {
      "cell_type": "code",
      "metadata": {
        "colab": {
          "base_uri": "https://localhost:8080/"
        },
        "id": "jRQAoZm9ONZ9",
        "outputId": "a264aa91-b6ac-4090-ca15-1f517500e4e7"
      },
      "source": [
        "type(ttt)"
      ],
      "execution_count": null,
      "outputs": [
        {
          "output_type": "execute_result",
          "data": {
            "text/plain": [
              "list"
            ]
          },
          "metadata": {
            "tags": []
          },
          "execution_count": 56
        }
      ]
    },
    {
      "cell_type": "code",
      "metadata": {
        "colab": {
          "base_uri": "https://localhost:8080/"
        },
        "id": "wyRE9dWwOR1F",
        "outputId": "8f2000b2-1ef6-4630-b147-e6b580cccdeb"
      },
      "source": [
        "type(np22)"
      ],
      "execution_count": null,
      "outputs": [
        {
          "output_type": "execute_result",
          "data": {
            "text/plain": [
              "numpy.ndarray"
            ]
          },
          "metadata": {
            "tags": []
          },
          "execution_count": 57
        }
      ]
    },
    {
      "cell_type": "code",
      "metadata": {
        "colab": {
          "base_uri": "https://localhost:8080/"
        },
        "id": "zmYvc6c3OWJt",
        "outputId": "bce4db77-db7b-41dd-fd81-cd22a9f5e7c2"
      },
      "source": [
        "np22.sum()"
      ],
      "execution_count": null,
      "outputs": [
        {
          "output_type": "execute_result",
          "data": {
            "text/plain": [
              "550"
            ]
          },
          "metadata": {
            "tags": []
          },
          "execution_count": 58
        }
      ]
    },
    {
      "cell_type": "code",
      "metadata": {
        "colab": {
          "base_uri": "https://localhost:8080/"
        },
        "id": "60DZsd45OiDG",
        "outputId": "1f0054fa-860a-4d20-97f4-76f4b016e669"
      },
      "source": [
        "np22[0].sum()"
      ],
      "execution_count": null,
      "outputs": [
        {
          "output_type": "execute_result",
          "data": {
            "text/plain": [
              "110"
            ]
          },
          "metadata": {
            "tags": []
          },
          "execution_count": 59
        }
      ]
    },
    {
      "cell_type": "code",
      "metadata": {
        "colab": {
          "base_uri": "https://localhost:8080/"
        },
        "id": "M7X6HAmYOoHO",
        "outputId": "f695f901-ff10-4e03-cab5-fe18f4ddae85"
      },
      "source": [
        "np22[1].sum()"
      ],
      "execution_count": null,
      "outputs": [
        {
          "output_type": "execute_result",
          "data": {
            "text/plain": [
              "165"
            ]
          },
          "metadata": {
            "tags": []
          },
          "execution_count": 60
        }
      ]
    },
    {
      "cell_type": "code",
      "metadata": {
        "colab": {
          "base_uri": "https://localhost:8080/"
        },
        "id": "qLuIIj9eOwA-",
        "outputId": "e0f51d74-2871-4c8f-9bbc-90dc93e6e04b"
      },
      "source": [
        "np22.sum(axis = 1)"
      ],
      "execution_count": null,
      "outputs": [
        {
          "output_type": "execute_result",
          "data": {
            "text/plain": [
              "array([110, 165, 275])"
            ]
          },
          "metadata": {
            "tags": []
          },
          "execution_count": 61
        }
      ]
    },
    {
      "cell_type": "code",
      "metadata": {
        "colab": {
          "base_uri": "https://localhost:8080/"
        },
        "id": "Z32BloO1OyjJ",
        "outputId": "f8490491-bf7a-495b-86ce-461aba1e3048"
      },
      "source": [
        "np22.sum(axis = 0)"
      ],
      "execution_count": null,
      "outputs": [
        {
          "output_type": "execute_result",
          "data": {
            "text/plain": [
              "array([ 10,  20,  30,  40,  50,  60,  70,  80,  90, 100])"
            ]
          },
          "metadata": {
            "tags": []
          },
          "execution_count": 62
        }
      ]
    },
    {
      "cell_type": "code",
      "metadata": {
        "colab": {
          "base_uri": "https://localhost:8080/"
        },
        "id": "pSo6P_8HO97m",
        "outputId": "3d51f143-9d1a-468f-bdb5-6cb72afc1474"
      },
      "source": [
        "np22.T"
      ],
      "execution_count": null,
      "outputs": [
        {
          "output_type": "execute_result",
          "data": {
            "text/plain": [
              "array([[ 2,  3,  5],\n",
              "       [ 4,  6, 10],\n",
              "       [ 6,  9, 15],\n",
              "       [ 8, 12, 20],\n",
              "       [10, 15, 25],\n",
              "       [12, 18, 30],\n",
              "       [14, 21, 35],\n",
              "       [16, 24, 40],\n",
              "       [18, 27, 45],\n",
              "       [20, 30, 50]])"
            ]
          },
          "metadata": {
            "tags": []
          },
          "execution_count": 63
        }
      ]
    },
    {
      "cell_type": "code",
      "metadata": {
        "id": "hs7PMm7aPmre",
        "colab": {
          "base_uri": "https://localhost:8080/"
        },
        "outputId": "fda0f63e-90af-4bd5-f175-4682ce11e4a3"
      },
      "source": [
        "np22.mean(axis = 1)"
      ],
      "execution_count": null,
      "outputs": [
        {
          "output_type": "execute_result",
          "data": {
            "text/plain": [
              "array([11. , 16.5, 27.5])"
            ]
          },
          "metadata": {
            "tags": []
          },
          "execution_count": 64
        }
      ]
    },
    {
      "cell_type": "code",
      "metadata": {
        "colab": {
          "base_uri": "https://localhost:8080/"
        },
        "id": "3Lk7l97sQLFg",
        "outputId": "fd72ed6c-2263-4263-f749-8964197505b1"
      },
      "source": [
        "np22.mean(axis  = 0)"
      ],
      "execution_count": null,
      "outputs": [
        {
          "output_type": "execute_result",
          "data": {
            "text/plain": [
              "array([ 3.33333333,  6.66666667, 10.        , 13.33333333, 16.66666667,\n",
              "       20.        , 23.33333333, 26.66666667, 30.        , 33.33333333])"
            ]
          },
          "metadata": {
            "tags": []
          },
          "execution_count": 65
        }
      ]
    },
    {
      "cell_type": "code",
      "metadata": {
        "id": "XxqXiByoQRCe"
      },
      "source": [
        "np23 = np22.T"
      ],
      "execution_count": null,
      "outputs": []
    },
    {
      "cell_type": "code",
      "metadata": {
        "colab": {
          "base_uri": "https://localhost:8080/"
        },
        "id": "WYsMgvysQftV",
        "outputId": "ab82453b-1530-4903-9ce3-c3980544b175"
      },
      "source": [
        "np23.mean()"
      ],
      "execution_count": null,
      "outputs": [
        {
          "output_type": "execute_result",
          "data": {
            "text/plain": [
              "18.333333333333332"
            ]
          },
          "metadata": {
            "tags": []
          },
          "execution_count": 67
        }
      ]
    },
    {
      "cell_type": "code",
      "metadata": {
        "colab": {
          "base_uri": "https://localhost:8080/"
        },
        "id": "VbtWSoy_QsZl",
        "outputId": "826536e5-a830-418d-bd90-431e052711f7"
      },
      "source": [
        "np23.min()"
      ],
      "execution_count": null,
      "outputs": [
        {
          "output_type": "execute_result",
          "data": {
            "text/plain": [
              "2"
            ]
          },
          "metadata": {
            "tags": []
          },
          "execution_count": 70
        }
      ]
    },
    {
      "cell_type": "code",
      "metadata": {
        "colab": {
          "base_uri": "https://localhost:8080/"
        },
        "id": "VcH4h7MiQvzF",
        "outputId": "a50436b1-9d23-4c51-ee8a-be1be94843c6"
      },
      "source": [
        "np23.mean(axis = 1)"
      ],
      "execution_count": null,
      "outputs": [
        {
          "output_type": "execute_result",
          "data": {
            "text/plain": [
              "array([ 3.33333333,  6.66666667, 10.        , 13.33333333, 16.66666667,\n",
              "       20.        , 23.33333333, 26.66666667, 30.        , 33.33333333])"
            ]
          },
          "metadata": {
            "tags": []
          },
          "execution_count": 71
        }
      ]
    },
    {
      "cell_type": "code",
      "metadata": {
        "colab": {
          "base_uri": "https://localhost:8080/"
        },
        "id": "pX6tpeUvQ9z1",
        "outputId": "61667094-23ed-406a-8947-5c82bb9780f9"
      },
      "source": [
        "np23.min(axis = 0)"
      ],
      "execution_count": null,
      "outputs": [
        {
          "output_type": "execute_result",
          "data": {
            "text/plain": [
              "array([2, 3, 5])"
            ]
          },
          "metadata": {
            "tags": []
          },
          "execution_count": 73
        }
      ]
    },
    {
      "cell_type": "code",
      "metadata": {
        "colab": {
          "base_uri": "https://localhost:8080/"
        },
        "id": "s2rXqLszRH22",
        "outputId": "f89f805a-7678-4d02-f007-f2834d9dda42"
      },
      "source": [
        "np23.shape"
      ],
      "execution_count": null,
      "outputs": [
        {
          "output_type": "execute_result",
          "data": {
            "text/plain": [
              "(10, 3)"
            ]
          },
          "metadata": {
            "tags": []
          },
          "execution_count": 74
        }
      ]
    },
    {
      "cell_type": "code",
      "metadata": {
        "colab": {
          "base_uri": "https://localhost:8080/"
        },
        "id": "W6DlYT97SCNO",
        "outputId": "53d458b8-c867-43e0-fa11-67661524f7cd"
      },
      "source": [
        "np23.reshape(5, 6)"
      ],
      "execution_count": null,
      "outputs": [
        {
          "output_type": "execute_result",
          "data": {
            "text/plain": [
              "array([[ 2,  3,  5,  4,  6, 10],\n",
              "       [ 6,  9, 15,  8, 12, 20],\n",
              "       [10, 15, 25, 12, 18, 30],\n",
              "       [14, 21, 35, 16, 24, 40],\n",
              "       [18, 27, 45, 20, 30, 50]])"
            ]
          },
          "metadata": {
            "tags": []
          },
          "execution_count": 76
        }
      ]
    },
    {
      "cell_type": "code",
      "metadata": {
        "colab": {
          "base_uri": "https://localhost:8080/"
        },
        "id": "JF1htsWgSQWG",
        "outputId": "6e4ad35d-f458-42ce-e07d-b96b22f5b77f"
      },
      "source": [
        "np23.reshape(2,15)"
      ],
      "execution_count": null,
      "outputs": [
        {
          "output_type": "execute_result",
          "data": {
            "text/plain": [
              "array([[ 2,  3,  5,  4,  6, 10,  6,  9, 15,  8, 12, 20, 10, 15, 25],\n",
              "       [12, 18, 30, 14, 21, 35, 16, 24, 40, 18, 27, 45, 20, 30, 50]])"
            ]
          },
          "metadata": {
            "tags": []
          },
          "execution_count": 78
        }
      ]
    },
    {
      "cell_type": "code",
      "metadata": {
        "id": "Ea6oDg42SXmO"
      },
      "source": [
        "np24 = np.array([i for i in range(1, 25)])"
      ],
      "execution_count": null,
      "outputs": []
    },
    {
      "cell_type": "code",
      "metadata": {
        "colab": {
          "base_uri": "https://localhost:8080/"
        },
        "id": "jMLYNx0uSvTF",
        "outputId": "7abdd810-a0ab-4219-971c-b39fae6293f7"
      },
      "source": [
        "np24"
      ],
      "execution_count": null,
      "outputs": [
        {
          "output_type": "execute_result",
          "data": {
            "text/plain": [
              "array([ 1,  2,  3,  4,  5,  6,  7,  8,  9, 10, 11, 12, 13, 14, 15, 16, 17,\n",
              "       18, 19, 20, 21, 22, 23, 24])"
            ]
          },
          "metadata": {
            "tags": []
          },
          "execution_count": 80
        }
      ]
    },
    {
      "cell_type": "code",
      "metadata": {
        "colab": {
          "base_uri": "https://localhost:8080/"
        },
        "id": "enoQtXmaSxl9",
        "outputId": "5ca35476-1d80-4b8a-9dfd-9cb35bb38fbe"
      },
      "source": [
        "np24.reshape(2, 12)"
      ],
      "execution_count": null,
      "outputs": [
        {
          "output_type": "execute_result",
          "data": {
            "text/plain": [
              "array([[ 1,  2,  3,  4,  5,  6,  7,  8,  9, 10, 11, 12],\n",
              "       [13, 14, 15, 16, 17, 18, 19, 20, 21, 22, 23, 24]])"
            ]
          },
          "metadata": {
            "tags": []
          },
          "execution_count": 81
        }
      ]
    },
    {
      "cell_type": "code",
      "metadata": {
        "colab": {
          "base_uri": "https://localhost:8080/"
        },
        "id": "L93BB7L4S1SF",
        "outputId": "be97c18b-4faa-461e-fbae-2fd88e848639"
      },
      "source": [
        "np24.reshape(3, 8)"
      ],
      "execution_count": null,
      "outputs": [
        {
          "output_type": "execute_result",
          "data": {
            "text/plain": [
              "array([[ 1,  2,  3,  4,  5,  6,  7,  8],\n",
              "       [ 9, 10, 11, 12, 13, 14, 15, 16],\n",
              "       [17, 18, 19, 20, 21, 22, 23, 24]])"
            ]
          },
          "metadata": {
            "tags": []
          },
          "execution_count": 82
        }
      ]
    },
    {
      "cell_type": "code",
      "metadata": {
        "colab": {
          "base_uri": "https://localhost:8080/"
        },
        "id": "k4hLdmm_S8SF",
        "outputId": "2b2ce886-db90-4b95-f6d6-78bf1af37d69"
      },
      "source": [
        "np24.reshape(6, 4)"
      ],
      "execution_count": null,
      "outputs": [
        {
          "output_type": "execute_result",
          "data": {
            "text/plain": [
              "array([[ 1,  2,  3,  4],\n",
              "       [ 5,  6,  7,  8],\n",
              "       [ 9, 10, 11, 12],\n",
              "       [13, 14, 15, 16],\n",
              "       [17, 18, 19, 20],\n",
              "       [21, 22, 23, 24]])"
            ]
          },
          "metadata": {
            "tags": []
          },
          "execution_count": 85
        }
      ]
    },
    {
      "cell_type": "code",
      "metadata": {
        "id": "-7ZqTDgZTMs9"
      },
      "source": [
        " np11 = np.array([2, 4, 6, 8, 10])  ## dtype('int64') 각각이 8바이트이고 총 40바이트다."
      ],
      "execution_count": null,
      "outputs": []
    },
    {
      "cell_type": "code",
      "metadata": {
        "colab": {
          "base_uri": "https://localhost:8080/"
        },
        "id": "O-5sQ-K-TNM9",
        "outputId": "284919fb-a003-4662-91f7-0da1c76eafa3"
      },
      "source": [
        "np11."
      ],
      "execution_count": null,
      "outputs": [
        {
          "output_type": "execute_result",
          "data": {
            "text/plain": [
              "dtype('int64')"
            ]
          },
          "metadata": {
            "tags": []
          },
          "execution_count": 88
        }
      ]
    },
    {
      "cell_type": "code",
      "metadata": {
        "id": "dLtB7s4iS_A2"
      },
      "source": [
        " np12 = np.array([2, 4, 6, 8, 10], dtype= np.int16) ##각각이 2바이트이고 총 10 바이트가 된다"
      ],
      "execution_count": null,
      "outputs": []
    },
    {
      "cell_type": "code",
      "metadata": {
        "colab": {
          "base_uri": "https://localhost:8080/"
        },
        "id": "sH7ADEKZUpQN",
        "outputId": "76f71a38-c6f2-46bc-bbc1-12f7638732af"
      },
      "source": [
        "np12.dtype"
      ],
      "execution_count": null,
      "outputs": [
        {
          "output_type": "execute_result",
          "data": {
            "text/plain": [
              "dtype('int16')"
            ]
          },
          "metadata": {
            "tags": []
          },
          "execution_count": 90
        }
      ]
    },
    {
      "cell_type": "code",
      "metadata": {
        "colab": {
          "base_uri": "https://localhost:8080/"
        },
        "id": "9vvxqEWDUsUt",
        "outputId": "d73d160e-ed73-46bf-dd00-0a0fa2fe45e6"
      },
      "source": [
        "np12.nbytes"
      ],
      "execution_count": null,
      "outputs": [
        {
          "output_type": "execute_result",
          "data": {
            "text/plain": [
              "10"
            ]
          },
          "metadata": {
            "tags": []
          },
          "execution_count": 91
        }
      ]
    },
    {
      "cell_type": "code",
      "metadata": {
        "colab": {
          "base_uri": "https://localhost:8080/"
        },
        "id": "dHzmLTn1Uxj9",
        "outputId": "639b8240-090f-4aca-b5a8-2ccadc9a99d9"
      },
      "source": [
        "np11.nbytes"
      ],
      "execution_count": null,
      "outputs": [
        {
          "output_type": "execute_result",
          "data": {
            "text/plain": [
              "40"
            ]
          },
          "metadata": {
            "tags": []
          },
          "execution_count": 92
        }
      ]
    },
    {
      "cell_type": "code",
      "metadata": {
        "colab": {
          "base_uri": "https://localhost:8080/"
        },
        "id": "WAkx_jO8U7NV",
        "outputId": "8bd023b0-54e0-4a7a-9c7f-2c4408597103"
      },
      "source": [
        "np11.itemsize  ##각각이 8바이트!!"
      ],
      "execution_count": null,
      "outputs": [
        {
          "output_type": "execute_result",
          "data": {
            "text/plain": [
              "8"
            ]
          },
          "metadata": {
            "tags": []
          },
          "execution_count": 95
        }
      ]
    },
    {
      "cell_type": "code",
      "metadata": {
        "id": "RPoej0JEV02V"
      },
      "source": [
        "np200 = np.array([2.3, 4.5, 6.7]) "
      ],
      "execution_count": null,
      "outputs": []
    },
    {
      "cell_type": "code",
      "metadata": {
        "colab": {
          "base_uri": "https://localhost:8080/"
        },
        "id": "JknJgEtJadwn",
        "outputId": "e258b5d0-dfc3-44ef-bae6-64c0a02aec41"
      },
      "source": [
        "np200.dtype"
      ],
      "execution_count": null,
      "outputs": [
        {
          "output_type": "execute_result",
          "data": {
            "text/plain": [
              "dtype('float64')"
            ]
          },
          "metadata": {
            "tags": []
          },
          "execution_count": 99
        }
      ]
    },
    {
      "cell_type": "code",
      "metadata": {
        "colab": {
          "base_uri": "https://localhost:8080/"
        },
        "id": "s_XS-HKDalos",
        "outputId": "79c412ed-7c68-411e-e5e6-8f9baa3e8e3b"
      },
      "source": [
        "np200.nbytes"
      ],
      "execution_count": null,
      "outputs": [
        {
          "output_type": "execute_result",
          "data": {
            "text/plain": [
              "24"
            ]
          },
          "metadata": {
            "tags": []
          },
          "execution_count": 100
        }
      ]
    },
    {
      "cell_type": "code",
      "metadata": {
        "id": "1SQEr9-Vau1k"
      },
      "source": [
        "np200 = np.array([2.3, 4.5, 6.7], dtype=np.float32) "
      ],
      "execution_count": null,
      "outputs": []
    },
    {
      "cell_type": "code",
      "metadata": {
        "colab": {
          "base_uri": "https://localhost:8080/"
        },
        "id": "MzwrioDFa29k",
        "outputId": "2b674a75-6afd-4004-8929-deee923f10a5"
      },
      "source": [
        "np200.nbytes"
      ],
      "execution_count": null,
      "outputs": [
        {
          "output_type": "execute_result",
          "data": {
            "text/plain": [
              "12"
            ]
          },
          "metadata": {
            "tags": []
          },
          "execution_count": 102
        }
      ]
    },
    {
      "cell_type": "code",
      "metadata": {
        "id": "--bja8vQa5hs"
      },
      "source": [
        "np200 = np.array([2.3, 4.5, 6.7], dtype=np.float16) "
      ],
      "execution_count": null,
      "outputs": []
    },
    {
      "cell_type": "code",
      "metadata": {
        "colab": {
          "base_uri": "https://localhost:8080/"
        },
        "id": "-UZxjq8Sa7_j",
        "outputId": "55406c41-25e5-4fa5-dea7-7166027d1ac3"
      },
      "source": [
        "np200.nbytes"
      ],
      "execution_count": null,
      "outputs": [
        {
          "output_type": "execute_result",
          "data": {
            "text/plain": [
              "6"
            ]
          },
          "metadata": {
            "tags": []
          },
          "execution_count": 104
        }
      ]
    },
    {
      "cell_type": "code",
      "metadata": {
        "id": "2IdUDxsGa9hz"
      },
      "source": [
        "np13 = np.array([2, 4, 5], dtype = 'uint')  ## 데이터를 저장할  음의 부분을 양의 부분에 추가하여 생각"
      ],
      "execution_count": 109,
      "outputs": []
    },
    {
      "cell_type": "code",
      "metadata": {
        "id": "rOfsphO4byxB",
        "colab": {
          "base_uri": "https://localhost:8080/"
        },
        "outputId": "fb15641a-1a85-416b-a97d-5d10d4400f7b"
      },
      "source": [
        "np.empty((2,5))"
      ],
      "execution_count": 111,
      "outputs": [
        {
          "output_type": "execute_result",
          "data": {
            "text/plain": [
              "array([[ 3.33333333,  6.66666667, 10.        , 13.33333333, 16.66666667],\n",
              "       [20.        , 23.33333333, 26.66666667, 30.        , 33.33333333]])"
            ]
          },
          "metadata": {
            "tags": []
          },
          "execution_count": 111
        }
      ]
    },
    {
      "cell_type": "code",
      "metadata": {
        "colab": {
          "base_uri": "https://localhost:8080/"
        },
        "id": "gODLI9XQgWuz",
        "outputId": "8d6b0f84-5f73-4dc4-c706-2217771244cc"
      },
      "source": [
        "np.empty((7, 2))"
      ],
      "execution_count": 112,
      "outputs": [
        {
          "output_type": "execute_result",
          "data": {
            "text/plain": [
              "array([[4.68572501e-310, 0.00000000e+000],\n",
              "       [0.00000000e+000, 0.00000000e+000],\n",
              "       [0.00000000e+000, 0.00000000e+000],\n",
              "       [0.00000000e+000, 0.00000000e+000],\n",
              "       [0.00000000e+000, 0.00000000e+000],\n",
              "       [0.00000000e+000, 0.00000000e+000],\n",
              "       [0.00000000e+000, 7.49959658e+295]])"
            ]
          },
          "metadata": {
            "tags": []
          },
          "execution_count": 112
        }
      ]
    },
    {
      "cell_type": "code",
      "metadata": {
        "colab": {
          "base_uri": "https://localhost:8080/"
        },
        "id": "D2eKgyxxgcHL",
        "outputId": "2d973c0b-2e56-44a4-f032-2621165d341d"
      },
      "source": [
        "np.zeros((3, 4))"
      ],
      "execution_count": 113,
      "outputs": [
        {
          "output_type": "execute_result",
          "data": {
            "text/plain": [
              "array([[0., 0., 0., 0.],\n",
              "       [0., 0., 0., 0.],\n",
              "       [0., 0., 0., 0.]])"
            ]
          },
          "metadata": {
            "tags": []
          },
          "execution_count": 113
        }
      ]
    },
    {
      "cell_type": "code",
      "metadata": {
        "colab": {
          "base_uri": "https://localhost:8080/"
        },
        "id": "FSy-uGzkgfm0",
        "outputId": "dc46ed71-ff35-4c94-8278-a9677676c50f"
      },
      "source": [
        "np.ones((3, 4))"
      ],
      "execution_count": 114,
      "outputs": [
        {
          "output_type": "execute_result",
          "data": {
            "text/plain": [
              "array([[1., 1., 1., 1.],\n",
              "       [1., 1., 1., 1.],\n",
              "       [1., 1., 1., 1.]])"
            ]
          },
          "metadata": {
            "tags": []
          },
          "execution_count": 114
        }
      ]
    },
    {
      "cell_type": "code",
      "metadata": {
        "colab": {
          "base_uri": "https://localhost:8080/"
        },
        "id": "eW2y4E1CgiQc",
        "outputId": "87f168dd-fe88-4b0f-bb15-ef49512c9580"
      },
      "source": [
        "np.ones((3, 4))"
      ],
      "execution_count": 115,
      "outputs": [
        {
          "output_type": "execute_result",
          "data": {
            "text/plain": [
              "array([[1., 1., 1., 1.],\n",
              "       [1., 1., 1., 1.],\n",
              "       [1., 1., 1., 1.]])"
            ]
          },
          "metadata": {
            "tags": []
          },
          "execution_count": 115
        }
      ]
    },
    {
      "cell_type": "code",
      "metadata": {
        "colab": {
          "base_uri": "https://localhost:8080/"
        },
        "id": "sFUS0RTrhbLy",
        "outputId": "e09cec41-dfac-4e25-dde8-e524396bc482"
      },
      "source": [
        "np.arange(10)"
      ],
      "execution_count": 117,
      "outputs": [
        {
          "output_type": "execute_result",
          "data": {
            "text/plain": [
              "array([0, 1, 2, 3, 4, 5, 6, 7, 8, 9])"
            ]
          },
          "metadata": {
            "tags": []
          },
          "execution_count": 117
        }
      ]
    },
    {
      "cell_type": "code",
      "metadata": {
        "colab": {
          "base_uri": "https://localhost:8080/"
        },
        "id": "6RCTtwfXhgNq",
        "outputId": "f2914d17-688c-47e7-d920-8295e176ba93"
      },
      "source": [
        "np.arange(1, 6)"
      ],
      "execution_count": 118,
      "outputs": [
        {
          "output_type": "execute_result",
          "data": {
            "text/plain": [
              "array([1, 2, 3, 4, 5])"
            ]
          },
          "metadata": {
            "tags": []
          },
          "execution_count": 118
        }
      ]
    },
    {
      "cell_type": "code",
      "metadata": {
        "colab": {
          "base_uri": "https://localhost:8080/"
        },
        "id": "exx5NT9whlZC",
        "outputId": "d0189ed3-b14e-4533-faa0-33fd0eab66c0"
      },
      "source": [
        "np.arange(1, 20, 2)"
      ],
      "execution_count": 119,
      "outputs": [
        {
          "output_type": "execute_result",
          "data": {
            "text/plain": [
              "array([ 1,  3,  5,  7,  9, 11, 13, 15, 17, 19])"
            ]
          },
          "metadata": {
            "tags": []
          },
          "execution_count": 119
        }
      ]
    },
    {
      "cell_type": "code",
      "metadata": {
        "colab": {
          "base_uri": "https://localhost:8080/"
        },
        "id": "_rKoKh5XhpaU",
        "outputId": "4053ae15-6596-42b6-bf77-96d171abd17f"
      },
      "source": [
        "tt1"
      ],
      "execution_count": 120,
      "outputs": [
        {
          "output_type": "execute_result",
          "data": {
            "text/plain": [
              "[2, 4, 6, 8, 10, 12, 14, 16, 18, 20]"
            ]
          },
          "metadata": {
            "tags": []
          },
          "execution_count": 120
        }
      ]
    },
    {
      "cell_type": "code",
      "metadata": {
        "colab": {
          "base_uri": "https://localhost:8080/"
        },
        "id": "Ky-Fct6Jhq88",
        "outputId": "dd5e90b9-4d10-43b5-870b-e26d47aadc36"
      },
      "source": [
        "np.median(tt1)"
      ],
      "execution_count": 121,
      "outputs": [
        {
          "output_type": "execute_result",
          "data": {
            "text/plain": [
              "11.0"
            ]
          },
          "metadata": {
            "tags": []
          },
          "execution_count": 121
        }
      ]
    },
    {
      "cell_type": "code",
      "metadata": {
        "id": "pZR7_F2-ht3c"
      },
      "source": [
        ""
      ],
      "execution_count": null,
      "outputs": []
    }
  ]
}