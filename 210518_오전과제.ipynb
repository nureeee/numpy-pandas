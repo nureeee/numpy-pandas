{
  "nbformat": 4,
  "nbformat_minor": 0,
  "metadata": {
    "colab": {
      "name": "210518_오전과제.ipynb",
      "provenance": []
    },
    "kernelspec": {
      "name": "python3",
      "display_name": "Python 3"
    },
    "language_info": {
      "name": "python"
    }
  },
  "cells": [
    {
      "cell_type": "code",
      "metadata": {
        "id": "x8XxkiHoj72X"
      },
      "source": [
        "import numpy as np"
      ],
      "execution_count": 3,
      "outputs": []
    },
    {
      "cell_type": "code",
      "metadata": {
        "id": "Ha0cJ0IT0WHg"
      },
      "source": [
        "dan2 = [i*2 for i in range(1,10)]\n",
        "dan3 = [i*3 for i in range(1,10)]\n",
        "dan4 = [i*4 for i in range(1,10)]\n",
        "dan5 = [i*5 for i in range(1,10)]\n",
        "dan6 = [i*6 for i in range(1,10)]\n",
        "dan7 = [i*7 for i in range(1,10)]\n",
        "dan8 = [i*8 for i in range(1,10)]\n",
        "dan9 = [i*9 for i in range(1,10)]"
      ],
      "execution_count": 4,
      "outputs": []
    },
    {
      "cell_type": "code",
      "metadata": {
        "id": "26zDmHwTk-fD"
      },
      "source": [
        "gdan = np.array([dan2, dan3, dan4, dan5, dan6, dan7, dan8, dan9])"
      ],
      "execution_count": 5,
      "outputs": []
    },
    {
      "cell_type": "code",
      "metadata": {
        "colab": {
          "base_uri": "https://localhost:8080/"
        },
        "id": "5Hx8LRgemKMi",
        "outputId": "85eb1ec9-875b-4bd8-b1a1-f283bd9085c7"
      },
      "source": [
        "gdan"
      ],
      "execution_count": 6,
      "outputs": [
        {
          "output_type": "execute_result",
          "data": {
            "text/plain": [
              "array([[ 2,  4,  6,  8, 10, 12, 14, 16, 18],\n",
              "       [ 3,  6,  9, 12, 15, 18, 21, 24, 27],\n",
              "       [ 4,  8, 12, 16, 20, 24, 28, 32, 36],\n",
              "       [ 5, 10, 15, 20, 25, 30, 35, 40, 45],\n",
              "       [ 6, 12, 18, 24, 30, 36, 42, 48, 54],\n",
              "       [ 7, 14, 21, 28, 35, 42, 49, 56, 63],\n",
              "       [ 8, 16, 24, 32, 40, 48, 56, 64, 72],\n",
              "       [ 9, 18, 27, 36, 45, 54, 63, 72, 81]])"
            ]
          },
          "metadata": {
            "tags": []
          },
          "execution_count": 6
        }
      ]
    },
    {
      "cell_type": "code",
      "metadata": {
        "colab": {
          "base_uri": "https://localhost:8080/"
        },
        "id": "MevfcaPRzpB_",
        "outputId": "a6610128-b5c1-4193-fc62-c49e06127366"
      },
      "source": [
        "gdan.astype(np.int16)"
      ],
      "execution_count": 7,
      "outputs": [
        {
          "output_type": "execute_result",
          "data": {
            "text/plain": [
              "array([[ 2,  4,  6,  8, 10, 12, 14, 16, 18],\n",
              "       [ 3,  6,  9, 12, 15, 18, 21, 24, 27],\n",
              "       [ 4,  8, 12, 16, 20, 24, 28, 32, 36],\n",
              "       [ 5, 10, 15, 20, 25, 30, 35, 40, 45],\n",
              "       [ 6, 12, 18, 24, 30, 36, 42, 48, 54],\n",
              "       [ 7, 14, 21, 28, 35, 42, 49, 56, 63],\n",
              "       [ 8, 16, 24, 32, 40, 48, 56, 64, 72],\n",
              "       [ 9, 18, 27, 36, 45, 54, 63, 72, 81]], dtype=int16)"
            ]
          },
          "metadata": {
            "tags": []
          },
          "execution_count": 7
        }
      ]
    },
    {
      "cell_type": "code",
      "metadata": {
        "colab": {
          "base_uri": "https://localhost:8080/"
        },
        "id": "PerW3DbM0wGX",
        "outputId": "9a08d215-e937-4f7b-ef99-65df07866a1c"
      },
      "source": [
        "gdan[1]+50"
      ],
      "execution_count": 8,
      "outputs": [
        {
          "output_type": "execute_result",
          "data": {
            "text/plain": [
              "array([53, 56, 59, 62, 65, 68, 71, 74, 77])"
            ]
          },
          "metadata": {
            "tags": []
          },
          "execution_count": 8
        }
      ]
    },
    {
      "cell_type": "code",
      "metadata": {
        "colab": {
          "base_uri": "https://localhost:8080/"
        },
        "id": "TuPYtjCE0_R_",
        "outputId": "e762a73c-97a4-481b-b4a4-43ef8a8047dc"
      },
      "source": [
        "gdan[3]*100"
      ],
      "execution_count": 9,
      "outputs": [
        {
          "output_type": "execute_result",
          "data": {
            "text/plain": [
              "array([ 500, 1000, 1500, 2000, 2500, 3000, 3500, 4000, 4500])"
            ]
          },
          "metadata": {
            "tags": []
          },
          "execution_count": 9
        }
      ]
    },
    {
      "cell_type": "code",
      "metadata": {
        "colab": {
          "base_uri": "https://localhost:8080/"
        },
        "id": "i_mu0C401Js_",
        "outputId": "58bf558d-4239-47d5-e812-182a9933d912"
      },
      "source": [
        "gdan.reshape(6, 12)"
      ],
      "execution_count": 10,
      "outputs": [
        {
          "output_type": "execute_result",
          "data": {
            "text/plain": [
              "array([[ 2,  4,  6,  8, 10, 12, 14, 16, 18,  3,  6,  9],\n",
              "       [12, 15, 18, 21, 24, 27,  4,  8, 12, 16, 20, 24],\n",
              "       [28, 32, 36,  5, 10, 15, 20, 25, 30, 35, 40, 45],\n",
              "       [ 6, 12, 18, 24, 30, 36, 42, 48, 54,  7, 14, 21],\n",
              "       [28, 35, 42, 49, 56, 63,  8, 16, 24, 32, 40, 48],\n",
              "       [56, 64, 72,  9, 18, 27, 36, 45, 54, 63, 72, 81]])"
            ]
          },
          "metadata": {
            "tags": []
          },
          "execution_count": 10
        }
      ]
    },
    {
      "cell_type": "code",
      "metadata": {
        "id": "IOwuaNUfiqCA"
      },
      "source": [
        ""
      ],
      "execution_count": null,
      "outputs": []
    }
  ]
}