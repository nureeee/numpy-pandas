{
  "nbformat": 4,
  "nbformat_minor": 0,
  "metadata": {
    "colab": {
      "name": "210518_오전과제.ipynb",
      "provenance": []
    },
    "kernelspec": {
      "name": "python3",
      "display_name": "Python 3"
    },
    "language_info": {
      "name": "python"
    }
  },
  "cells": [
    {
      "cell_type": "code",
      "metadata": {
        "id": "x8XxkiHoj72X"
      },
      "source": [
        "import numpy as np"
      ],
      "execution_count": 18,
      "outputs": []
    },
    {
      "cell_type": "code",
      "metadata": {
        "id": "Ha0cJ0IT0WHg"
      },
      "source": [
        "dan2 = [i*2 for i in range(1,10)]\n",
        "dan3 = [i*3 for i in range(1,10)]\n",
        "dan4 = [i*4 for i in range(1,10)]\n",
        "dan5 = [i*5 for i in range(1,10)]\n",
        "dan6 = [i*6 for i in range(1,10)]\n",
        "dan7 = [i*7 for i in range(1,10)]\n",
        "dan8 = [i*8 for i in range(1,10)]\n",
        "dan9 = [i*9 for i in range(1,10)]"
      ],
      "execution_count": null,
      "outputs": []
    },
    {
      "cell_type": "code",
      "metadata": {
        "id": "26zDmHwTk-fD"
      },
      "source": [
        "gdan = np.array([dan2, dan3, dan4, dan5, dan6, dan7, dan8, dan9])"
      ],
      "execution_count": 19,
      "outputs": []
    },
    {
      "cell_type": "code",
      "metadata": {
        "colab": {
          "base_uri": "https://localhost:8080/"
        },
        "id": "5Hx8LRgemKMi",
        "outputId": "557c871f-692c-4a2a-af79-1ea2055f984e"
      },
      "source": [
        "gdan"
      ],
      "execution_count": 20,
      "outputs": [
        {
          "output_type": "execute_result",
          "data": {
            "text/plain": [
              "array([[ 2,  4,  6,  8, 10, 12, 14, 16, 18],\n",
              "       [ 3,  6,  9, 12, 15, 18, 21, 24, 27],\n",
              "       [ 4,  8, 12, 16, 20, 24, 28, 32, 36],\n",
              "       [ 5, 10, 15, 20, 25, 30, 35, 40, 45],\n",
              "       [ 6, 12, 18, 24, 30, 36, 42, 48, 54],\n",
              "       [ 7, 14, 21, 28, 35, 42, 49, 56, 63],\n",
              "       [ 8, 16, 24, 32, 40, 48, 56, 64, 72],\n",
              "       [ 9, 18, 27, 36, 45, 54, 63, 72, 81]])"
            ]
          },
          "metadata": {
            "tags": []
          },
          "execution_count": 20
        }
      ]
    },
    {
      "cell_type": "code",
      "metadata": {
        "colab": {
          "base_uri": "https://localhost:8080/"
        },
        "id": "MevfcaPRzpB_",
        "outputId": "1fd807bb-9185-4167-c7c5-d69046204b6f"
      },
      "source": [
        "gdan.astype(np.int16)"
      ],
      "execution_count": 21,
      "outputs": [
        {
          "output_type": "execute_result",
          "data": {
            "text/plain": [
              "array([[ 2,  4,  6,  8, 10, 12, 14, 16, 18],\n",
              "       [ 3,  6,  9, 12, 15, 18, 21, 24, 27],\n",
              "       [ 4,  8, 12, 16, 20, 24, 28, 32, 36],\n",
              "       [ 5, 10, 15, 20, 25, 30, 35, 40, 45],\n",
              "       [ 6, 12, 18, 24, 30, 36, 42, 48, 54],\n",
              "       [ 7, 14, 21, 28, 35, 42, 49, 56, 63],\n",
              "       [ 8, 16, 24, 32, 40, 48, 56, 64, 72],\n",
              "       [ 9, 18, 27, 36, 45, 54, 63, 72, 81]], dtype=int16)"
            ]
          },
          "metadata": {
            "tags": []
          },
          "execution_count": 21
        }
      ]
    },
    {
      "cell_type": "code",
      "metadata": {
        "colab": {
          "base_uri": "https://localhost:8080/"
        },
        "id": "PerW3DbM0wGX",
        "outputId": "cb19211e-e314-43aa-9f6b-f3d55f97f24e"
      },
      "source": [
        "gdan[1]+50"
      ],
      "execution_count": 23,
      "outputs": [
        {
          "output_type": "execute_result",
          "data": {
            "text/plain": [
              "array([53, 56, 59, 62, 65, 68, 71, 74, 77])"
            ]
          },
          "metadata": {
            "tags": []
          },
          "execution_count": 23
        }
      ]
    },
    {
      "cell_type": "code",
      "metadata": {
        "colab": {
          "base_uri": "https://localhost:8080/"
        },
        "id": "TuPYtjCE0_R_",
        "outputId": "e868dddb-815c-4ef4-84e5-e2b0eeb3fc7a"
      },
      "source": [
        "gdan[3]*100"
      ],
      "execution_count": 24,
      "outputs": [
        {
          "output_type": "execute_result",
          "data": {
            "text/plain": [
              "array([ 500, 1000, 1500, 2000, 2500, 3000, 3500, 4000, 4500])"
            ]
          },
          "metadata": {
            "tags": []
          },
          "execution_count": 24
        }
      ]
    },
    {
      "cell_type": "code",
      "metadata": {
        "colab": {
          "base_uri": "https://localhost:8080/"
        },
        "id": "i_mu0C401Js_",
        "outputId": "9828f7b3-d378-430f-8fdc-5c89ce5df475"
      },
      "source": [
        "gdan.T"
      ],
      "execution_count": 25,
      "outputs": [
        {
          "output_type": "execute_result",
          "data": {
            "text/plain": [
              "array([[ 2,  3,  4,  5,  6,  7,  8,  9],\n",
              "       [ 4,  6,  8, 10, 12, 14, 16, 18],\n",
              "       [ 6,  9, 12, 15, 18, 21, 24, 27],\n",
              "       [ 8, 12, 16, 20, 24, 28, 32, 36],\n",
              "       [10, 15, 20, 25, 30, 35, 40, 45],\n",
              "       [12, 18, 24, 30, 36, 42, 48, 54],\n",
              "       [14, 21, 28, 35, 42, 49, 56, 63],\n",
              "       [16, 24, 32, 40, 48, 56, 64, 72],\n",
              "       [18, 27, 36, 45, 54, 63, 72, 81]])"
            ]
          },
          "metadata": {
            "tags": []
          },
          "execution_count": 25
        }
      ]
    },
    {
      "cell_type": "code",
      "metadata": {
        "id": "kuDLrv_S1ZQP"
      },
      "source": [
        ""
      ],
      "execution_count": null,
      "outputs": []
    }
  ]
}