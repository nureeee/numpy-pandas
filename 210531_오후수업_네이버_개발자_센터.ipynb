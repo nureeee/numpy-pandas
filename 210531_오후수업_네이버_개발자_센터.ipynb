{
  "nbformat": 4,
  "nbformat_minor": 0,
  "metadata": {
    "colab": {
      "name": "210531_오후수업_네이버 개발자 센터.ipynb",
      "provenance": [],
      "authorship_tag": "ABX9TyPEn1uvymPqaPIRMFySk0w1",
      "include_colab_link": true
    },
    "kernelspec": {
      "name": "python3",
      "display_name": "Python 3"
    },
    "language_info": {
      "name": "python"
    }
  },
  "cells": [
    {
      "cell_type": "markdown",
      "metadata": {
        "id": "view-in-github",
        "colab_type": "text"
      },
      "source": [
        "<a href=\"https://colab.research.google.com/github/nureeee/numpy-pandas/blob/main/210531_%EC%98%A4%ED%9B%84%EC%88%98%EC%97%85_%EB%84%A4%EC%9D%B4%EB%B2%84_%EA%B0%9C%EB%B0%9C%EC%9E%90_%EC%84%BC%ED%84%B0.ipynb\" target=\"_parent\"><img src=\"https://colab.research.google.com/assets/colab-badge.svg\" alt=\"Open In Colab\"/></a>"
      ]
    },
    {
      "cell_type": "code",
      "metadata": {
        "colab": {
          "base_uri": "https://localhost:8080/"
        },
        "id": "H-koMHh6A5Cd",
        "outputId": "9cdd971c-86b3-4a92-92fa-b4f44eb8642a"
      },
      "source": [
        "%%writefile my.html\n",
        "<!DOCTYPE html>\n",
        "\n",
        "<html>\n",
        "\n",
        "<head>\n",
        "    <meta charset=\"utf-8\"> \n",
        " \t<title>나의 타이틀</title>\n",
        "</head>\n",
        "\n",
        "<body bgcolor=green  text=white>\n",
        "\n",
        "  <h1>짱구네 집</h1>\n",
        "  <p>단락. paragraph</p>\n",
        "\n",
        "  <div>\n",
        "  \t<a href='http://func.kr'>우리카페</a>\n",
        "  </div>\n",
        "\n",
        "  <div>\n",
        "    <a href='http://www.naver.com'>네이버</a>\n",
        "  </div>\n",
        "\n",
        " <div>\n",
        "    <a href='http://w3schools.com'>공부하러가자</a>\n",
        "</div>\n",
        "\n",
        "<table style='width:50%' border=1 align=center>\n",
        "  <tr align=center>\n",
        "    <th>이름</th>\n",
        "    <th>소속</th> \n",
        "    <th>연봉</th>\n",
        "  </tr>\n",
        "  \n",
        "  <tr align=center>\n",
        "    <td>류현진</td>\n",
        "    <td>토론토</td>\n",
        "    <td>1500</td>\n",
        "  </tr>\n",
        "  \n",
        "  <tr align=center>\n",
        "    <td>김하성</td>\n",
        "    <td>센디에이고</td>\n",
        "    <td>700</td>\n",
        "  </tr>\n",
        "  \n",
        "  <tr align=center>\n",
        "    <td>양현종</td>\n",
        "    <td>텍사스</td>\n",
        "    <td>800</td>\n",
        "  </tr>\n",
        "  \n",
        "</table>\n",
        "    \n",
        "  \n",
        "  <div id='id1'>\n",
        "  \t   여기는 서울 \n",
        "       <p> 단락 </p>\n",
        "  </div>\n",
        "  \n",
        "</body>\n",
        "\n",
        "</html>"
      ],
      "execution_count": 2,
      "outputs": [
        {
          "output_type": "stream",
          "text": [
            "Writing my.html\n"
          ],
          "name": "stdout"
        }
      ]
    },
    {
      "cell_type": "code",
      "metadata": {
        "colab": {
          "base_uri": "https://localhost:8080/"
        },
        "id": "irgTbXIXA5q6",
        "outputId": "32eb6662-cce7-4f5c-a0d5-f52a10fe76dc"
      },
      "source": [
        "!ls"
      ],
      "execution_count": 3,
      "outputs": [
        {
          "output_type": "stream",
          "text": [
            "my.html  sample_data\n"
          ],
          "name": "stdout"
        }
      ]
    },
    {
      "cell_type": "code",
      "metadata": {
        "colab": {
          "base_uri": "https://localhost:8080/"
        },
        "id": "mvYdRniiA5zd",
        "outputId": "c77433a3-066d-4bca-fd2b-5520d75f05ab"
      },
      "source": [
        "!nl my.html"
      ],
      "execution_count": 5,
      "outputs": [
        {
          "output_type": "stream",
          "text": [
            "     1\t<!DOCTYPE html>\n",
            "       \n",
            "     2\t<html>\n",
            "       \n",
            "     3\t<head>\n",
            "     4\t    <meta charset=\"utf-8\"> \n",
            "     5\t \t<title>나의 타이틀</title>\n",
            "     6\t</head>\n",
            "       \n",
            "     7\t<body bgcolor=green  text=white>\n",
            "       \n",
            "     8\t  <h1>짱구네 집</h1>\n",
            "     9\t  <p>단락. paragraph</p>\n",
            "       \n",
            "    10\t  <div>\n",
            "    11\t  \t<a href='http://func.kr'>우리카페</a>\n",
            "    12\t  </div>\n",
            "       \n",
            "    13\t  <div>\n",
            "    14\t    <a href='http://www.naver.com'>네이버</a>\n",
            "    15\t  </div>\n",
            "       \n",
            "    16\t <div>\n",
            "    17\t    <a href='http://w3schools.com'>공부하러가자</a>\n",
            "    18\t</div>\n",
            "       \n",
            "    19\t<table style='width:50%' border=1 align=center>\n",
            "    20\t  <tr align=center>\n",
            "    21\t    <th>이름</th>\n",
            "    22\t    <th>소속</th> \n",
            "    23\t    <th>연봉</th>\n",
            "    24\t  </tr>\n",
            "    25\t  \n",
            "    26\t  <tr align=center>\n",
            "    27\t    <td>류현진</td>\n",
            "    28\t    <td>토론토</td>\n",
            "    29\t    <td>1500</td>\n",
            "    30\t  </tr>\n",
            "    31\t  \n",
            "    32\t  <tr align=center>\n",
            "    33\t    <td>김하성</td>\n",
            "    34\t    <td>센디에이고</td>\n",
            "    35\t    <td>700</td>\n",
            "    36\t  </tr>\n",
            "    37\t  \n",
            "    38\t  <tr align=center>\n",
            "    39\t    <td>양현종</td>\n",
            "    40\t    <td>텍사스</td>\n",
            "    41\t    <td>800</td>\n",
            "    42\t  </tr>\n",
            "    43\t  \n",
            "    44\t</table>\n",
            "    45\t    \n",
            "    46\t  \n",
            "    47\t  <div id='id1'>\n",
            "    48\t  \t   여기는 서울 \n",
            "    49\t       <p> 단락 </p>\n",
            "    50\t  </div>\n",
            "    51\t  \n",
            "    52\t</body>\n",
            "       \n",
            "    53\t</html>\n"
          ],
          "name": "stdout"
        }
      ]
    },
    {
      "cell_type": "code",
      "metadata": {
        "colab": {
          "base_uri": "https://localhost:8080/"
        },
        "id": "00L1kEZJA57R",
        "outputId": "5d07adca-e99c-4417-c80b-b8ae3e553abf"
      },
      "source": [
        "from bs4 import BeautifulSoup\n",
        "import urllib.request\n",
        "\n",
        "with open('my.html') as f:\n",
        "    s = BeautifulSoup(f, 'html.parser')\n",
        "\n",
        "print(s)"
      ],
      "execution_count": 7,
      "outputs": [
        {
          "output_type": "stream",
          "text": [
            "<!DOCTYPE html>\n",
            "\n",
            "<html>\n",
            "<head>\n",
            "<meta charset=\"utf-8\"/>\n",
            "<title>나의 타이틀</title>\n",
            "</head>\n",
            "<body bgcolor=\"green\" text=\"white\">\n",
            "<h1>짱구네 집</h1>\n",
            "<p>단락. paragraph</p>\n",
            "<div>\n",
            "<a href=\"http://func.kr\">우리카페</a>\n",
            "</div>\n",
            "<div>\n",
            "<a href=\"http://www.naver.com\">네이버</a>\n",
            "</div>\n",
            "<div>\n",
            "<a href=\"http://w3schools.com\">공부하러가자</a>\n",
            "</div>\n",
            "<table align=\"center\" border=\"1\" style=\"width:50%\">\n",
            "<tr align=\"center\">\n",
            "<th>이름</th>\n",
            "<th>소속</th>\n",
            "<th>연봉</th>\n",
            "</tr>\n",
            "<tr align=\"center\">\n",
            "<td>류현진</td>\n",
            "<td>토론토</td>\n",
            "<td>1500</td>\n",
            "</tr>\n",
            "<tr align=\"center\">\n",
            "<td>김하성</td>\n",
            "<td>센디에이고</td>\n",
            "<td>700</td>\n",
            "</tr>\n",
            "<tr align=\"center\">\n",
            "<td>양현종</td>\n",
            "<td>텍사스</td>\n",
            "<td>800</td>\n",
            "</tr>\n",
            "</table>\n",
            "<div id=\"id1\">\n",
            "  \t   여기는 서울 \n",
            "       <p> 단락 </p>\n",
            "</div>\n",
            "</body>\n",
            "</html>\n"
          ],
          "name": "stdout"
        }
      ]
    },
    {
      "cell_type": "code",
      "metadata": {
        "colab": {
          "base_uri": "https://localhost:8080/"
        },
        "id": "isAw_vGODEfC",
        "outputId": "93e8246a-6c1f-4e93-d486-c4a1fd08d400"
      },
      "source": [
        "s.title"
      ],
      "execution_count": 8,
      "outputs": [
        {
          "output_type": "execute_result",
          "data": {
            "text/plain": [
              "<title>나의 타이틀</title>"
            ]
          },
          "metadata": {
            "tags": []
          },
          "execution_count": 8
        }
      ]
    },
    {
      "cell_type": "code",
      "metadata": {
        "colab": {
          "base_uri": "https://localhost:8080/"
        },
        "id": "zPVlMTL5Dfly",
        "outputId": "2ff75d3c-748a-45eb-a7ab-97c4e6736ca4"
      },
      "source": [
        "s.a"
      ],
      "execution_count": 9,
      "outputs": [
        {
          "output_type": "execute_result",
          "data": {
            "text/plain": [
              "<a href=\"http://func.kr\">우리카페</a>"
            ]
          },
          "metadata": {
            "tags": []
          },
          "execution_count": 9
        }
      ]
    },
    {
      "cell_type": "code",
      "metadata": {
        "colab": {
          "base_uri": "https://localhost:8080/"
        },
        "id": "pTZ67lUhDh53",
        "outputId": "79e4855c-e022-4b43-de1f-9a4675943523"
      },
      "source": [
        "s.head"
      ],
      "execution_count": 11,
      "outputs": [
        {
          "output_type": "execute_result",
          "data": {
            "text/plain": [
              "<head>\n",
              "<meta charset=\"utf-8\"/>\n",
              "<title>나의 타이틀</title>\n",
              "</head>"
            ]
          },
          "metadata": {
            "tags": []
          },
          "execution_count": 11
        }
      ]
    },
    {
      "cell_type": "code",
      "metadata": {
        "colab": {
          "base_uri": "https://localhost:8080/"
        },
        "id": "HJh_6qIlDmuB",
        "outputId": "335a6b9f-152e-4c3c-c878-4b94d4dd5450"
      },
      "source": [
        "s.body"
      ],
      "execution_count": 12,
      "outputs": [
        {
          "output_type": "execute_result",
          "data": {
            "text/plain": [
              "<body bgcolor=\"green\" text=\"white\">\n",
              "<h1>짱구네 집</h1>\n",
              "<p>단락. paragraph</p>\n",
              "<div>\n",
              "<a href=\"http://func.kr\">우리카페</a>\n",
              "</div>\n",
              "<div>\n",
              "<a href=\"http://www.naver.com\">네이버</a>\n",
              "</div>\n",
              "<div>\n",
              "<a href=\"http://w3schools.com\">공부하러가자</a>\n",
              "</div>\n",
              "<table align=\"center\" border=\"1\" style=\"width:50%\">\n",
              "<tr align=\"center\">\n",
              "<th>이름</th>\n",
              "<th>소속</th>\n",
              "<th>연봉</th>\n",
              "</tr>\n",
              "<tr align=\"center\">\n",
              "<td>류현진</td>\n",
              "<td>토론토</td>\n",
              "<td>1500</td>\n",
              "</tr>\n",
              "<tr align=\"center\">\n",
              "<td>김하성</td>\n",
              "<td>센디에이고</td>\n",
              "<td>700</td>\n",
              "</tr>\n",
              "<tr align=\"center\">\n",
              "<td>양현종</td>\n",
              "<td>텍사스</td>\n",
              "<td>800</td>\n",
              "</tr>\n",
              "</table>\n",
              "<div id=\"id1\">\n",
              "  \t   여기는 서울 \n",
              "       <p> 단락 </p>\n",
              "</div>\n",
              "</body>"
            ]
          },
          "metadata": {
            "tags": []
          },
          "execution_count": 12
        }
      ]
    },
    {
      "cell_type": "code",
      "metadata": {
        "colab": {
          "base_uri": "https://localhost:8080/"
        },
        "id": "LlffCdBtDorP",
        "outputId": "58e39ef6-257f-4f35-9f47-e40d9e9e92c4"
      },
      "source": [
        "s.h1"
      ],
      "execution_count": 13,
      "outputs": [
        {
          "output_type": "execute_result",
          "data": {
            "text/plain": [
              "<h1>짱구네 집</h1>"
            ]
          },
          "metadata": {
            "tags": []
          },
          "execution_count": 13
        }
      ]
    },
    {
      "cell_type": "code",
      "metadata": {
        "colab": {
          "base_uri": "https://localhost:8080/"
        },
        "id": "oudPKQRTDr1H",
        "outputId": "d54480f0-1e88-4e2f-e210-7028e61e14b1"
      },
      "source": [
        "s.select_one"
      ],
      "execution_count": 16,
      "outputs": [
        {
          "output_type": "execute_result",
          "data": {
            "text/plain": [
              "<bound method Tag.select_one of <!DOCTYPE html>\n",
              "\n",
              "<html>\n",
              "<head>\n",
              "<meta charset=\"utf-8\"/>\n",
              "<title>나의 타이틀</title>\n",
              "</head>\n",
              "<body bgcolor=\"green\" text=\"white\">\n",
              "<h1>짱구네 집</h1>\n",
              "<p>단락. paragraph</p>\n",
              "<div>\n",
              "<a href=\"http://func.kr\">우리카페</a>\n",
              "</div>\n",
              "<div>\n",
              "<a href=\"http://www.naver.com\">네이버</a>\n",
              "</div>\n",
              "<div>\n",
              "<a href=\"http://w3schools.com\">공부하러가자</a>\n",
              "</div>\n",
              "<table align=\"center\" border=\"1\" style=\"width:50%\">\n",
              "<tr align=\"center\">\n",
              "<th>이름</th>\n",
              "<th>소속</th>\n",
              "<th>연봉</th>\n",
              "</tr>\n",
              "<tr align=\"center\">\n",
              "<td>류현진</td>\n",
              "<td>토론토</td>\n",
              "<td>1500</td>\n",
              "</tr>\n",
              "<tr align=\"center\">\n",
              "<td>김하성</td>\n",
              "<td>센디에이고</td>\n",
              "<td>700</td>\n",
              "</tr>\n",
              "<tr align=\"center\">\n",
              "<td>양현종</td>\n",
              "<td>텍사스</td>\n",
              "<td>800</td>\n",
              "</tr>\n",
              "</table>\n",
              "<div id=\"id1\">\n",
              "  \t   여기는 서울 \n",
              "       <p> 단락 </p>\n",
              "</div>\n",
              "</body>\n",
              "</html>>"
            ]
          },
          "metadata": {
            "tags": []
          },
          "execution_count": 16
        }
      ]
    },
    {
      "cell_type": "code",
      "metadata": {
        "colab": {
          "base_uri": "https://localhost:8080/"
        },
        "id": "H_rEG6yTD32_",
        "outputId": "97925349-ac68-4a26-aa28-08c4a300acf7"
      },
      "source": [
        "s.td"
      ],
      "execution_count": 17,
      "outputs": [
        {
          "output_type": "execute_result",
          "data": {
            "text/plain": [
              "<td>류현진</td>"
            ]
          },
          "metadata": {
            "tags": []
          },
          "execution_count": 17
        }
      ]
    },
    {
      "cell_type": "code",
      "metadata": {
        "colab": {
          "base_uri": "https://localhost:8080/"
        },
        "id": "jyyxsD9YD7H3",
        "outputId": "583a6961-32c7-4002-8d26-246321247073"
      },
      "source": [
        "s.td(all)"
      ],
      "execution_count": 18,
      "outputs": [
        {
          "output_type": "execute_result",
          "data": {
            "text/plain": [
              "[]"
            ]
          },
          "metadata": {
            "tags": []
          },
          "execution_count": 18
        }
      ]
    },
    {
      "cell_type": "code",
      "metadata": {
        "colab": {
          "base_uri": "https://localhost:8080/"
        },
        "id": "uZw57PBiD9Fv",
        "outputId": "eb319414-37ae-41a2-ce34-684a4a50c065"
      },
      "source": [
        "s.p"
      ],
      "execution_count": 19,
      "outputs": [
        {
          "output_type": "execute_result",
          "data": {
            "text/plain": [
              "<p>단락. paragraph</p>"
            ]
          },
          "metadata": {
            "tags": []
          },
          "execution_count": 19
        }
      ]
    },
    {
      "cell_type": "code",
      "metadata": {
        "colab": {
          "base_uri": "https://localhost:8080/"
        },
        "id": "V2xaLR45EH-m",
        "outputId": "f056e1f3-1067-4883-e3ac-f57cbb8dc591"
      },
      "source": [
        "s.find('div')"
      ],
      "execution_count": 20,
      "outputs": [
        {
          "output_type": "execute_result",
          "data": {
            "text/plain": [
              "<div>\n",
              "<a href=\"http://func.kr\">우리카페</a>\n",
              "</div>"
            ]
          },
          "metadata": {
            "tags": []
          },
          "execution_count": 20
        }
      ]
    },
    {
      "cell_type": "code",
      "metadata": {
        "colab": {
          "base_uri": "https://localhost:8080/"
        },
        "id": "XpnvgCX_ELBu",
        "outputId": "f965af89-7c13-4a02-ce98-32c2a3d1269e"
      },
      "source": [
        "s.find_all('td')"
      ],
      "execution_count": 21,
      "outputs": [
        {
          "output_type": "execute_result",
          "data": {
            "text/plain": [
              "[<td>류현진</td>,\n",
              " <td>토론토</td>,\n",
              " <td>1500</td>,\n",
              " <td>김하성</td>,\n",
              " <td>센디에이고</td>,\n",
              " <td>700</td>,\n",
              " <td>양현종</td>,\n",
              " <td>텍사스</td>,\n",
              " <td>800</td>]"
            ]
          },
          "metadata": {
            "tags": []
          },
          "execution_count": 21
        }
      ]
    },
    {
      "cell_type": "code",
      "metadata": {
        "colab": {
          "base_uri": "https://localhost:8080/"
        },
        "id": "8tT-Z6axEPjX",
        "outputId": "8b0cbd38-c0d7-4a2d-ec22-348c66c48ad6"
      },
      "source": [
        "s_name = s.find_all('a')\n",
        "for i in s_name:\n",
        "    print(i)"
      ],
      "execution_count": 23,
      "outputs": [
        {
          "output_type": "stream",
          "text": [
            "<a href=\"http://func.kr\">우리카페</a>\n",
            "<a href=\"http://www.naver.com\">네이버</a>\n",
            "<a href=\"http://w3schools.com\">공부하러가자</a>\n"
          ],
          "name": "stdout"
        }
      ]
    },
    {
      "cell_type": "code",
      "metadata": {
        "colab": {
          "base_uri": "https://localhost:8080/"
        },
        "id": "ByTjwD9dEWsv",
        "outputId": "63e6a7d1-98e9-4781-dd68-2b48e5909310"
      },
      "source": [
        "s_name = s.find_all('a')\n",
        "for i in s_name:\n",
        "    print(i.get_text())"
      ],
      "execution_count": 24,
      "outputs": [
        {
          "output_type": "stream",
          "text": [
            "우리카페\n",
            "네이버\n",
            "공부하러가자\n"
          ],
          "name": "stdout"
        }
      ]
    },
    {
      "cell_type": "code",
      "metadata": {
        "colab": {
          "base_uri": "https://localhost:8080/"
        },
        "id": "x8-di9tlEgzW",
        "outputId": "58c1acc3-d548-465d-f68f-0bbdc6b8a586"
      },
      "source": [
        "s.select('head > title')"
      ],
      "execution_count": 25,
      "outputs": [
        {
          "output_type": "execute_result",
          "data": {
            "text/plain": [
              "[<title>나의 타이틀</title>]"
            ]
          },
          "metadata": {
            "tags": []
          },
          "execution_count": 25
        }
      ]
    },
    {
      "cell_type": "code",
      "metadata": {
        "colab": {
          "base_uri": "https://localhost:8080/"
        },
        "id": "YMGSVgCvEm8O",
        "outputId": "acc40203-3ffa-43b0-910d-15d9cede41a9"
      },
      "source": [
        "s.select('title')"
      ],
      "execution_count": 26,
      "outputs": [
        {
          "output_type": "execute_result",
          "data": {
            "text/plain": [
              "[<title>나의 타이틀</title>]"
            ]
          },
          "metadata": {
            "tags": []
          },
          "execution_count": 26
        }
      ]
    },
    {
      "cell_type": "code",
      "metadata": {
        "colab": {
          "base_uri": "https://localhost:8080/"
        },
        "id": "akXdyXgdEq1-",
        "outputId": "62394c64-2a37-402c-8522-72d3677071e6"
      },
      "source": [
        "s.select('table > th > tr')"
      ],
      "execution_count": 27,
      "outputs": [
        {
          "output_type": "execute_result",
          "data": {
            "text/plain": [
              "[]"
            ]
          },
          "metadata": {
            "tags": []
          },
          "execution_count": 27
        }
      ]
    },
    {
      "cell_type": "code",
      "metadata": {
        "colab": {
          "base_uri": "https://localhost:8080/"
        },
        "id": "kSa0-YT_Evlm",
        "outputId": "c621092a-1029-437a-e7f4-e84b0ef13dfc"
      },
      "source": [
        "s.select('table > td > tr')"
      ],
      "execution_count": 28,
      "outputs": [
        {
          "output_type": "execute_result",
          "data": {
            "text/plain": [
              "[]"
            ]
          },
          "metadata": {
            "tags": []
          },
          "execution_count": 28
        }
      ]
    },
    {
      "cell_type": "code",
      "metadata": {
        "colab": {
          "base_uri": "https://localhost:8080/"
        },
        "id": "4fEeEeEXEy7m",
        "outputId": "f9ad38e8-0838-4ee0-ac98-36467d2fab43"
      },
      "source": [
        "s.select('table > tr > td')"
      ],
      "execution_count": 30,
      "outputs": [
        {
          "output_type": "execute_result",
          "data": {
            "text/plain": [
              "[<td>류현진</td>,\n",
              " <td>토론토</td>,\n",
              " <td>1500</td>,\n",
              " <td>김하성</td>,\n",
              " <td>센디에이고</td>,\n",
              " <td>700</td>,\n",
              " <td>양현종</td>,\n",
              " <td>텍사스</td>,\n",
              " <td>800</td>]"
            ]
          },
          "metadata": {
            "tags": []
          },
          "execution_count": 30
        }
      ]
    },
    {
      "cell_type": "code",
      "metadata": {
        "colab": {
          "base_uri": "https://localhost:8080/"
        },
        "id": "QJJkaKUaE0e2",
        "outputId": "a0a76a72-6047-4453-9b50-78159588dfbd"
      },
      "source": [
        "s.select_one('table > tr > td')"
      ],
      "execution_count": 31,
      "outputs": [
        {
          "output_type": "execute_result",
          "data": {
            "text/plain": [
              "<td>류현진</td>"
            ]
          },
          "metadata": {
            "tags": []
          },
          "execution_count": 31
        }
      ]
    },
    {
      "cell_type": "code",
      "metadata": {
        "colab": {
          "base_uri": "https://localhost:8080/"
        },
        "id": "_yixDhnQE8V-",
        "outputId": "9f7f0206-c0ed-464c-df06-d83f75a96cd8"
      },
      "source": [
        "import requests\n",
        "from bs4 import BeautifulSoup\n",
        "\n",
        "data = requests.get('https://movie.naver.com/movie/sdb/rank/rmovie.nhn')\n",
        "soup = BeautifulSoup(data.text, 'html.parser')\n",
        "\n",
        "movies = soup.select('#old_content > table > tbody > tr')\n",
        "\n",
        "for i in movies:\n",
        "    a = i.select_one('td.title > div > a')\n",
        "    if a is not None:\n",
        "        print(a.text)"
      ],
      "execution_count": 32,
      "outputs": [
        {
          "output_type": "stream",
          "text": [
            "크루엘라\n",
            "분노의 질주: 더 얼티메이트\n",
            "파이프라인\n",
            "보이저스\n",
            "극장판 귀멸의 칼날: 무한열차편\n",
            "도라에몽: 스탠바이미 2\n",
            "스파이럴\n",
            "애플\n",
            "비와 당신의 이야기\n",
            "500일의 썸머\n",
            "굴뚝마을의 푸펠\n",
            "컨저링 3: 악마가 시켰다\n",
            "아미 오브 더 데드\n",
            "캐시트럭\n",
            "라이더스 오브 저스티스\n",
            "노매드랜드\n",
            "더 스파이\n",
            "혼자 사는 사람들\n",
            "인트로덕션\n",
            "크루즈 패밀리: 뉴 에이지\n",
            "이터널스\n",
            "미나리\n",
            "내일의 기억\n",
            "프로페서 앤 매드맨\n",
            "아들의 이름으로\n",
            "브리짓 존스의 일기\n",
            "내가 죽기를 바라는 자들\n",
            "썰\n",
            "낫아웃\n",
            "좋은 빛, 좋은 공기\n",
            "베놈 2: 렛 데어 비 카니지\n",
            "콰이어트 플레이스 2\n",
            "극장판 콩순이: 장난감나라 대모험\n",
            "써니\n",
            "발신제한\n",
            "쇼크 웨이브 2\n",
            "2067\n",
            "킬러의 보디가드 2\n",
            "잭 스나이더의 저스티스 리그\n",
            "인셉션\n",
            "여고괴담 여섯번째 이야기 : 모교\n",
            "어른들은 몰라요\n",
            "진범\n",
            "아이들은 즐겁다\n",
            "그린 북\n",
            "노바디 \n",
            "자산어보\n",
            "명탐정 코난: 비색의 탄환\n",
            "분노의 질주: 더 세븐\n",
            "비밀의 정원\n"
          ],
          "name": "stdout"
        }
      ]
    },
    {
      "cell_type": "markdown",
      "metadata": {
        "id": "gUn91JjHT5jj"
      },
      "source": [
        "## 네이버 개발자 센터\n",
        "* 네이버 아이디로 로그인 > 오픈 api > 만들기\n",
        "\n",
        "*  도큐먼트 > 검색 > 파이썬 코드 긁어와서 id, secret 바꾸고 url에서\n",
        "blog를 webkr로 수정한다.\n"
      ]
    },
    {
      "cell_type": "code",
      "metadata": {
        "colab": {
          "base_uri": "https://localhost:8080/"
        },
        "id": "qgysjeBUG6y1",
        "outputId": "2d54261a-3ddf-40e3-c99b-2d456fc58437"
      },
      "source": [
        "import os\n",
        "import sys\n",
        "import urllib.request\n",
        "client_id = \"ICLySmj4JqvyIxIXFaeA\"\n",
        "client_secret = \"5aKcpxqGTZ\"\n",
        "encText = urllib.parse.quote(\"2021 롤랑가로스\")\n",
        "url = \"https://openapi.naver.com/v1/search/webkr?query=\" + encText # json 결과\n",
        "\n",
        "request = urllib.request.Request(url)\n",
        "request.add_header(\"X-Naver-Client-Id\",client_id)\n",
        "request.add_header(\"X-Naver-Client-Secret\",client_secret)\n",
        "response = urllib.request.urlopen(request)\n",
        "rescode = response.getcode()\n",
        "if(rescode==200):\n",
        "    response_body = response.read()\n",
        "    print(response_body.decode('utf-8'))\n",
        "else:\n",
        "    print(\"Error Code:\" + rescode)"
      ],
      "execution_count": 37,
      "outputs": [
        {
          "output_type": "stream",
          "text": [
            "{\n",
            "\"lastBuildDate\": \"Mon, 31 May 2021 16:27:13 +0900\",\n",
            "\"total\": 10710,\n",
            "\"start\": 1,\n",
            "\"display\": 10,\n",
            "\"items\": [\n",
            "{\n",
            "\"title\": \"<b>2021 롤랑가로스</b> | <b>2021 롤랑가로스</b> 대회 소개\",\n",
            "\"link\": \"http://program.tving.com/tvn/2021rolandgarros/1/Contents/Html\",\n",
            "\"description\": \"<b>2021 롤랑가로스</b> 프랑스오픈 테니스 대회. '테니스 4대 그랜드 슬램' 중 하나로 조코비치, 나달, 페더러 등 세계 정상급 선수들과 함께 국내 유망주 '권순우' 출전! 5/30(일) ~ 6/13(일) 22:00 ~ 09:00 tvN/XtvN\"\n",
            "\n",
            "},\n",
            "{\n",
            "\"title\": \"<b>2021 롤랑가로스</b> | <b>2021 롤랑가로스</b> 대회 소개\",\n",
            "\"link\": \"http://program.tving.com/tvn/2021rolandgarros/1/Contents/Html?rcnt=1\",\n",
            "\"description\": \"<b>2021 롤랑가로스</b> 프랑스오픈 테니스 대회. '테니스 4대 그랜드 슬램' 중 하나로 조코비치, 나달, 페더러 등 세계 정상급 선수들과 함께 국내 유망주 '권순우' 출전! 5/30(일) ~ 6/13(일) 22:00 ~ 09:00 tvN/XtvN\"\n",
            "\n",
            "},\n",
            "{\n",
            "\"title\": \"<b>2021 롤랑가로스</b> - 테니스피플\",\n",
            "\"link\": \"http://www.tennispeople.kr/news/articleView.html?idxno=12656\",\n",
            "\"description\": \"대회 그랜드슬램 <b>2021 롤랑가로스</b> 테니스피플 | ******@************.** 승인 2021.05.27 02:37:29\"\n",
            "\n",
            "},\n",
            "{\n",
            "\"title\": \"<b>롤랑 가로스</b> <b>2021</b> | 라코스테 | LACOSTE\",\n",
            "\"link\": \"https://www.lacoste.com/kr/lacoste-roland-garros.html\",\n",
            "\"description\": \"이번 시즌, 프랑스 오픈의 50년 파트너, 라코스테와 함께 <b>롤랑 가로스</b>, 그 열기의 중심에 서보세요. 지금까지 보지 못했던 특별한 순간들을 라코스테 크록과 함께 경험해보세요.\"\n",
            "\n",
            "},\n",
            "{\n",
            "\"title\": \"'<b>2021 롤랑가로스</b> 오픈' 태그의 글 목록 - 대학내일\",\n",
            "\"link\": \"https://universitytomorrow.com/tag/2021%20%EB%A1%A4%EB%9E%91%EA%B0%80%EB%A1%9C%EC%8A%A4%20%EC%98%A4%ED%94%88\",\n",
            "\"description\": \" 본문 바로가기 대학내일 홈 태그 방명록 IT 생활정보 <b>2021 롤랑가로스</b> 오픈 1 <b>2021 롤랑가로스</b> 프랑스 오픈 정보 총 정리(일정, 참가자, 상금) 세계 4대 메이저리그인 프랑스에서 열리는 롤랑가로스 오픈이 5월 30일부터 본격\"\n",
            "\n",
            "},\n",
            "{\n",
            "\"title\": \"<b>2021 롤랑가로스</b> 테니스 - kakaoTV\",\n",
            "\"link\": \"https://play-tv.kakao.com/channel/3823438\",\n",
            "\"description\": \"<b>2021 롤랑가로스</b> 테니스 동영상 재생목록 정보 전체보기 콘텐츠가 없어요..\"\n",
            "\n",
            "},\n",
            "{\n",
            "\"title\": \"'<b>2021 롤랑가로스</b> 대진표' 태그의 글 목록 - 대학내일\",\n",
            "\"link\": \"https://universitytomorrow.com/tag/2021%20%EB%A1%A4%EB%9E%91%EA%B0%80%EB%A1%9C%EC%8A%A4%20%EB%8C%80%EC%A7%84%ED%91%9C\",\n",
            "\"description\": \" 본문 바로가기 대학내일 홈 태그 방명록 IT 생활정보 <b>2021 롤랑가로스</b> 대진표 1 2021 프랑스 오픈(롤랑가로스) 권순우 선수 경기일정 및 중계 채널 2021년 롤랑가로스 프랑스 오픈이 몇일 앞으로 다가왔습니다. 우리나라 선 \"\n",
            "\n",
            "},\n",
            "{\n",
            "\"title\": \"<b>2021 롤랑가로스</b> | 생중계 일정\",\n",
            "\"link\": \"http://program.tving.com/tvn/2021rolandgarros/3/Contents/Html\",\n",
            "\"description\": \"<b>2021 롤랑가로스</b> 프랑스오픈 테니스 대회. '테니스 4대 그랜드 슬램' 중 하나로 조코비치, 나달, 페더러 등 세계 정상급 선수들과 함께 국내 유망주 '권순우' 출전! 5/30(일) ~ 6/13(일) 22:00 ~ 09:00 tvN/XtvN\"\n",
            "\n",
            "},\n",
            "{\n",
            "\"title\": \"'<b>2021 롤랑가로스</b> 중계' 태그의 글 목록 - 대학내일\",\n",
            "\"link\": \"https://universitytomorrow.com/tag/2021%20%EB%A1%A4%EB%9E%91%EA%B0%80%EB%A1%9C%EC%8A%A4%20%EC%A4%91%EA%B3%84\",\n",
            "\"description\": \" 본문 바로가기 대학내일 홈 태그 방명록 IT 생활정보 <b>2021 롤랑가로스</b> 중계 2 2021 프랑스 오픈(롤랑가로스) 권순우 선수 경기일정 및 중계 채널 2021년 롤랑가로스 프랑스 오픈이 몇일 앞으로 다가왔습니다. 우리나라 선수  \"\n",
            "\n",
            "},\n",
            "{\n",
            "\"title\": \"<b>2021 롤랑</b>-<b>가로스</b> - 롤렉스와 테니스 - Rolex\",\n",
            "\"link\": \"https://www.rolex.com/ko/world-of-rolex/tennis/roland-garros.html\",\n",
            "\"description\": \"롤렉스는 선수들에게 극한의 테스트인 <b>2021 롤랑</b>-<b>가로스</b> 대회의 프리미엄 파트너이자 공식 타임키퍼, 공식 시계로 참여합니다. 이야기 자세히 보기.\"\n",
            "\n",
            "}\n",
            "]\n",
            "}\n",
            "\n"
          ],
          "name": "stdout"
        }
      ]
    },
    {
      "cell_type": "code",
      "metadata": {
        "colab": {
          "base_uri": "https://localhost:8080/"
        },
        "id": "whpBe8voQzKl",
        "outputId": "8af88174-796d-450f-fd51-a98bcd4a2235"
      },
      "source": [
        "import re\n",
        "import json\n",
        "import pandas as pd\n",
        "import os\n",
        "import sys\n",
        "import urllib.request\n",
        "\n",
        "client_id = \"ICLySmj4JqvyIxIXFaeA\"\n",
        "client_secret = \"5aKcpxqGTZ\"\n",
        "\n",
        "query = urllib.parse.quote(input(\"검색어를 입력 하세요 : \"))\n",
        "cols = ['title', 'link', 'description']\n",
        "df = pd.DataFrame(columns=cols)\n",
        "\n",
        "count = 0\n",
        "\n",
        "for i in range(1, 100, 10):\n",
        "    url = \"https://openapi.naver.com/v1/search/webkr?query=\" + query \\\n",
        "    +'&display=' + str(10) + '&start=' + str(i)\n",
        "\n",
        "    request = urllib.request.Request(url)\n",
        "    request.add_header(\"X-Naver-Client-Id\",client_id)\n",
        "    request.add_header(\"X-Naver-Client-Secret\",client_secret)\n",
        "    response = urllib.request.urlopen(request)\n",
        "    rescode = response.getcode()\n",
        "\n",
        "    if(rescode==200):\n",
        "        response_body = response.read()\n",
        "        response_dict = json.loads(response_body.decode('utf-8'))\n",
        "        items = response_dict['items']\n",
        "\n",
        "        for j in range(0, len(items)):\n",
        "            p = re.compile('<.*?>')\n",
        "            title = re.sub(p, '', items[j]['title'])\n",
        "            link = items[j]['link']\n",
        "            description = re.sub(p, '', items[j]['description'])\n",
        "            df.loc[count] = [title, link, description]\n",
        "            print(count, end = ' ')\n",
        "            count += 1\n",
        "\n",
        "\n",
        "    else:\n",
        "        print(\"Error Code:\" + rescode)\n"
      ],
      "execution_count": 51,
      "outputs": [
        {
          "output_type": "stream",
          "text": [
            "검색어를 입력 하세요 : 롤랑가로스\n",
            "0 1 2 3 4 5 6 7 8 9 10 11 12 13 14 15 16 17 18 19 20 21 22 23 24 25 26 27 28 29 30 31 32 33 34 35 36 37 38 39 40 41 42 43 44 45 46 47 48 49 50 51 52 53 54 55 56 57 58 59 60 61 62 63 64 65 66 67 68 69 70 71 72 73 74 75 76 77 78 79 80 81 82 83 84 85 86 87 88 89 90 91 92 93 94 95 96 97 98 99 "
          ],
          "name": "stdout"
        }
      ]
    },
    {
      "cell_type": "code",
      "metadata": {
        "colab": {
          "base_uri": "https://localhost:8080/",
          "height": 467
        },
        "id": "bCKyXSb1QzDY",
        "outputId": "fb155685-3de6-4664-f0aa-785c2cf644d1"
      },
      "source": [
        "df"
      ],
      "execution_count": 52,
      "outputs": [
        {
          "output_type": "execute_result",
          "data": {
            "text/html": [
              "<div>\n",
              "<style scoped>\n",
              "    .dataframe tbody tr th:only-of-type {\n",
              "        vertical-align: middle;\n",
              "    }\n",
              "\n",
              "    .dataframe tbody tr th {\n",
              "        vertical-align: top;\n",
              "    }\n",
              "\n",
              "    .dataframe thead th {\n",
              "        text-align: right;\n",
              "    }\n",
              "</style>\n",
              "<table border=\"1\" class=\"dataframe\">\n",
              "  <thead>\n",
              "    <tr style=\"text-align: right;\">\n",
              "      <th></th>\n",
              "      <th>title</th>\n",
              "      <th>link</th>\n",
              "      <th>description</th>\n",
              "    </tr>\n",
              "  </thead>\n",
              "  <tbody>\n",
              "    <tr>\n",
              "      <th>0</th>\n",
              "      <td>롤랑 가로스 프랑스 테니스 오픈</td>\n",
              "      <td>https://kr.france.fr/ko/happening-now-in-franc...</td>\n",
              "      <td>따사로이 이곳을 비추며 봄이 돌아왔음을 알릴 때, 세계 최고의 테니스 선수들이 라켓...</td>\n",
              "    </tr>\n",
              "    <tr>\n",
              "      <th>1</th>\n",
              "      <td>롤랑 가로스 - 윌슨</td>\n",
              "      <td>https://www.wilson.co.kr/m2/goods/list.php?cat...</td>\n",
              "      <td>윌슨 2021 블레이드 98 (16x19) 롤랑가로스 에디션 98sq in/305g...</td>\n",
              "    </tr>\n",
              "    <tr>\n",
              "      <th>2</th>\n",
              "      <td>[daily Look] 윤계상, 롤랑 가로스 현장 분위기 압도 - 패션서울</td>\n",
              "      <td>https://fashionseoul.com/144102</td>\n",
              "      <td>윤계상은 프랑스 프리미엄 캐주얼 브랜드 라코스테(LACOSTE)의 초청을 받아 지난...</td>\n",
              "    </tr>\n",
              "    <tr>\n",
              "      <th>3</th>\n",
              "      <td>윌슨 2021 롤랑가로스 에디션 | 테니스메트로 온라인 스토어</td>\n",
              "      <td>http://tm-art.kr/promotion/wilson-rg-21.html</td>\n",
              "      <td>테니스메트로 온라인 스토어에서 선보이는 윌슨 롤랑가로스 에디션을 가장 먼저 만나보세요.</td>\n",
              "    </tr>\n",
              "    <tr>\n",
              "      <th>4</th>\n",
              "      <td>[윌슨X롤랑가로스] 2020 롤랑가로스를 기대하고 있어요 *_*</td>\n",
              "      <td>https://blog.naver.com/dodossa/221799039997</td>\n",
              "      <td>2020 롤랑가로스의 기대가 많습니다~ 제가 애용 하는 세계적인 스포츠 브랜드 윌슨...</td>\n",
              "    </tr>\n",
              "    <tr>\n",
              "      <th>...</th>\n",
              "      <td>...</td>\n",
              "      <td>...</td>\n",
              "      <td>...</td>\n",
              "    </tr>\n",
              "    <tr>\n",
              "      <th>95</th>\n",
              "      <td>라코스테, 롤랑 가로스컬렉션 ‘눈길’ - 한국섬유신문</td>\n",
              "      <td>http://www.ktnews.com/news/articleView.html?id...</td>\n",
              "      <td>세계 4대 테니스 대회 중 하나인 프렌치 테니스 토너먼트 롤랑 가로스를 기념했다. ...</td>\n",
              "    </tr>\n",
              "    <tr>\n",
              "      <th>96</th>\n",
              "      <td>스포츠서울 - '클레이의 킹' 나달, &amp;quot;롤랑가로스에서 뛰는 건 '파리와의 ...</td>\n",
              "      <td>http://www.sportsseoul.com/news/read/968409</td>\n",
              "      <td>파리/AP 연합뉴스 [스포츠서울 김경무전문기자] “여기(롤랑가로스)에서 플레이하는 ...</td>\n",
              "    </tr>\n",
              "    <tr>\n",
              "      <th>97</th>\n",
              "      <td>2018 롤랑가로스 8강 리뷰 : 망했네 망했어 - @insanepizi</td>\n",
              "      <td>https://tecxass.tistory.com/579</td>\n",
              "      <td>티스토리 뷰 일상저널/인세인 tennis 2018 롤랑가로스 8강 리뷰... 여전히...</td>\n",
              "    </tr>\n",
              "    <tr>\n",
              "      <th>98</th>\n",
              "      <td>Pgr21 - [스포츠] 롤랑가로스 남자 단식 4강 대진</td>\n",
              "      <td>https://pgr21.com/spoent/8169?page=6&amp;divpage=9...</td>\n",
              "      <td>한국 시간으로 오늘 오후 7:45분부터 롤랑가로스 남자 4강이 펼쳐집니다.그랜드슬램...</td>\n",
              "    </tr>\n",
              "    <tr>\n",
              "      <th>99</th>\n",
              "      <td>윌슨닷컴 윌슨 롤랑 가로스 팀 백팩</td>\n",
              "      <td>https://www.wilson.co.kr/shop/goods/goods_view...</td>\n",
              "      <td>확대 보기 윌슨 롤랑 가로스 팀 백팩 75,000원 품번 WR8006901001 품...</td>\n",
              "    </tr>\n",
              "  </tbody>\n",
              "</table>\n",
              "<p>100 rows × 3 columns</p>\n",
              "</div>"
            ],
            "text/plain": [
              "                                                title  ...                                        description\n",
              "0                                   롤랑 가로스 프랑스 테니스 오픈  ...  따사로이 이곳을 비추며 봄이 돌아왔음을 알릴 때, 세계 최고의 테니스 선수들이 라켓...\n",
              "1                                         롤랑 가로스 - 윌슨  ...  윌슨 2021 블레이드 98 (16x19) 롤랑가로스 에디션 98sq in/305g...\n",
              "2           [daily Look] 윤계상, 롤랑 가로스 현장 분위기 압도 - 패션서울  ...  윤계상은 프랑스 프리미엄 캐주얼 브랜드 라코스테(LACOSTE)의 초청을 받아 지난...\n",
              "3                  윌슨 2021 롤랑가로스 에디션 | 테니스메트로 온라인 스토어  ...   테니스메트로 온라인 스토어에서 선보이는 윌슨 롤랑가로스 에디션을 가장 먼저 만나보세요.\n",
              "4                 [윌슨X롤랑가로스] 2020 롤랑가로스를 기대하고 있어요 *_*  ...  2020 롤랑가로스의 기대가 많습니다~ 제가 애용 하는 세계적인 스포츠 브랜드 윌슨...\n",
              "..                                                ...  ...                                                ...\n",
              "95                      라코스테, 롤랑 가로스컬렉션 ‘눈길’ - 한국섬유신문  ...  세계 4대 테니스 대회 중 하나인 프렌치 테니스 토너먼트 롤랑 가로스를 기념했다. ...\n",
              "96  스포츠서울 - '클레이의 킹' 나달, &quot;롤랑가로스에서 뛰는 건 '파리와의 ...  ...  파리/AP 연합뉴스 [스포츠서울 김경무전문기자] “여기(롤랑가로스)에서 플레이하는 ...\n",
              "97           2018 롤랑가로스 8강 리뷰 : 망했네 망했어 - @insanepizi  ...  티스토리 뷰 일상저널/인세인 tennis 2018 롤랑가로스 8강 리뷰... 여전히...\n",
              "98                    Pgr21 - [스포츠] 롤랑가로스 남자 단식 4강 대진  ...  한국 시간으로 오늘 오후 7:45분부터 롤랑가로스 남자 4강이 펼쳐집니다.그랜드슬램...\n",
              "99                                윌슨닷컴 윌슨 롤랑 가로스 팀 백팩  ...  확대 보기 윌슨 롤랑 가로스 팀 백팩 75,000원 품번 WR8006901001 품...\n",
              "\n",
              "[100 rows x 3 columns]"
            ]
          },
          "metadata": {
            "tags": []
          },
          "execution_count": 52
        }
      ]
    },
    {
      "cell_type": "code",
      "metadata": {
        "colab": {
          "base_uri": "https://localhost:8080/"
        },
        "id": "hXwHnIjAQy89",
        "outputId": "b7a46130-f126-4d3b-b4b5-406e865bd9bf"
      },
      "source": [
        "df.columns"
      ],
      "execution_count": 49,
      "outputs": [
        {
          "output_type": "execute_result",
          "data": {
            "text/plain": [
              "Index(['title', 'link', 'description'], dtype='object')"
            ]
          },
          "metadata": {
            "tags": []
          },
          "execution_count": 49
        }
      ]
    },
    {
      "cell_type": "code",
      "metadata": {
        "colab": {
          "base_uri": "https://localhost:8080/",
          "height": 172
        },
        "id": "59z9NrSrQy0Y",
        "outputId": "4cc6a6ac-20e6-42c4-cf46-34c89bf58cc9"
      },
      "source": [
        "df.describe()"
      ],
      "execution_count": 50,
      "outputs": [
        {
          "output_type": "execute_result",
          "data": {
            "text/html": [
              "<div>\n",
              "<style scoped>\n",
              "    .dataframe tbody tr th:only-of-type {\n",
              "        vertical-align: middle;\n",
              "    }\n",
              "\n",
              "    .dataframe tbody tr th {\n",
              "        vertical-align: top;\n",
              "    }\n",
              "\n",
              "    .dataframe thead th {\n",
              "        text-align: right;\n",
              "    }\n",
              "</style>\n",
              "<table border=\"1\" class=\"dataframe\">\n",
              "  <thead>\n",
              "    <tr style=\"text-align: right;\">\n",
              "      <th></th>\n",
              "      <th>title</th>\n",
              "      <th>link</th>\n",
              "      <th>description</th>\n",
              "    </tr>\n",
              "  </thead>\n",
              "  <tbody>\n",
              "    <tr>\n",
              "      <th>count</th>\n",
              "      <td>0</td>\n",
              "      <td>0</td>\n",
              "      <td>0</td>\n",
              "    </tr>\n",
              "    <tr>\n",
              "      <th>unique</th>\n",
              "      <td>0</td>\n",
              "      <td>0</td>\n",
              "      <td>0</td>\n",
              "    </tr>\n",
              "    <tr>\n",
              "      <th>top</th>\n",
              "      <td>NaN</td>\n",
              "      <td>NaN</td>\n",
              "      <td>NaN</td>\n",
              "    </tr>\n",
              "    <tr>\n",
              "      <th>freq</th>\n",
              "      <td>NaN</td>\n",
              "      <td>NaN</td>\n",
              "      <td>NaN</td>\n",
              "    </tr>\n",
              "  </tbody>\n",
              "</table>\n",
              "</div>"
            ],
            "text/plain": [
              "       title link description\n",
              "count      0    0           0\n",
              "unique     0    0           0\n",
              "top      NaN  NaN         NaN\n",
              "freq     NaN  NaN         NaN"
            ]
          },
          "metadata": {
            "tags": []
          },
          "execution_count": 50
        }
      ]
    },
    {
      "cell_type": "code",
      "metadata": {
        "colab": {
          "base_uri": "https://localhost:8080/"
        },
        "id": "jWAoCtZ9Qyfm",
        "outputId": "70b8f58d-0d49-4a72-985c-1e5d9e4939a4"
      },
      "source": [
        "import re\n",
        "import json\n",
        "import pandas as pd\n",
        "import os\n",
        "import sys\n",
        "import urllib.request\n",
        "\n",
        "client_id = \"ICLySmj4JqvyIxIXFaeA\"\n",
        "client_secret = \"5aKcpxqGTZ\"\n",
        "\n",
        "query = urllib.parse.quote(input(\"검색어를 입력 하세요 : \"))\n",
        "cols = ['title', 'link', 'description']\n",
        "kin_df = pd.DataFrame(columns=cols)\n",
        "\n",
        "count = 0\n",
        "\n",
        "for i in range(1, 100, 10):\n",
        "    url = \"https://openapi.naver.com/v1/search/kin?query=\" + query \\\n",
        "    +'&display=' + str(10) + '&start=' + str(i) + '&sort=' +'sim'\n",
        "\n",
        "    request = urllib.request.Request(url)\n",
        "    request.add_header(\"X-Naver-Client-Id\",client_id)\n",
        "    request.add_header(\"X-Naver-Client-Secret\",client_secret)\n",
        "    response = urllib.request.urlopen(request)\n",
        "    rescode = response.getcode()\n",
        "\n",
        "    if(rescode==200):\n",
        "        response_body = response.read()\n",
        "        response_dict = json.loads(response_body.decode('utf-8'))\n",
        "        items = response_dict['items']\n",
        "\n",
        "        for j in range(0, len(items)):\n",
        "            p = re.compile('<.*?>')\n",
        "            title = re.sub(p, '', items[j]['title'])\n",
        "            link = items[j]['link']\n",
        "            description = re.sub(p, '', items[j]['description'])\n",
        "            kin_df.loc[count] = [title, link, description]\n",
        "            print(count, end = ' ')\n",
        "            count += 1\n",
        "\n",
        "\n",
        "    else:\n",
        "        print(\"Error Code:\" + rescode)\n"
      ],
      "execution_count": 46,
      "outputs": [
        {
          "output_type": "stream",
          "text": [
            "검색어를 입력 하세요 : 원빈\n",
            "0 1 2 3 4 5 6 7 8 9 10 11 12 13 14 15 16 17 18 19 20 21 22 23 24 25 26 27 28 29 30 31 32 33 34 35 36 37 38 39 40 41 42 43 44 45 46 47 48 49 50 51 52 53 54 55 56 57 58 59 60 61 62 63 64 65 66 67 68 69 70 71 72 73 74 75 76 77 78 79 80 81 82 83 84 85 86 87 88 89 90 91 92 93 94 95 96 97 98 99 "
          ],
          "name": "stdout"
        }
      ]
    },
    {
      "cell_type": "code",
      "metadata": {
        "colab": {
          "base_uri": "https://localhost:8080/",
          "height": 417
        },
        "id": "uapAGUp7bcNo",
        "outputId": "a8ecc53d-09ca-473f-d82e-7e0b426d48f2"
      },
      "source": [
        "kin_df"
      ],
      "execution_count": 47,
      "outputs": [
        {
          "output_type": "execute_result",
          "data": {
            "text/html": [
              "<div>\n",
              "<style scoped>\n",
              "    .dataframe tbody tr th:only-of-type {\n",
              "        vertical-align: middle;\n",
              "    }\n",
              "\n",
              "    .dataframe tbody tr th {\n",
              "        vertical-align: top;\n",
              "    }\n",
              "\n",
              "    .dataframe thead th {\n",
              "        text-align: right;\n",
              "    }\n",
              "</style>\n",
              "<table border=\"1\" class=\"dataframe\">\n",
              "  <thead>\n",
              "    <tr style=\"text-align: right;\">\n",
              "      <th></th>\n",
              "      <th>title</th>\n",
              "      <th>link</th>\n",
              "      <th>description</th>\n",
              "    </tr>\n",
              "  </thead>\n",
              "  <tbody>\n",
              "    <tr>\n",
              "      <th>0</th>\n",
              "      <td>원빈 왜 작품 안할까여</td>\n",
              "      <td>https://kin.naver.com/qna/detail.nhn?d1id=3&amp;di...</td>\n",
              "      <td>원빈 왜 작품 안할까여  강력한 작품으로 나오겠죠.... 지금... 국민들이 원빈을...</td>\n",
              "    </tr>\n",
              "    <tr>\n",
              "      <th>1</th>\n",
              "      <td>올젠 화보 원빈이 신은 슬립온 제품 알려주세요 ㅠㅠ</td>\n",
              "      <td>https://kin.naver.com/qna/detail.nhn?d1id=5&amp;di...</td>\n",
              "      <td>사진속 원빈이 신은 슬립온 제품 품번좀 알려주시면 감사하겠습니다 .ㅠㅠ 내공 100...</td>\n",
              "    </tr>\n",
              "    <tr>\n",
              "      <th>2</th>\n",
              "      <td>정조대왕의 원빈은 누구인가?</td>\n",
              "      <td>https://kin.naver.com/qna/detail.nhn?d1id=11&amp;d...</td>\n",
              "      <td>정조 의 후처 원빈의 운명은?  홍국영의 누이동생 이었던 원빈홍씨는 입궁한지 1년만...</td>\n",
              "    </tr>\n",
              "    <tr>\n",
              "      <th>3</th>\n",
              "      <td>원빈이 잘생긴건가요?</td>\n",
              "      <td>https://kin.naver.com/qna/detail.nhn?d1id=8&amp;di...</td>\n",
              "      <td>원빈이 잘생긴건가요? ㅈㄱㄴ ㅇ넹 잘생겻어용 원빈</td>\n",
              "    </tr>\n",
              "    <tr>\n",
              "      <th>4</th>\n",
              "      <td>지창욱 원빈 탑 뷔 중에 누가 제일</td>\n",
              "      <td>https://kin.naver.com/qna/detail.nhn?d1id=3&amp;di...</td>\n",
              "      <td>지창욱 원빈 탑 뷔 중에 누가 제일 잘생겼나요 주관적으로  원빈이죠~~</td>\n",
              "    </tr>\n",
              "    <tr>\n",
              "      <th>...</th>\n",
              "      <td>...</td>\n",
              "      <td>...</td>\n",
              "      <td>...</td>\n",
              "    </tr>\n",
              "    <tr>\n",
              "      <th>95</th>\n",
              "      <td>원빈처럼 잘생겨지는 법이 궁금합니다</td>\n",
              "      <td>https://kin.naver.com/qna/detail.nhn?d1id=9&amp;di...</td>\n",
              "      <td>원빈처럼 잘생겨지는 법이 궁금합니다  안녕하세요, 남자 피부 좋아지는 법과 잘생겨지...</td>\n",
              "    </tr>\n",
              "    <tr>\n",
              "      <th>96</th>\n",
              "      <td>원빈이헤어스타일대체머죠??</td>\n",
              "      <td>https://kin.naver.com/qna/detail.nhn?d1id=8&amp;di...</td>\n",
              "      <td>원빈이머리너무마음에들어서할려고하는데이머리할려면미용... 즈 입니다 원빈 헤어스타일로...</td>\n",
              "    </tr>\n",
              "    <tr>\n",
              "      <th>97</th>\n",
              "      <td>F.T.Island 원빈오빠 탈퇴해요??</td>\n",
              "      <td>https://kin.naver.com/qna/detail.nhn?d1id=3&amp;di...</td>\n",
              "      <td>... 오원빈오빠 탈퇴해요?? 사실인가요? 아니겠죠? 아니라고 말해줘요... 원빈오...</td>\n",
              "    </tr>\n",
              "    <tr>\n",
              "      <th>98</th>\n",
              "      <td>진짜 궁금해서 그런데 원빈(님) 처럼</td>\n",
              "      <td>https://kin.naver.com/qna/detail.nhn?d1id=3&amp;di...</td>\n",
              "      <td>진짜 궁금해서 그런데 원빈(님) 처럼 생기려면 성형비가 얼마정도 나올까요?? 안되는...</td>\n",
              "    </tr>\n",
              "    <tr>\n",
              "      <th>99</th>\n",
              "      <td>원빈이랑 데이트하는꿈</td>\n",
              "      <td>https://kin.naver.com/qna/detail.nhn?d1id=3&amp;di...</td>\n",
              "      <td>원빈이 꿈에 제남자친구로나와 까페에서 데이트하는꿈을꿨는데요 의자에앉아있는데 원빈얼굴...</td>\n",
              "    </tr>\n",
              "  </tbody>\n",
              "</table>\n",
              "<p>100 rows × 3 columns</p>\n",
              "</div>"
            ],
            "text/plain": [
              "                           title  ...                                        description\n",
              "0                   원빈 왜 작품 안할까여  ...  원빈 왜 작품 안할까여  강력한 작품으로 나오겠죠.... 지금... 국민들이 원빈을...\n",
              "1   올젠 화보 원빈이 신은 슬립온 제품 알려주세요 ㅠㅠ  ...  사진속 원빈이 신은 슬립온 제품 품번좀 알려주시면 감사하겠습니다 .ㅠㅠ 내공 100...\n",
              "2                정조대왕의 원빈은 누구인가?  ...  정조 의 후처 원빈의 운명은?  홍국영의 누이동생 이었던 원빈홍씨는 입궁한지 1년만...\n",
              "3                    원빈이 잘생긴건가요?  ...                       원빈이 잘생긴건가요? ㅈㄱㄴ ㅇ넹 잘생겻어용 원빈 \n",
              "4            지창욱 원빈 탑 뷔 중에 누가 제일  ...            지창욱 원빈 탑 뷔 중에 누가 제일 잘생겼나요 주관적으로  원빈이죠~~\n",
              "..                           ...  ...                                                ...\n",
              "95           원빈처럼 잘생겨지는 법이 궁금합니다  ...  원빈처럼 잘생겨지는 법이 궁금합니다  안녕하세요, 남자 피부 좋아지는 법과 잘생겨지...\n",
              "96                원빈이헤어스타일대체머죠??  ...  원빈이머리너무마음에들어서할려고하는데이머리할려면미용... 즈 입니다 원빈 헤어스타일로...\n",
              "97        F.T.Island 원빈오빠 탈퇴해요??  ...  ... 오원빈오빠 탈퇴해요?? 사실인가요? 아니겠죠? 아니라고 말해줘요... 원빈오...\n",
              "98          진짜 궁금해서 그런데 원빈(님) 처럼  ...  진짜 궁금해서 그런데 원빈(님) 처럼 생기려면 성형비가 얼마정도 나올까요?? 안되는...\n",
              "99                   원빈이랑 데이트하는꿈  ...  원빈이 꿈에 제남자친구로나와 까페에서 데이트하는꿈을꿨는데요 의자에앉아있는데 원빈얼굴...\n",
              "\n",
              "[100 rows x 3 columns]"
            ]
          },
          "metadata": {
            "tags": []
          },
          "execution_count": 47
        }
      ]
    },
    {
      "cell_type": "code",
      "metadata": {
        "colab": {
          "base_uri": "https://localhost:8080/"
        },
        "id": "XKGJv3vtbcDM",
        "outputId": "4e1c05a1-9b67-4bc7-bc76-dd70b3c11d3c"
      },
      "source": [
        "kin_df['title'].head(10)"
      ],
      "execution_count": 53,
      "outputs": [
        {
          "output_type": "execute_result",
          "data": {
            "text/plain": [
              "0                    원빈 왜 작품 안할까여\n",
              "1    올젠 화보 원빈이 신은 슬립온 제품 알려주세요 ㅠㅠ\n",
              "2                 정조대왕의 원빈은 누구인가?\n",
              "3                     원빈이 잘생긴건가요?\n",
              "4             지창욱 원빈 탑 뷔 중에 누가 제일\n",
              "5                           뷔와 원빈\n",
              "6                       아무리 원빈이라도\n",
              "7                       원빈 vs 유준상\n",
              "8            원빈 촬영 안하까요? 드라마,영화 안\n",
              "9                    원빈도 피부 안좋으며ㆍ\n",
              "Name: title, dtype: object"
            ]
          },
          "metadata": {
            "tags": []
          },
          "execution_count": 53
        }
      ]
    },
    {
      "cell_type": "code",
      "metadata": {
        "colab": {
          "base_uri": "https://localhost:8080/",
          "height": 642
        },
        "id": "N9-Xl578bb7D",
        "outputId": "56238957-8dc0-4a54-d019-fdaa7f84a550"
      },
      "source": [
        "import re\n",
        "import json\n",
        "import pandas as pd\n",
        "import os\n",
        "import sys\n",
        "import urllib.request\n",
        "\n",
        "client_id = \"ICLySmj4JqvyIxIXFaeA\"\n",
        "client_secret = \"5aKcpxqGTZ\"\n",
        "\n",
        "query = urllib.parse.quote(input(\"검색어를 입력 하세요 : \"))\n",
        "cols = ['title', 'link', 'description', 'bloggername', 'bloggerlink' ]\n",
        "blog_df = pd.DataFrame(columns=cols)\n",
        "\n",
        "count = 0\n",
        "\n",
        "for i in range(1, 100, 10):\n",
        "    url = \"https://openapi.naver.com/v1/search/blog?query=\" + query \\\n",
        "    +'&display=' + str(10) + '&start=' + str(i) + '&sort=' +'sim'\n",
        "\n",
        "    request = urllib.request.Request(url)\n",
        "    request.add_header(\"X-Naver-Client-Id\",client_id)\n",
        "    request.add_header(\"X-Naver-Client-Secret\",client_secret)\n",
        "    response = urllib.request.urlopen(request)\n",
        "    rescode = response.getcode()\n",
        "\n",
        "    if(rescode==200):\n",
        "        response_body = response.read()\n",
        "        response_dict = json.loads(response_body.decode('utf-8'))\n",
        "        items = response_dict['items']\n",
        "\n",
        "        for j in range(0, len(items)):\n",
        "            p = re.compile('<.*?>')\n",
        "            title = re.sub(p, '', items[j]['title'])\n",
        "            link = items[j]['link']\n",
        "            description = re.sub(p, '', items[j]['description'])\n",
        "            blogger_name = items[j]['bloggername']\n",
        "            blogger_link = items[j]['bloggerlink']\n",
        "            blog_df.loc[count] = [title, link, description, blogger_name, blogger_link]\n",
        "            print(count, end = ' ')\n",
        "            count += 1\n",
        "\n",
        "\n",
        "    else:\n",
        "        print(\"Error Code:\" + rescode)\n",
        "\n",
        "blog_df"
      ],
      "execution_count": 56,
      "outputs": [
        {
          "output_type": "stream",
          "text": [
            "검색어를 입력 하세요 : 장어탕\n",
            "0 1 2 3 4 5 6 7 8 9 10 11 12 13 14 15 16 17 18 19 20 21 22 23 24 25 26 27 28 29 30 31 32 33 34 35 36 37 38 39 40 41 42 43 44 45 46 47 48 49 50 51 52 53 54 55 56 57 58 59 60 61 62 63 64 65 66 67 68 69 70 71 72 73 74 75 76 77 78 79 80 81 82 83 84 85 86 87 88 89 90 91 92 93 94 95 96 97 98 99 "
          ],
          "name": "stdout"
        },
        {
          "output_type": "execute_result",
          "data": {
            "text/html": [
              "<div>\n",
              "<style scoped>\n",
              "    .dataframe tbody tr th:only-of-type {\n",
              "        vertical-align: middle;\n",
              "    }\n",
              "\n",
              "    .dataframe tbody tr th {\n",
              "        vertical-align: top;\n",
              "    }\n",
              "\n",
              "    .dataframe thead th {\n",
              "        text-align: right;\n",
              "    }\n",
              "</style>\n",
              "<table border=\"1\" class=\"dataframe\">\n",
              "  <thead>\n",
              "    <tr style=\"text-align: right;\">\n",
              "      <th></th>\n",
              "      <th>title</th>\n",
              "      <th>link</th>\n",
              "      <th>description</th>\n",
              "      <th>bloggername</th>\n",
              "      <th>bloggerlink</th>\n",
              "    </tr>\n",
              "  </thead>\n",
              "  <tbody>\n",
              "    <tr>\n",
              "      <th>0</th>\n",
              "      <td>검암동맛집〕&amp;lt;THE기운센풍천장어&amp;gt;의 장어구이와 장어탕</td>\n",
              "      <td>https://blog.naver.com/kimrg?Redirect=Log&amp;logN...</td>\n",
              "      <td>장어이외에 장어탕 7,000/ 육개장 6,000/ 막국수(물,비빔)6,000/ 왕만...</td>\n",
              "      <td>검은돌의 하루하루</td>\n",
              "      <td>https://blog.naver.com/kimrg</td>\n",
              "    </tr>\n",
              "    <tr>\n",
              "      <th>1</th>\n",
              "      <td>[일산맛집] 일산장어맛집 장어미식가 그리고 황칠풍천장어탕</td>\n",
              "      <td>https://blog.naver.com/jiji375?Redirect=Log&amp;lo...</td>\n",
              "      <td>그때는 어려서 장어귀한 줄 모르고 심심하면 장어를 먹고, 장어탕을 질리도록 먹었던 ...</td>\n",
              "      <td>WONDER GARDEN</td>\n",
              "      <td>https://blog.naver.com/jiji375</td>\n",
              "    </tr>\n",
              "    <tr>\n",
              "      <th>2</th>\n",
              "      <td>일산 장어맛집 장어미식가 면역력에 좋은음식 황칠풍천장어탕...</td>\n",
              "      <td>https://blog.naver.com/belfry9?Redirect=Log&amp;lo...</td>\n",
              "      <td>개인 식판에 인쇄된 종이엔 황칠 풍천장어탕을 소개하고 있는데요 파우치에 포장된 장어...</td>\n",
              "      <td>구려가 보는 세상</td>\n",
              "      <td>https://blog.naver.com/belfry9</td>\n",
              "    </tr>\n",
              "    <tr>\n",
              "      <th>3</th>\n",
              "      <td>풍미가 색달랐던 여수 장어탕 맛집</td>\n",
              "      <td>https://blog.naver.com/soojin0252?Redirect=Log...</td>\n",
              "      <td>지난 주에는 드라이브 겸 본가에 들렸다가 돌아오는 길에 여수 장어탕 맛집에서 식사를...</td>\n",
              "      <td>지니랜드</td>\n",
              "      <td>https://blog.naver.com/soojin0252</td>\n",
              "    </tr>\n",
              "    <tr>\n",
              "      <th>4</th>\n",
              "      <td>일산 장어맛집 장어미식가 황칠풍천장어탕까지</td>\n",
              "      <td>https://blog.naver.com/im_lime?Redirect=Log&amp;lo...</td>\n",
              "      <td>황칠풍천장어탕도 지원하였고 노인의료나눔을 실천하고 계신 모습을 볼 수 있었다 예전에...</td>\n",
              "      <td>달달한 꿀로그♡</td>\n",
              "      <td>https://blog.naver.com/im_lime</td>\n",
              "    </tr>\n",
              "    <tr>\n",
              "      <th>...</th>\n",
              "      <td>...</td>\n",
              "      <td>...</td>\n",
              "      <td>...</td>\n",
              "      <td>...</td>\n",
              "      <td>...</td>\n",
              "    </tr>\n",
              "    <tr>\n",
              "      <th>95</th>\n",
              "      <td>수성구 밥집, 보양식으로 장어탕 맛나고 푸짐해요!!</td>\n",
              "      <td>https://blog.naver.com/herbalmam?Redirect=Log&amp;...</td>\n",
              "      <td>수성구 밥집 점심 한 끼 해결하는 데 점심도 보양식으로 장어탕 소개해드릴게요... ...</td>\n",
              "      <td>멋쟁이엄마</td>\n",
              "      <td>https://blog.naver.com/herbalmam</td>\n",
              "    </tr>\n",
              "    <tr>\n",
              "      <th>96</th>\n",
              "      <td>민물장어탕</td>\n",
              "      <td>https://blog.daum.net/dddss95/16512810</td>\n",
              "      <td>며칠동안 장어탕을 아주 맛있게 먹을 수 있는 비결을 찾았습니다. 강화도에 있는 장어...</td>\n",
              "      <td>jaye</td>\n",
              "      <td>https://blog.daum.net/dddss95</td>\n",
              "    </tr>\n",
              "    <tr>\n",
              "      <th>97</th>\n",
              "      <td>참장어탕, 맛기행사계절, 당산동</td>\n",
              "      <td>https://zoominsky.com/1778?category=29250</td>\n",
              "      <td>728x90 참장어탕 혹은 일본어로는 아나고탕이라고 한다. 어렸을 때 어머니는 아나...</td>\n",
              "      <td>Zoominsky</td>\n",
              "      <td>https://zoominsky.com/</td>\n",
              "    </tr>\n",
              "    <tr>\n",
              "      <th>98</th>\n",
              "      <td>해촌산장어숯불구이 장어구이, 장어탕</td>\n",
              "      <td>https://blog.daum.net/yeokago/707</td>\n",
              "      <td>나중에 밥을 먹는 시간에 후식 장어탕은 사이즈가 작다고 하는데 원래 양 2인분을 시...</td>\n",
              "      <td>애니와일기</td>\n",
              "      <td>https://blog.daum.net/yeokago</td>\n",
              "    </tr>\n",
              "    <tr>\n",
              "      <th>99</th>\n",
              "      <td>수성못근처 맛집,삼수장어,장어탕,장어구이</td>\n",
              "      <td>https://blog.daum.net/1953son/1316</td>\n",
              "      <td>수성못근처 맛집,삼수장어,장어탕,장어구이 댓글 4 대구 맛집 이야기 2020. 6....</td>\n",
              "      <td>공간여행</td>\n",
              "      <td>https://blog.daum.net/1953son</td>\n",
              "    </tr>\n",
              "  </tbody>\n",
              "</table>\n",
              "<p>100 rows × 5 columns</p>\n",
              "</div>"
            ],
            "text/plain": [
              "                                  title  ...                        bloggerlink\n",
              "0   검암동맛집〕&lt;THE기운센풍천장어&gt;의 장어구이와 장어탕  ...       https://blog.naver.com/kimrg\n",
              "1       [일산맛집] 일산장어맛집 장어미식가 그리고 황칠풍천장어탕  ...     https://blog.naver.com/jiji375\n",
              "2   일산 장어맛집 장어미식가 면역력에 좋은음식 황칠풍천장어탕...   ...     https://blog.naver.com/belfry9\n",
              "3                    풍미가 색달랐던 여수 장어탕 맛집  ...  https://blog.naver.com/soojin0252\n",
              "4               일산 장어맛집 장어미식가 황칠풍천장어탕까지  ...     https://blog.naver.com/im_lime\n",
              "..                                  ...  ...                                ...\n",
              "95         수성구 밥집, 보양식으로 장어탕 맛나고 푸짐해요!!  ...   https://blog.naver.com/herbalmam\n",
              "96                                민물장어탕  ...      https://blog.daum.net/dddss95\n",
              "97                    참장어탕, 맛기행사계절, 당산동  ...             https://zoominsky.com/\n",
              "98                  해촌산장어숯불구이 장어구이, 장어탕  ...      https://blog.daum.net/yeokago\n",
              "99               수성못근처 맛집,삼수장어,장어탕,장어구이  ...      https://blog.daum.net/1953son\n",
              "\n",
              "[100 rows x 5 columns]"
            ]
          },
          "metadata": {
            "tags": []
          },
          "execution_count": 56
        }
      ]
    }
  ]
}